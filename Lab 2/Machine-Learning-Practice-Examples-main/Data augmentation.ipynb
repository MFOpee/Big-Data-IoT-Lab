{
  "nbformat": 4,
  "nbformat_minor": 0,
  "metadata": {
    "colab": {
      "name": "Untitled6.ipynb",
      "provenance": [],
      "toc_visible": true
    },
    "kernelspec": {
      "name": "python3",
      "display_name": "Python 3"
    }
  },
  "cells": [
    {
      "cell_type": "code",
      "metadata": {
        "id": "449_Yw-VtvjS"
      },
      "source": [
        "from keras.preprocessing.image import ImageDataGenerator, array_to_img, img_to_array, load_img\r\n",
        "\r\n",
        "datagen = ImageDataGenerator(\r\n",
        "        rotation_range=40,\r\n",
        "        width_shift_range=0.2,\r\n",
        "        height_shift_range=0.2,\r\n",
        "        shear_range=0.2,\r\n",
        "        zoom_range=0.2,\r\n",
        "        horizontal_flip=True,\r\n",
        "        fill_mode='nearest')\r\n",
        "\r\n",
        "img = load_img('/content/hbd.jpg')  # this is a PIL image\r\n",
        "x = img_to_array(img)  # this is a Numpy array with shape (3, 150, 150)\r\n",
        "x = x.reshape((1,) + x.shape)  # this is a Numpy array with shape (1, 3, 150, 150)\r\n",
        "\r\n",
        "# the .flow() command below generates batches of randomly transformed images\r\n",
        "# and saves the results to the `preview/` directory\r\n",
        "i = 0\r\n",
        "for batch in datagen.flow(x, batch_size=1,\r\n",
        "                          save_to_dir='/bin/Untitled Folder', save_prefix='cake', save_format='jpeg'):\r\n",
        "    i += 1\r\n",
        "    if i > 20:\r\n",
        "        break  # otherwise the generator would loop indefinitely"
      ],
      "execution_count": 4,
      "outputs": []
    }
  ]
}