{
 "cells": [
  {
   "cell_type": "code",
   "execution_count": 136,
   "metadata": {
    "button": false,
    "new_sheet": false,
    "run_control": {
     "read_only": false
    }
   },
   "outputs": [],
   "source": [
    "\n",
    "import numpy as np\n",
    "import matplotlib.pyplot as plt\n",
    "import pandas as pd\n",
    "from sklearn import preprocessing\n",
    "%matplotlib inline"
   ]
  },
  {
   "cell_type": "code",
   "execution_count": 137,
   "metadata": {},
   "outputs": [],
   "source": [
    "d = pd.read_csv('abc.csv')\n"
   ]
  },
  {
   "cell_type": "code",
   "execution_count": 138,
   "metadata": {},
   "outputs": [
    {
     "data": {
      "text/html": [
       "<div>\n",
       "<style scoped>\n",
       "    .dataframe tbody tr th:only-of-type {\n",
       "        vertical-align: middle;\n",
       "    }\n",
       "\n",
       "    .dataframe tbody tr th {\n",
       "        vertical-align: top;\n",
       "    }\n",
       "\n",
       "    .dataframe thead th {\n",
       "        text-align: right;\n",
       "    }\n",
       "</style>\n",
       "<table border=\"1\" class=\"dataframe\">\n",
       "  <thead>\n",
       "    <tr style=\"text-align: right;\">\n",
       "      <th></th>\n",
       "      <th>region</th>\n",
       "      <th>tenure</th>\n",
       "      <th>age</th>\n",
       "      <th>marital</th>\n",
       "      <th>address</th>\n",
       "      <th>income</th>\n",
       "      <th>ed</th>\n",
       "      <th>employ</th>\n",
       "      <th>retire</th>\n",
       "      <th>gender</th>\n",
       "      <th>reside</th>\n",
       "      <th>custcat</th>\n",
       "    </tr>\n",
       "  </thead>\n",
       "  <tbody>\n",
       "    <tr>\n",
       "      <th>0</th>\n",
       "      <td>2</td>\n",
       "      <td>13</td>\n",
       "      <td>44</td>\n",
       "      <td>1</td>\n",
       "      <td>9</td>\n",
       "      <td>64.0</td>\n",
       "      <td>4</td>\n",
       "      <td>5</td>\n",
       "      <td>0.0</td>\n",
       "      <td>0</td>\n",
       "      <td>2</td>\n",
       "      <td>1</td>\n",
       "    </tr>\n",
       "    <tr>\n",
       "      <th>1</th>\n",
       "      <td>3</td>\n",
       "      <td>11</td>\n",
       "      <td>33</td>\n",
       "      <td>1</td>\n",
       "      <td>7</td>\n",
       "      <td>136.0</td>\n",
       "      <td>5</td>\n",
       "      <td>5</td>\n",
       "      <td>0.0</td>\n",
       "      <td>0</td>\n",
       "      <td>6</td>\n",
       "      <td>4</td>\n",
       "    </tr>\n",
       "    <tr>\n",
       "      <th>2</th>\n",
       "      <td>3</td>\n",
       "      <td>68</td>\n",
       "      <td>52</td>\n",
       "      <td>1</td>\n",
       "      <td>24</td>\n",
       "      <td>116.0</td>\n",
       "      <td>1</td>\n",
       "      <td>29</td>\n",
       "      <td>0.0</td>\n",
       "      <td>1</td>\n",
       "      <td>2</td>\n",
       "      <td>3</td>\n",
       "    </tr>\n",
       "    <tr>\n",
       "      <th>3</th>\n",
       "      <td>2</td>\n",
       "      <td>33</td>\n",
       "      <td>33</td>\n",
       "      <td>0</td>\n",
       "      <td>12</td>\n",
       "      <td>33.0</td>\n",
       "      <td>2</td>\n",
       "      <td>0</td>\n",
       "      <td>0.0</td>\n",
       "      <td>1</td>\n",
       "      <td>1</td>\n",
       "      <td>1</td>\n",
       "    </tr>\n",
       "    <tr>\n",
       "      <th>4</th>\n",
       "      <td>2</td>\n",
       "      <td>23</td>\n",
       "      <td>30</td>\n",
       "      <td>1</td>\n",
       "      <td>9</td>\n",
       "      <td>30.0</td>\n",
       "      <td>1</td>\n",
       "      <td>2</td>\n",
       "      <td>0.0</td>\n",
       "      <td>0</td>\n",
       "      <td>4</td>\n",
       "      <td>3</td>\n",
       "    </tr>\n",
       "  </tbody>\n",
       "</table>\n",
       "</div>"
      ],
      "text/plain": [
       "   region  tenure  age  marital  address  income  ed  employ  retire  gender  \\\n",
       "0       2      13   44        1        9    64.0   4       5     0.0       0   \n",
       "1       3      11   33        1        7   136.0   5       5     0.0       0   \n",
       "2       3      68   52        1       24   116.0   1      29     0.0       1   \n",
       "3       2      33   33        0       12    33.0   2       0     0.0       1   \n",
       "4       2      23   30        1        9    30.0   1       2     0.0       0   \n",
       "\n",
       "   reside  custcat  \n",
       "0       2        1  \n",
       "1       6        4  \n",
       "2       2        3  \n",
       "3       1        1  \n",
       "4       4        3  "
      ]
     },
     "execution_count": 138,
     "metadata": {},
     "output_type": "execute_result"
    }
   ],
   "source": [
    "d.head()"
   ]
  },
  {
   "cell_type": "code",
   "execution_count": 139,
   "metadata": {},
   "outputs": [
    {
     "data": {
      "text/plain": [
       "(1000, 12)"
      ]
     },
     "execution_count": 139,
     "metadata": {},
     "output_type": "execute_result"
    }
   ],
   "source": [
    "d.shape"
   ]
  },
  {
   "cell_type": "code",
   "execution_count": 140,
   "metadata": {},
   "outputs": [
    {
     "data": {
      "text/plain": [
       "region     0\n",
       "tenure     0\n",
       "age        0\n",
       "marital    0\n",
       "address    0\n",
       "income     0\n",
       "ed         0\n",
       "employ     0\n",
       "retire     0\n",
       "gender     0\n",
       "reside     0\n",
       "custcat    0\n",
       "dtype: int64"
      ]
     },
     "execution_count": 140,
     "metadata": {},
     "output_type": "execute_result"
    }
   ],
   "source": [
    "d.isnull().sum()"
   ]
  },
  {
   "cell_type": "code",
   "execution_count": 141,
   "metadata": {},
   "outputs": [
    {
     "data": {
      "text/plain": [
       "Index(['region', 'tenure', 'age', 'marital', 'address', 'income', 'ed',\n",
       "       'employ', 'retire', 'gender', 'reside', 'custcat'],\n",
       "      dtype='object')"
      ]
     },
     "execution_count": 141,
     "metadata": {},
     "output_type": "execute_result"
    }
   ],
   "source": [
    "d.columns"
   ]
  },
  {
   "cell_type": "code",
   "execution_count": 142,
   "metadata": {},
   "outputs": [],
   "source": [
    "#Preprocessing for standardization\n",
    "#X = preprocessing.StandardScaler().fit(X).transform(X.astype(float))"
   ]
  },
  {
   "cell_type": "code",
   "execution_count": 143,
   "metadata": {},
   "outputs": [],
   "source": [
    "dX=d.drop(['custcat'],axis=1)"
   ]
  },
  {
   "cell_type": "code",
   "execution_count": 144,
   "metadata": {},
   "outputs": [
    {
     "data": {
      "text/plain": [
       "3    281\n",
       "1    266\n",
       "4    236\n",
       "2    217\n",
       "Name: custcat, dtype: int64"
      ]
     },
     "execution_count": 144,
     "metadata": {},
     "output_type": "execute_result"
    }
   ],
   "source": [
    "#target variable\n",
    "d['custcat'].value_counts()"
   ]
  },
  {
   "cell_type": "code",
   "execution_count": 145,
   "metadata": {},
   "outputs": [
    {
     "data": {
      "text/plain": [
       "0      1\n",
       "1      4\n",
       "2      3\n",
       "3      1\n",
       "4      3\n",
       "      ..\n",
       "995    1\n",
       "996    1\n",
       "997    4\n",
       "998    3\n",
       "999    2\n",
       "Name: custcat, Length: 1000, dtype: int64"
      ]
     },
     "execution_count": 145,
     "metadata": {},
     "output_type": "execute_result"
    }
   ],
   "source": [
    "y= d['custcat']\n",
    "y"
   ]
  },
  {
   "cell_type": "code",
   "execution_count": 154,
   "metadata": {},
   "outputs": [
    {
     "data": {
      "text/plain": [
       "<AxesSubplot:xlabel='custcat', ylabel='count'>"
      ]
     },
     "execution_count": 154,
     "metadata": {},
     "output_type": "execute_result"
    },
    {
     "data": {
      "image/png": "[encoded data removed]",
      "text/plain": [
       "<Figure size 432x288 with 1 Axes>"
      ]
     },
     "metadata": {
      "needs_background": "light"
     },
     "output_type": "display_data"
    }
   ],
   "source": [
    "import seaborn\n",
    "seaborn.countplot(d['custcat'])"
   ]
  },
  {
   "cell_type": "code",
   "execution_count": 146,
   "metadata": {},
   "outputs": [
    {
     "data": {
      "text/html": [
       "<div>\n",
       "<style scoped>\n",
       "    .dataframe tbody tr th:only-of-type {\n",
       "        vertical-align: middle;\n",
       "    }\n",
       "\n",
       "    .dataframe tbody tr th {\n",
       "        vertical-align: top;\n",
       "    }\n",
       "\n",
       "    .dataframe thead th {\n",
       "        text-align: right;\n",
       "    }\n",
       "</style>\n",
       "<table border=\"1\" class=\"dataframe\">\n",
       "  <thead>\n",
       "    <tr style=\"text-align: right;\">\n",
       "      <th></th>\n",
       "      <th>0</th>\n",
       "    </tr>\n",
       "  </thead>\n",
       "  <tbody>\n",
       "    <tr>\n",
       "      <th>0</th>\n",
       "      <td>1.094872</td>\n",
       "    </tr>\n",
       "    <tr>\n",
       "      <th>1</th>\n",
       "      <td>41.310054</td>\n",
       "    </tr>\n",
       "    <tr>\n",
       "      <th>2</th>\n",
       "      <td>7.521435</td>\n",
       "    </tr>\n",
       "    <tr>\n",
       "      <th>3</th>\n",
       "      <td>3.499510</td>\n",
       "    </tr>\n",
       "    <tr>\n",
       "      <th>4</th>\n",
       "      <td>8.432945</td>\n",
       "    </tr>\n",
       "    <tr>\n",
       "      <th>5</th>\n",
       "      <td>6.689390</td>\n",
       "    </tr>\n",
       "    <tr>\n",
       "      <th>6</th>\n",
       "      <td>61.454293</td>\n",
       "    </tr>\n",
       "    <tr>\n",
       "      <th>7</th>\n",
       "      <td>16.975725</td>\n",
       "    </tr>\n",
       "    <tr>\n",
       "      <th>8</th>\n",
       "      <td>3.004734</td>\n",
       "    </tr>\n",
       "    <tr>\n",
       "      <th>9</th>\n",
       "      <td>0.373014</td>\n",
       "    </tr>\n",
       "    <tr>\n",
       "      <th>10</th>\n",
       "      <td>3.976499</td>\n",
       "    </tr>\n",
       "  </tbody>\n",
       "</table>\n",
       "</div>"
      ],
      "text/plain": [
       "            0\n",
       "0    1.094872\n",
       "1   41.310054\n",
       "2    7.521435\n",
       "3    3.499510\n",
       "4    8.432945\n",
       "5    6.689390\n",
       "6   61.454293\n",
       "7   16.975725\n",
       "8    3.004734\n",
       "9    0.373014\n",
       "10   3.976499"
      ]
     },
     "execution_count": 146,
     "metadata": {},
     "output_type": "execute_result"
    }
   ],
   "source": [
    "#Feature Selection\n",
    "from sklearn.feature_selection import SelectKBest\n",
    "from sklearn.feature_selection import f_classif\n",
    "test = SelectKBest(score_func= f_classif, k=4)\n",
    "test.fit(dX,y)\n",
    "pd.DataFrame(test.scores_)"
   ]
  },
  {
   "cell_type": "code",
   "execution_count": 147,
   "metadata": {},
   "outputs": [],
   "source": [
    "X=d[['marital','gender','reside','tenure', 'age', 'address', 'income', 'ed','employ']]"
   ]
  },
  {
   "cell_type": "code",
   "execution_count": 148,
   "metadata": {},
   "outputs": [],
   "source": [
    "#Import knearest neighbors Classifier model\n",
    "from sklearn.neighbors import KNeighborsClassifier\n",
    "\n",
    "#Create KNN Classifier\n",
    "knn = KNeighborsClassifier(n_neighbors=31)"
   ]
  },
  {
   "cell_type": "code",
   "execution_count": 149,
   "metadata": {},
   "outputs": [
    {
     "data": {
      "text/plain": [
       "KNeighborsClassifier(algorithm='auto', leaf_size=30, metric='minkowski',\n",
       "           metric_params=None, n_jobs=None, n_neighbors=31, p=2,\n",
       "           weights='uniform')"
      ]
     },
     "execution_count": 149,
     "metadata": {},
     "output_type": "execute_result"
    }
   ],
   "source": [
    "#Train the model using the training sets\n",
    "knn.fit(X, y)"
   ]
  },
  {
   "cell_type": "code",
   "execution_count": 155,
   "metadata": {},
   "outputs": [
    {
     "data": {
      "text/plain": [
       "array([1, 1, 3, 2, 1, 3, 2, 4, 3, 3, 4, 1, 1, 2, 1, 4, 3, 1, 1, 4, 1, 3,\n",
       "       2, 3, 1, 1, 1, 1, 1, 1, 2, 3, 3, 1, 2, 1, 3, 3, 1, 3, 1, 1, 1, 1,\n",
       "       3, 2, 3, 2, 1, 1, 3, 2, 1, 1, 2, 1, 2, 3, 1, 2, 2, 3, 1, 3, 3, 3,\n",
       "       1, 2, 3, 1, 1, 1, 1, 2, 3, 1, 4, 1, 3, 4, 4, 1, 1, 3, 3, 3, 1, 2,\n",
       "       1, 4, 1, 2, 2, 4, 1, 1, 1, 3, 3, 3, 1, 4, 1, 1, 3, 1, 1, 4, 1, 2,\n",
       "       3, 2, 1, 2, 4, 1, 1, 2, 3, 1, 3, 1, 1, 1, 1, 2, 3, 1, 1, 3, 3, 1,\n",
       "       3, 2, 2, 1, 4, 1, 3, 4, 1, 3, 2, 2, 1, 4, 1, 2, 3, 2, 1, 2, 3, 3,\n",
       "       4, 1, 4, 3, 1, 3, 4, 3, 3, 3, 3, 3, 2, 1, 1, 3, 3, 1, 4, 1, 4, 1,\n",
       "       3, 2, 2, 1, 3, 1, 1, 2, 3, 3, 1, 3, 2, 3, 3, 1, 1, 2, 1, 1, 1, 3,\n",
       "       1, 3, 4, 4, 2, 4, 4, 4, 2, 1, 3, 2, 4, 4, 3, 2, 4, 4, 2, 2, 3, 3,\n",
       "       1, 1, 3, 1, 1, 3, 1, 3, 1, 3, 1, 3, 3, 1, 2, 2, 2, 3, 1, 3, 2, 3,\n",
       "       3, 2, 1, 2, 2, 1, 3, 3, 1, 3, 2, 3, 1, 1, 3, 3, 4, 1, 3, 1, 3, 3,\n",
       "       3, 2, 1, 3, 1, 1, 1, 2, 3, 3, 3, 2, 3, 3, 2, 1, 2, 4, 1, 3, 2, 1,\n",
       "       3, 1, 1, 4, 1, 2, 1, 1, 3, 3, 3, 3, 4, 4, 2, 1, 2, 3, 1, 1, 1, 1,\n",
       "       2, 2, 1, 3, 4, 1, 3, 1, 1, 1, 1, 1, 3, 3, 1, 4, 1, 3, 4, 2, 1, 1,\n",
       "       3, 2, 1, 1, 3, 3, 3, 1, 1, 3, 1, 4, 3, 3, 3, 1, 1, 3, 2, 4, 3, 3,\n",
       "       1, 1, 1, 3, 3, 1, 3, 3, 3, 1, 1, 2, 4, 2, 4, 2, 3, 4, 2, 3, 3, 1,\n",
       "       1, 3, 4, 4, 2, 1, 1, 1, 2, 2, 2, 3, 1, 2, 1, 2, 3, 3, 2, 2, 2, 4,\n",
       "       3, 3, 3, 3, 1, 3, 2, 1, 3, 2, 4, 3, 2, 3, 2, 1, 1, 3, 3, 2, 4, 3,\n",
       "       1, 1, 1, 4, 4, 1, 4, 3, 3, 3, 1, 3, 1, 3, 1, 3, 1, 4, 2, 3, 3, 4,\n",
       "       3, 1, 3, 1, 2, 2, 3, 2, 3, 1, 2, 1, 1, 2, 3, 1, 1, 4, 4, 3, 1, 4,\n",
       "       1, 3, 1, 3, 3, 1, 3, 1, 1, 1, 1, 1, 2, 4, 2, 1, 1, 3, 1, 1, 4, 1,\n",
       "       1, 1, 3, 3, 2, 1, 1, 1, 1, 4, 3, 4, 1, 2, 1, 1, 1, 2, 1, 1, 1, 3,\n",
       "       1, 1, 4, 4, 4, 3, 2, 1, 1, 1, 1, 1, 4, 3, 4, 2, 3, 1, 3, 3, 3, 4,\n",
       "       2, 3, 1, 1, 3, 1, 2, 4, 2, 2, 4, 3, 2, 1, 1, 1, 4, 4, 3, 2, 1, 1,\n",
       "       2, 4, 2, 4, 1, 2, 1, 1, 2, 4, 3, 4, 4, 4, 3, 1, 3, 1, 1, 1, 1, 2,\n",
       "       3, 1, 1, 1, 1, 1, 1, 1, 1, 2, 3, 3, 3, 3, 1, 1, 3, 3, 3, 1, 3, 4,\n",
       "       1, 1, 1, 1, 4, 1, 1, 1, 4, 1, 3, 3, 3, 4, 1, 4, 1, 3, 1, 3, 3, 1,\n",
       "       1, 3, 2, 2, 4, 3, 1, 3, 4, 3, 1, 2, 2, 1, 2, 3, 3, 1, 1, 4, 2, 1,\n",
       "       3, 3, 4, 1, 1, 1, 2, 1, 1, 1, 1, 1, 1, 2, 3, 1, 1, 2, 1, 4, 2, 1,\n",
       "       3, 2, 1, 3, 4, 3, 1, 1, 1, 2, 3, 3, 2, 1, 2, 3, 3, 1, 3, 4, 3, 2,\n",
       "       3, 3, 3, 4, 2, 1, 2, 2, 2, 3, 1, 1, 1, 2, 1, 3, 4, 1, 3, 2, 3, 3,\n",
       "       1, 2, 1, 2, 2, 4, 2, 1, 3, 2, 1, 3, 3, 1, 3, 4, 1, 1, 1, 4, 2, 3,\n",
       "       2, 1, 1, 1, 1, 1, 4, 3, 4, 2, 1, 1, 3, 1, 1, 3, 3, 1, 2, 4, 2, 2,\n",
       "       3, 1, 3, 2, 1, 1, 2, 3, 3, 1, 3, 1, 1, 1, 1, 1, 2, 3, 3, 1, 3, 3,\n",
       "       1, 1, 4, 1, 3, 2, 1, 4, 1, 1, 1, 1, 1, 2, 2, 1, 1, 2, 4, 2, 3, 3,\n",
       "       3, 1, 1, 4, 3, 1, 3, 3, 2, 3, 1, 3, 3, 3, 4, 4, 3, 3, 3, 1, 1, 2,\n",
       "       1, 3, 1, 3, 1, 3, 1, 3, 4, 1, 1, 3, 1, 3, 1, 1, 1, 2, 3, 1, 3, 1,\n",
       "       3, 4, 3, 2, 1, 2, 1, 1, 3, 1, 1, 1, 4, 3, 2, 4, 2, 1, 2, 2, 1, 4,\n",
       "       2, 1, 4, 4, 4, 3, 2, 1, 1, 1, 1, 2, 4, 3, 1, 2, 1, 2, 1, 1, 1, 2,\n",
       "       2, 3, 3, 2, 1, 3, 1, 1, 1, 1, 3, 2, 3, 1, 2, 1, 3, 3, 1, 1, 4, 4,\n",
       "       2, 2, 1, 1, 2, 2, 1, 1, 1, 4, 2, 1, 3, 3, 3, 3, 3, 3, 1, 4, 3, 2,\n",
       "       4, 4, 3, 2, 3, 3, 3, 3, 1, 2, 1, 3, 1, 3, 1, 1, 1, 3, 2, 3, 3, 4,\n",
       "       3, 3, 1, 1, 1, 2, 1, 1, 4, 3, 1, 1, 3, 3, 1, 1, 4, 4, 1, 2, 1, 4,\n",
       "       1, 3, 2, 1, 3, 3, 3, 4, 3, 2, 1, 3, 1, 1, 1, 1, 1, 1, 1, 1, 2, 3,\n",
       "       3, 3, 1, 1, 1, 1, 1, 3, 3, 2])"
      ]
     },
     "execution_count": 155,
     "metadata": {},
     "output_type": "execute_result"
    }
   ],
   "source": [
    "pred=knn.predict(X)\n",
    "pred"
   ]
  },
  {
   "cell_type": "code",
   "execution_count": 156,
   "metadata": {},
   "outputs": [
    {
     "data": {
      "text/plain": [
       "(1000,)"
      ]
     },
     "execution_count": 156,
     "metadata": {},
     "output_type": "execute_result"
    }
   ],
   "source": [
    "#Predict the response for test dataset\n",
    "knn.predict(X).shape"
   ]
  },
  {
   "cell_type": "code",
   "execution_count": 157,
   "metadata": {},
   "outputs": [
    {
     "data": {
      "text/plain": [
       "0.424"
      ]
     },
     "execution_count": 157,
     "metadata": {},
     "output_type": "execute_result"
    }
   ],
   "source": [
    "knn.score(X,y)"
   ]
  },
  {
   "cell_type": "code",
   "execution_count": 159,
   "metadata": {},
   "outputs": [],
   "source": [
    "#Model evaluation\n",
    "from sklearn.metrics import accuracy_score,confusion_matrix\n",
    "from sklearn.metrics import classification_report"
   ]
  },
  {
   "cell_type": "code",
   "execution_count": 161,
   "metadata": {},
   "outputs": [
    {
     "data": {
      "text/plain": [
       "0.424"
      ]
     },
     "execution_count": 161,
     "metadata": {},
     "output_type": "execute_result"
    }
   ],
   "source": [
    "accuracy_score(y,pred)"
   ]
  },
  {
   "cell_type": "code",
   "execution_count": 162,
   "metadata": {},
   "outputs": [
    {
     "data": {
      "text/plain": [
       "array([[168,  23,  54,  21],\n",
       "       [ 60,  76,  60,  21],\n",
       "       [ 95,  42, 122,  22],\n",
       "       [ 75,  40,  63,  58]])"
      ]
     },
     "execution_count": 162,
     "metadata": {},
     "output_type": "execute_result"
    }
   ],
   "source": [
    "confusion_matrix(y,pred)"
   ]
  },
  {
   "cell_type": "code",
   "execution_count": 160,
   "metadata": {},
   "outputs": [
    {
     "data": {
      "text/plain": [
       "Text(0.5, 257.44, 'Predicted label')"
      ]
     },
     "execution_count": 160,
     "metadata": {},
     "output_type": "execute_result"
    },
    {
     "data": {
      "image/png": "[encoded data removed]",
      "text/plain": [
       "<Figure size 432x288 with 2 Axes>"
      ]
     },
     "metadata": {
      "needs_background": "light"
     },
     "output_type": "display_data"
    }
   ],
   "source": [
    "%matplotlib inline\n",
    "\n",
    "class_names=[0,1] # name  of classes\n",
    "fig, ax = plt.subplots()\n",
    "tick_marks = np.arange(len(class_names))\n",
    "plt.xticks(tick_marks, class_names)\n",
    "plt.yticks(tick_marks, class_names)\n",
    "# create heatmap\n",
    "seaborn.heatmap(pd.DataFrame(confusion_matrix(y,pred)), annot=True, cmap=\"YlGnBu\" ,fmt='g')\n",
    "ax.xaxis.set_label_position(\"top\")\n",
    "plt.tight_layout()\n",
    "plt.title('Confusion matrix', y=1.1)\n",
    "plt.ylabel('Actual label')\n",
    "plt.xlabel('Predicted label')"
   ]
  },
  {
   "cell_type": "code",
   "execution_count": 163,
   "metadata": {},
   "outputs": [
    {
     "name": "stdout",
     "output_type": "stream",
     "text": [
      "              precision    recall  f1-score   support\n",
      "\n",
      "           1       0.42      0.63      0.51       266\n",
      "           2       0.42      0.35      0.38       217\n",
      "           3       0.41      0.43      0.42       281\n",
      "           4       0.48      0.25      0.32       236\n",
      "\n",
      "   micro avg       0.42      0.42      0.42      1000\n",
      "   macro avg       0.43      0.42      0.41      1000\n",
      "weighted avg       0.43      0.42      0.41      1000\n",
      "\n"
     ]
    }
   ],
   "source": [
    "print(classification_report(y,pred))"
   ]
  },
  {
   "cell_type": "code",
   "execution_count": null,
   "metadata": {},
   "outputs": [],
   "source": []
  }
 ],
 "metadata": {
  "kernelspec": {
   "display_name": "Python",
   "language": "python",
   "name": "conda-env-python-py"
  },
  "language_info": {
   "codemirror_mode": {
    "name": "ipython",
    "version": 3
   },
   "file_extension": ".py",
   "mimetype": "text/x-python",
   "name": "python",
   "nbconvert_exporter": "python",
   "pygments_lexer": "ipython3",
   "version": "3.6.12"
  }
 },
 "nbformat": 4,
 "nbformat_minor": 4
}
