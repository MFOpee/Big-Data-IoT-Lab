{
  "nbformat": 4,
  "nbformat_minor": 0,
  "metadata": {
    "colab": {
      "provenance": []
    },
    "kernelspec": {
      "name": "python3",
      "display_name": "Python 3"
    },
    "language_info": {
      "name": "python"
    }
  },
  "cells": [
    {
      "cell_type": "markdown",
      "source": [
        "**1. Comments**"
      ],
      "metadata": {
        "id": "g3YCO7EFEe7s"
      }
    },
    {
      "cell_type": "code",
      "source": [
        "#This is a comment\n",
        "print(\"Hello, World!\")"
      ],
      "metadata": {
        "colab": {
          "base_uri": "https://localhost:8080/"
        },
        "id": "agZ8M0YmEg-q",
        "outputId": "8d01ad03-ebad-48b9-fbc3-2851684c371f"
      },
      "execution_count": 1,
      "outputs": [
        {
          "output_type": "stream",
          "name": "stdout",
          "text": [
            "Hello, World!\n"
          ]
        }
      ]
    },
    {
      "cell_type": "markdown",
      "source": [
        "Comments can be placed at the end of a line, and Python will ignore the rest of the line:"
      ],
      "metadata": {
        "id": "QmlONMvfEi6e"
      }
    },
    {
      "cell_type": "code",
      "source": [
        "print(\"Hello, World!\") #This is a comment"
      ],
      "metadata": {
        "colab": {
          "base_uri": "https://localhost:8080/"
        },
        "id": "XlqZVxaBEkHQ",
        "outputId": "462e6c32-5b9c-4178-eb17-1d4f4f45b19d"
      },
      "execution_count": 2,
      "outputs": [
        {
          "output_type": "stream",
          "name": "stdout",
          "text": [
            "Hello, World!\n"
          ]
        }
      ]
    },
    {
      "cell_type": "markdown",
      "source": [
        "A comment does not have to be text that explains the code, it can also be used to prevent Python from executing code:"
      ],
      "metadata": {
        "id": "tRXzd4ZLElVc"
      }
    },
    {
      "cell_type": "code",
      "source": [
        "#print(\"Hello, World!\")\n",
        "print(\"Cheers, Mate!\")"
      ],
      "metadata": {
        "colab": {
          "base_uri": "https://localhost:8080/"
        },
        "id": "er1emyIxEmmW",
        "outputId": "a291cc31-2add-402c-c666-cbca173244bb"
      },
      "execution_count": 3,
      "outputs": [
        {
          "output_type": "stream",
          "name": "stdout",
          "text": [
            "Cheers, Mate!\n"
          ]
        }
      ]
    },
    {
      "cell_type": "markdown",
      "source": [
        "Multiline Comments"
      ],
      "metadata": {
        "id": "Je-xE6WzEsR2"
      }
    },
    {
      "cell_type": "code",
      "source": [
        "#This is a comment\n",
        "#written in\n",
        "#more than just one line\n",
        "print(\"Hello, World!\")"
      ],
      "metadata": {
        "colab": {
          "base_uri": "https://localhost:8080/"
        },
        "id": "H-sTqAKhEtL4",
        "outputId": "118563f6-5a2b-4790-a3ba-0022c3e6f254"
      },
      "execution_count": 4,
      "outputs": [
        {
          "output_type": "stream",
          "name": "stdout",
          "text": [
            "Hello, World!\n"
          ]
        }
      ]
    },
    {
      "cell_type": "code",
      "source": [
        "\"\"\"\n",
        "This is a comment\n",
        "written in\n",
        "more than just one line\n",
        "\"\"\"\n",
        "print(\"Hello, World!\")"
      ],
      "metadata": {
        "colab": {
          "base_uri": "https://localhost:8080/"
        },
        "id": "DwgPwmFYEwiw",
        "outputId": "b018abb8-4eaf-4194-f5ac-1994e83512b2"
      },
      "execution_count": 5,
      "outputs": [
        {
          "output_type": "stream",
          "name": "stdout",
          "text": [
            "Hello, World!\n"
          ]
        }
      ]
    },
    {
      "cell_type": "markdown",
      "source": [
        "**2. Variables**"
      ],
      "metadata": {
        "id": "Dm6KDzYjBXou"
      }
    },
    {
      "cell_type": "code",
      "execution_count": 6,
      "metadata": {
        "colab": {
          "base_uri": "https://localhost:8080/"
        },
        "id": "qqUeGzncBJoY",
        "outputId": "4d80de98-c351-404c-cfba-8fbeb1e17d02"
      },
      "outputs": [
        {
          "output_type": "stream",
          "name": "stdout",
          "text": [
            "5\n",
            "John\n"
          ]
        }
      ],
      "source": [
        "x = 5\n",
        "y = \"John\"\n",
        "print(x)\n",
        "print(y)"
      ]
    },
    {
      "cell_type": "code",
      "source": [
        "x = 4       # x is of type int\n",
        "x = \"Sally\" # x is now of type str\n",
        "print(x)"
      ],
      "metadata": {
        "colab": {
          "base_uri": "https://localhost:8080/"
        },
        "id": "FqK9XDRQBm-M",
        "outputId": "2bf9bd3b-6afd-4b31-8cf4-01a876c25d69"
      },
      "execution_count": 7,
      "outputs": [
        {
          "output_type": "stream",
          "name": "stdout",
          "text": [
            "Sally\n"
          ]
        }
      ]
    },
    {
      "cell_type": "markdown",
      "source": [
        "You can get the data type of a variable with the type() function."
      ],
      "metadata": {
        "id": "Hfir72EcCQcC"
      }
    },
    {
      "cell_type": "code",
      "source": [
        "x = str(3)    # x will be '3'\n",
        "y = int(3)    # y will be 3\n",
        "z = float(3)  # z will be 3.0"
      ],
      "metadata": {
        "id": "BFyR3mxKBp2H"
      },
      "execution_count": 8,
      "outputs": []
    },
    {
      "cell_type": "code",
      "source": [
        "x = 5\n",
        "y = \"John\"\n",
        "print(type(x))\n",
        "print(type(y))\n"
      ],
      "metadata": {
        "colab": {
          "base_uri": "https://localhost:8080/"
        },
        "id": "WTq_ohlrBwVP",
        "outputId": "6534ac0f-60eb-4220-e4d4-42a4c402fc1f"
      },
      "execution_count": 9,
      "outputs": [
        {
          "output_type": "stream",
          "name": "stdout",
          "text": [
            "<class 'int'>\n",
            "<class 'str'>\n"
          ]
        }
      ]
    },
    {
      "cell_type": "markdown",
      "source": [
        "String variables can be declared either by using single or double quotes:"
      ],
      "metadata": {
        "id": "p2qhyXttCTsh"
      }
    },
    {
      "cell_type": "code",
      "source": [
        "x = \"John\"\n",
        "# is the same as\n",
        "x = 'John'"
      ],
      "metadata": {
        "id": "aAejVYlIBxp2"
      },
      "execution_count": 10,
      "outputs": []
    },
    {
      "cell_type": "markdown",
      "source": [
        "Variable names are case-sensitive."
      ],
      "metadata": {
        "id": "jdGcXWj3CWXy"
      }
    },
    {
      "cell_type": "code",
      "source": [
        "a = 4\n",
        "A = \"Sally\"\n",
        "#A will not overwrite a"
      ],
      "metadata": {
        "id": "y93NGKCWB032"
      },
      "execution_count": 11,
      "outputs": []
    },
    {
      "cell_type": "markdown",
      "source": [
        "**3. Data Types**"
      ],
      "metadata": {
        "id": "qbC2N6xbCXYw"
      }
    },
    {
      "cell_type": "markdown",
      "source": [
        "Print the data type of the variable x:"
      ],
      "metadata": {
        "id": "NEdRiWcpCvrP"
      }
    },
    {
      "cell_type": "code",
      "source": [
        "x = 5\n",
        "print(type(x))"
      ],
      "metadata": {
        "colab": {
          "base_uri": "https://localhost:8080/"
        },
        "id": "kp9HyGJdCpO-",
        "outputId": "b4f7dabe-d442-4037-c26a-aca6dfbc7325"
      },
      "execution_count": 12,
      "outputs": [
        {
          "output_type": "stream",
          "name": "stdout",
          "text": [
            "<class 'int'>\n"
          ]
        }
      ]
    },
    {
      "cell_type": "code",
      "source": [
        "a = \"Hello World\"\n",
        "b = 20\n",
        "c = 20.5\n",
        "d = 1j\n",
        "e = [\"apple\", \"banana\", \"cherry\"]\n",
        "f = (\"apple\", \"banana\", \"cherry\")\n",
        "g = range(6)\n",
        "h = {\"name\" : \"John\", \"age\" : 36}\n",
        "i = {\"apple\", \"banana\", \"cherry\"}\n",
        "j = frozenset({\"apple\", \"banana\", \"cherry\"})\n",
        "k = True\n",
        "l = b\"Hello\"\n",
        "m = bytearray(5)\n",
        "n = memoryview(bytes(5))\n",
        "o = None\n",
        "\n",
        "print(type(a))\n",
        "print(type(b))\n",
        "print(type(c))\n",
        "print(type(d))\n",
        "print(type(e))\n",
        "print(type(f))\n",
        "print(type(g))\n",
        "print(type(h))\n",
        "print(type(i))\n",
        "print(type(j))\n",
        "print(type(k))\n",
        "print(type(l))\n",
        "print(type(m))\n",
        "print(type(n))\n",
        "print(type(o))"
      ],
      "metadata": {
        "colab": {
          "base_uri": "https://localhost:8080/"
        },
        "id": "TvIl2pPdCwKA",
        "outputId": "973b4625-ebca-488b-ac38-f4beda3aaacc"
      },
      "execution_count": 13,
      "outputs": [
        {
          "output_type": "stream",
          "name": "stdout",
          "text": [
            "<class 'str'>\n",
            "<class 'int'>\n",
            "<class 'float'>\n",
            "<class 'complex'>\n",
            "<class 'list'>\n",
            "<class 'tuple'>\n",
            "<class 'range'>\n",
            "<class 'dict'>\n",
            "<class 'set'>\n",
            "<class 'frozenset'>\n",
            "<class 'bool'>\n",
            "<class 'bytes'>\n",
            "<class 'bytearray'>\n",
            "<class 'memoryview'>\n",
            "<class 'NoneType'>\n"
          ]
        }
      ]
    },
    {
      "cell_type": "markdown",
      "source": [
        "**4. Numbers**"
      ],
      "metadata": {
        "id": "fyiWU6VADjI6"
      }
    },
    {
      "cell_type": "code",
      "source": [
        "x = 1    # int\n",
        "y = 2.8  # float\n",
        "z = 1j   # complex"
      ],
      "metadata": {
        "id": "MQ_tD7P-DovD"
      },
      "execution_count": 14,
      "outputs": []
    },
    {
      "cell_type": "markdown",
      "source": [
        "To verify the type of any object in Python, use the type() function:"
      ],
      "metadata": {
        "id": "xQi6222HDr6u"
      }
    },
    {
      "cell_type": "code",
      "source": [
        "print(type(x))\n",
        "print(type(y))\n",
        "print(type(z))"
      ],
      "metadata": {
        "colab": {
          "base_uri": "https://localhost:8080/"
        },
        "id": "NOOmDD8TDrhQ",
        "outputId": "d43153f9-6a7b-4392-d8e4-21eab268a47a"
      },
      "execution_count": 15,
      "outputs": [
        {
          "output_type": "stream",
          "name": "stdout",
          "text": [
            "<class 'int'>\n",
            "<class 'float'>\n",
            "<class 'complex'>\n"
          ]
        }
      ]
    },
    {
      "cell_type": "markdown",
      "source": [
        "Integers:"
      ],
      "metadata": {
        "id": "Wv9jpEP6D6NT"
      }
    },
    {
      "cell_type": "code",
      "source": [
        "x = 1\n",
        "y = 35656222554887711\n",
        "z = -3255522\n",
        "\n",
        "print(type(x))\n",
        "print(type(y))\n",
        "print(type(z))"
      ],
      "metadata": {
        "colab": {
          "base_uri": "https://localhost:8080/"
        },
        "id": "vU0zEsIJD7EL",
        "outputId": "d1a4168a-e141-4872-b6b2-e78e3665a848"
      },
      "execution_count": 16,
      "outputs": [
        {
          "output_type": "stream",
          "name": "stdout",
          "text": [
            "<class 'int'>\n",
            "<class 'int'>\n",
            "<class 'int'>\n"
          ]
        }
      ]
    },
    {
      "cell_type": "markdown",
      "source": [
        "Floats:"
      ],
      "metadata": {
        "id": "8Zvs6PSLD8pK"
      }
    },
    {
      "cell_type": "code",
      "source": [
        "x = 1.10\n",
        "y = 1.0\n",
        "z = -35.59\n",
        "\n",
        "print(type(x))\n",
        "print(type(y))\n",
        "print(type(z))"
      ],
      "metadata": {
        "colab": {
          "base_uri": "https://localhost:8080/"
        },
        "id": "W0RQrYUYD9oF",
        "outputId": "5486791d-ec14-4f35-8bb8-ba3ee8dcb8f9"
      },
      "execution_count": 17,
      "outputs": [
        {
          "output_type": "stream",
          "name": "stdout",
          "text": [
            "<class 'float'>\n",
            "<class 'float'>\n",
            "<class 'float'>\n"
          ]
        }
      ]
    },
    {
      "cell_type": "markdown",
      "source": [
        "Floats: Float can also be scientific numbers with an \"e\" to indicate the power of 10."
      ],
      "metadata": {
        "id": "_SWlp-_wEIb8"
      }
    },
    {
      "cell_type": "code",
      "source": [
        "x = 35e3\n",
        "y = 12E4\n",
        "z = -87.7e100\n",
        "\n",
        "print(type(x))\n",
        "print(type(y))\n",
        "print(type(z))"
      ],
      "metadata": {
        "colab": {
          "base_uri": "https://localhost:8080/"
        },
        "id": "EMPM3S5PEA5l",
        "outputId": "7adfbf98-fbf5-4b9a-a561-ef3d7f9cbfd7"
      },
      "execution_count": 18,
      "outputs": [
        {
          "output_type": "stream",
          "name": "stdout",
          "text": [
            "<class 'float'>\n",
            "<class 'float'>\n",
            "<class 'float'>\n"
          ]
        }
      ]
    },
    {
      "cell_type": "markdown",
      "source": [
        "Complex:"
      ],
      "metadata": {
        "id": "e8fXPfE4EJti"
      }
    },
    {
      "cell_type": "code",
      "source": [
        "x = 3+5j\n",
        "y = 5j\n",
        "z = -5j\n",
        "\n",
        "print(type(x))\n",
        "print(type(y))\n",
        "print(type(z))"
      ],
      "metadata": {
        "colab": {
          "base_uri": "https://localhost:8080/"
        },
        "id": "5xxPXa9VEL2B",
        "outputId": "be7439b5-9695-41a2-e676-3e38256bfaf6"
      },
      "execution_count": 19,
      "outputs": [
        {
          "output_type": "stream",
          "name": "stdout",
          "text": [
            "<class 'complex'>\n",
            "<class 'complex'>\n",
            "<class 'complex'>\n"
          ]
        }
      ]
    },
    {
      "cell_type": "markdown",
      "source": [
        "Convert from one type to another:"
      ],
      "metadata": {
        "id": "_R8ZoXm6EN36"
      }
    },
    {
      "cell_type": "code",
      "source": [
        "x = 1    # int\n",
        "y = 2.8  # float\n",
        "z = 1j   # complex\n",
        "\n",
        "#convert from int to float:\n",
        "a = float(x)\n",
        "\n",
        "#convert from float to int:\n",
        "b = int(y)\n",
        "\n",
        "#convert from int to complex:\n",
        "c = complex(x)\n",
        "\n",
        "print(a)\n",
        "print(b)\n",
        "print(c)\n",
        "\n",
        "print(type(a))\n",
        "print(type(b))\n",
        "print(type(c))"
      ],
      "metadata": {
        "colab": {
          "base_uri": "https://localhost:8080/"
        },
        "id": "Q12l6vrQEPOJ",
        "outputId": "dedab08d-5106-4d8a-bf3b-e46e0c490909"
      },
      "execution_count": 20,
      "outputs": [
        {
          "output_type": "stream",
          "name": "stdout",
          "text": [
            "1.0\n",
            "2\n",
            "(1+0j)\n",
            "<class 'float'>\n",
            "<class 'int'>\n",
            "<class 'complex'>\n"
          ]
        }
      ]
    },
    {
      "cell_type": "markdown",
      "source": [
        "Import the random module, and display a random number between 1 and 9:"
      ],
      "metadata": {
        "id": "yK7eHZDSERTS"
      }
    },
    {
      "cell_type": "code",
      "source": [
        "import random\n",
        "\n",
        "print(random.randrange(1, 10))"
      ],
      "metadata": {
        "colab": {
          "base_uri": "https://localhost:8080/"
        },
        "id": "e8U2-iq7ESfO",
        "outputId": "4626cccc-0285-4932-b4e9-ba55e1b9ef7e"
      },
      "execution_count": 21,
      "outputs": [
        {
          "output_type": "stream",
          "name": "stdout",
          "text": [
            "8\n"
          ]
        }
      ]
    },
    {
      "cell_type": "markdown",
      "source": [
        "**5. Casting**"
      ],
      "metadata": {
        "id": "KF5KKkAANDIT"
      }
    },
    {
      "cell_type": "markdown",
      "source": [
        "Integers:"
      ],
      "metadata": {
        "id": "szvp9r9rNFgP"
      }
    },
    {
      "cell_type": "code",
      "source": [
        "x = int(1)   # x will be 1\n",
        "y = int(2.8) # y will be 2\n",
        "z = int(\"3\") # z will be 3"
      ],
      "metadata": {
        "id": "_Hf_QwIgNHmV"
      },
      "execution_count": 22,
      "outputs": []
    },
    {
      "cell_type": "markdown",
      "source": [
        "Floats:"
      ],
      "metadata": {
        "id": "0uqMwE2xNJg7"
      }
    },
    {
      "cell_type": "code",
      "source": [
        "x = float(1)     # x will be 1.0\n",
        "y = float(2.8)   # y will be 2.8\n",
        "z = float(\"3\")   # z will be 3.0\n",
        "w = float(\"4.2\") # w will be 4.2"
      ],
      "metadata": {
        "id": "3I1v0VUNNNJ1"
      },
      "execution_count": 23,
      "outputs": []
    },
    {
      "cell_type": "markdown",
      "source": [
        "Strings:"
      ],
      "metadata": {
        "id": "oMJPDzXCNQb_"
      }
    },
    {
      "cell_type": "code",
      "source": [
        "x = str(\"s1\") # x will be 's1'\n",
        "y = str(2)    # y will be '2'\n",
        "z = str(3.0)  # z will be '3.0'"
      ],
      "metadata": {
        "id": "o__-DgpHNQHd"
      },
      "execution_count": 24,
      "outputs": []
    },
    {
      "cell_type": "markdown",
      "source": [
        "**6. Strings**"
      ],
      "metadata": {
        "id": "BSjq6C5nNXPB"
      }
    },
    {
      "cell_type": "markdown",
      "source": [
        "You can display a string literal with the print() function:"
      ],
      "metadata": {
        "id": "hxhxP1cUNbpu"
      }
    },
    {
      "cell_type": "code",
      "source": [
        "print(\"Hello\")\n",
        "print('Hello')"
      ],
      "metadata": {
        "colab": {
          "base_uri": "https://localhost:8080/"
        },
        "id": "uIQvvlzNNcml",
        "outputId": "ed43f44c-8212-47c4-8c23-76b8e78c82d9"
      },
      "execution_count": 25,
      "outputs": [
        {
          "output_type": "stream",
          "name": "stdout",
          "text": [
            "Hello\n",
            "Hello\n"
          ]
        }
      ]
    },
    {
      "cell_type": "markdown",
      "source": [
        "Assign String to a Variable"
      ],
      "metadata": {
        "id": "6-faU4EsNfPR"
      }
    },
    {
      "cell_type": "code",
      "source": [
        "a = \"Hello\"\n",
        "print(a)"
      ],
      "metadata": {
        "colab": {
          "base_uri": "https://localhost:8080/"
        },
        "id": "XPGlw5wrNgEB",
        "outputId": "2ccce4cd-1f8e-4147-a55c-8167483a3545"
      },
      "execution_count": 26,
      "outputs": [
        {
          "output_type": "stream",
          "name": "stdout",
          "text": [
            "Hello\n"
          ]
        }
      ]
    },
    {
      "cell_type": "markdown",
      "source": [
        "Multiline Strings"
      ],
      "metadata": {
        "id": "E1JxnmoWNkZG"
      }
    },
    {
      "cell_type": "code",
      "source": [
        "a = \"\"\"Lorem ipsum dolor sit amet,\n",
        "consectetur adipiscing elit,\n",
        "sed do eiusmod tempor incididunt\n",
        "ut labore et dolore magna aliqua.\"\"\"\n",
        "print(a)"
      ],
      "metadata": {
        "colab": {
          "base_uri": "https://localhost:8080/"
        },
        "id": "IWfPszX5Nli9",
        "outputId": "e76070af-291a-42e2-c86b-68975f20f9bd"
      },
      "execution_count": 27,
      "outputs": [
        {
          "output_type": "stream",
          "name": "stdout",
          "text": [
            "Lorem ipsum dolor sit amet,\n",
            "consectetur adipiscing elit,\n",
            "sed do eiusmod tempor incididunt\n",
            "ut labore et dolore magna aliqua.\n"
          ]
        }
      ]
    },
    {
      "cell_type": "code",
      "source": [
        "a = '''Lorem ipsum dolor sit amet,\n",
        "consectetur adipiscing elit,\n",
        "sed do eiusmod tempor incididunt\n",
        "ut labore et dolore magna aliqua.'''\n",
        "print(a)"
      ],
      "metadata": {
        "colab": {
          "base_uri": "https://localhost:8080/"
        },
        "id": "fm7cF5xcNp9q",
        "outputId": "7a99d960-50c0-4faa-c673-e18f065bc408"
      },
      "execution_count": 28,
      "outputs": [
        {
          "output_type": "stream",
          "name": "stdout",
          "text": [
            "Lorem ipsum dolor sit amet,\n",
            "consectetur adipiscing elit,\n",
            "sed do eiusmod tempor incididunt\n",
            "ut labore et dolore magna aliqua.\n"
          ]
        }
      ]
    },
    {
      "cell_type": "markdown",
      "source": [
        "Get the character at position 1 (remember that the first character has the position 0):"
      ],
      "metadata": {
        "id": "ZRDuQDNgN2aG"
      }
    },
    {
      "cell_type": "code",
      "source": [
        "a = \"Hello, World!\"\n",
        "print(a[1])"
      ],
      "metadata": {
        "colab": {
          "base_uri": "https://localhost:8080/"
        },
        "id": "bdnajjKbN3Tq",
        "outputId": "c91e623c-0e36-4180-cd7f-f2ed4fb5814a"
      },
      "execution_count": 29,
      "outputs": [
        {
          "output_type": "stream",
          "name": "stdout",
          "text": [
            "e\n"
          ]
        }
      ]
    },
    {
      "cell_type": "markdown",
      "source": [
        "Loop through the letters in the word \"banana"
      ],
      "metadata": {
        "id": "TvnWEBofN47s"
      }
    },
    {
      "cell_type": "code",
      "source": [
        "for x in \"banana\":\n",
        "  print(x)"
      ],
      "metadata": {
        "colab": {
          "base_uri": "https://localhost:8080/"
        },
        "id": "BK_93u0jN6Mq",
        "outputId": "198f3d06-b6d7-4de4-bc1c-f306b93fedad"
      },
      "execution_count": 30,
      "outputs": [
        {
          "output_type": "stream",
          "name": "stdout",
          "text": [
            "b\n",
            "a\n",
            "n\n",
            "a\n",
            "n\n",
            "a\n"
          ]
        }
      ]
    },
    {
      "cell_type": "markdown",
      "source": [
        "The len() function returns the length of a string:"
      ],
      "metadata": {
        "id": "9ub7z3pQN7g7"
      }
    },
    {
      "cell_type": "code",
      "source": [
        "a = \"Hello, World!\"\n",
        "print(len(a))"
      ],
      "metadata": {
        "colab": {
          "base_uri": "https://localhost:8080/"
        },
        "id": "A-eHYk1PN8q5",
        "outputId": "5c88c522-0ea9-401e-ee1d-4e7d47eff82c"
      },
      "execution_count": 31,
      "outputs": [
        {
          "output_type": "stream",
          "name": "stdout",
          "text": [
            "13\n"
          ]
        }
      ]
    },
    {
      "cell_type": "markdown",
      "source": [
        "Check if \"free\" is present in the following text:"
      ],
      "metadata": {
        "id": "RH62vJjON990"
      }
    },
    {
      "cell_type": "code",
      "source": [
        "txt = \"The best things in life are free!\"\n",
        "print(\"free\" in txt)"
      ],
      "metadata": {
        "colab": {
          "base_uri": "https://localhost:8080/"
        },
        "id": "X70kaWYTN-2-",
        "outputId": "b1168181-0b7b-43a9-812e-78f84922382d"
      },
      "execution_count": 32,
      "outputs": [
        {
          "output_type": "stream",
          "name": "stdout",
          "text": [
            "True\n"
          ]
        }
      ]
    },
    {
      "cell_type": "markdown",
      "source": [
        "Print only if \"free\" is present:"
      ],
      "metadata": {
        "id": "1NjfHkJ9N__X"
      }
    },
    {
      "cell_type": "code",
      "source": [
        "txt = \"The best things in life are free!\"\n",
        "if \"free\" in txt:\n",
        "  print(\"Yes, 'free' is present.\")"
      ],
      "metadata": {
        "colab": {
          "base_uri": "https://localhost:8080/"
        },
        "id": "8WNzQLLVOBNM",
        "outputId": "30a08f53-4b02-42de-92ef-02624bcf9adb"
      },
      "execution_count": 33,
      "outputs": [
        {
          "output_type": "stream",
          "name": "stdout",
          "text": [
            "Yes, 'free' is present.\n"
          ]
        }
      ]
    },
    {
      "cell_type": "markdown",
      "source": [
        "Check if \"expensive\" is NOT present in the following te"
      ],
      "metadata": {
        "id": "h_KaWRnoOCe2"
      }
    },
    {
      "cell_type": "code",
      "source": [
        "txt = \"The best things in life are free!\"\n",
        "print(\"expensive\" not in txt)"
      ],
      "metadata": {
        "colab": {
          "base_uri": "https://localhost:8080/"
        },
        "id": "r9Np2hX-ODsb",
        "outputId": "ce1808fa-718c-4a24-d3a2-9cccc9c6f0e2"
      },
      "execution_count": 34,
      "outputs": [
        {
          "output_type": "stream",
          "name": "stdout",
          "text": [
            "True\n"
          ]
        }
      ]
    },
    {
      "cell_type": "markdown",
      "source": [
        "print only if \"expensive\" is NOT present:"
      ],
      "metadata": {
        "id": "OWBPYTiVOE78"
      }
    },
    {
      "cell_type": "code",
      "source": [
        "txt = \"The best things in life are free!\"\n",
        "if \"expensive\" not in txt:\n",
        " print(\"No, 'expensive' is NOT present.\")"
      ],
      "metadata": {
        "colab": {
          "base_uri": "https://localhost:8080/"
        },
        "id": "Deu-Eka4OF7w",
        "outputId": "73474792-fddf-4cc3-a476-fd4c0d07ba61"
      },
      "execution_count": 35,
      "outputs": [
        {
          "output_type": "stream",
          "name": "stdout",
          "text": [
            "No, 'expensive' is NOT present.\n"
          ]
        }
      ]
    },
    {
      "cell_type": "markdown",
      "source": [
        "**6.1. Slicing Strings**"
      ],
      "metadata": {
        "id": "b89Y2GtZOfGy"
      }
    },
    {
      "cell_type": "markdown",
      "source": [
        "Get the characters from position 2 to position 5 (not included):"
      ],
      "metadata": {
        "id": "NQL94in8Oh-l"
      }
    },
    {
      "cell_type": "code",
      "source": [
        "b = \"Hello, World!\"\n",
        "print(b[2:5])"
      ],
      "metadata": {
        "colab": {
          "base_uri": "https://localhost:8080/"
        },
        "id": "C1YMLmrInyFT",
        "outputId": "744b68c0-a5ab-4f72-8fef-d10291213cb2"
      },
      "execution_count": 36,
      "outputs": [
        {
          "output_type": "stream",
          "name": "stdout",
          "text": [
            "llo\n"
          ]
        }
      ]
    },
    {
      "cell_type": "markdown",
      "source": [
        "Get the characters from the start to position 5 (not included):"
      ],
      "metadata": {
        "id": "8ZFiPgrLn-pq"
      }
    },
    {
      "cell_type": "code",
      "source": [
        "b = \"Hello, World!\"\n",
        "print(b[:5])"
      ],
      "metadata": {
        "colab": {
          "base_uri": "https://localhost:8080/"
        },
        "id": "eEJLx1jjn_uc",
        "outputId": "d84a8a41-6db3-4bc6-fcdf-f2292f4d2517"
      },
      "execution_count": 37,
      "outputs": [
        {
          "output_type": "stream",
          "name": "stdout",
          "text": [
            "Hello\n"
          ]
        }
      ]
    },
    {
      "cell_type": "markdown",
      "source": [
        "Get the characters from position 2, and all the way to the end:"
      ],
      "metadata": {
        "id": "zPr3JeWhoBX2"
      }
    },
    {
      "cell_type": "code",
      "source": [
        "b = \"Hello, World!\"\n",
        "print(b[2:])"
      ],
      "metadata": {
        "colab": {
          "base_uri": "https://localhost:8080/"
        },
        "id": "EMfojnwIoCRo",
        "outputId": "398535e4-af31-47e1-8edb-9d69d5f6e5ce"
      },
      "execution_count": 38,
      "outputs": [
        {
          "output_type": "stream",
          "name": "stdout",
          "text": [
            "llo, World!\n"
          ]
        }
      ]
    },
    {
      "cell_type": "markdown",
      "source": [
        "Get the characters:\n",
        "\n",
        "From: \"o\" in \"World!\" (position -5)\n",
        "\n",
        "To, but not included: \"d\" in \"World!\" (position -2):"
      ],
      "metadata": {
        "id": "R3vJw77poE52"
      }
    },
    {
      "cell_type": "code",
      "source": [
        "b = \"Hello, World!\"\n",
        "print(b[-5:-2])"
      ],
      "metadata": {
        "colab": {
          "base_uri": "https://localhost:8080/"
        },
        "id": "b-VLoOeroFmk",
        "outputId": "1ac41f03-433c-4b68-ad00-62a0c06d430a"
      },
      "execution_count": 39,
      "outputs": [
        {
          "output_type": "stream",
          "name": "stdout",
          "text": [
            "orl\n"
          ]
        }
      ]
    },
    {
      "cell_type": "markdown",
      "source": [
        "**6.2. Modify Strings**"
      ],
      "metadata": {
        "id": "nAO71cQQoLP-"
      }
    },
    {
      "cell_type": "markdown",
      "source": [
        "The upper() method returns the string in upper case:"
      ],
      "metadata": {
        "id": "4LNhb02ZoM9d"
      }
    },
    {
      "cell_type": "code",
      "source": [
        "a = \"Hello, World!\"\n",
        "print(a.upper())"
      ],
      "metadata": {
        "colab": {
          "base_uri": "https://localhost:8080/"
        },
        "id": "5d_NF_mLoOJL",
        "outputId": "d16b6c95-c7b3-4110-c15b-db68218863bb"
      },
      "execution_count": 40,
      "outputs": [
        {
          "output_type": "stream",
          "name": "stdout",
          "text": [
            "HELLO, WORLD!\n"
          ]
        }
      ]
    },
    {
      "cell_type": "markdown",
      "source": [
        "The lower() method returns the string in lower case:"
      ],
      "metadata": {
        "id": "9d0ftKwuoSpo"
      }
    },
    {
      "cell_type": "code",
      "source": [
        "a = \"Hello, World!\"\n",
        "print(a.lower())"
      ],
      "metadata": {
        "colab": {
          "base_uri": "https://localhost:8080/"
        },
        "id": "9VVRMdhHoT5S",
        "outputId": "d71cb221-6c00-4d03-cff6-ad69aa1a1efc"
      },
      "execution_count": 41,
      "outputs": [
        {
          "output_type": "stream",
          "name": "stdout",
          "text": [
            "hello, world!\n"
          ]
        }
      ]
    },
    {
      "cell_type": "markdown",
      "source": [
        "The strip() method removes any whitespace from the beginning or the end:"
      ],
      "metadata": {
        "id": "EBtZ32QloZ87"
      }
    },
    {
      "cell_type": "code",
      "source": [
        "a = \" Hello, World! \"\n",
        "print(a.strip()) # returns \"Hello, World!\""
      ],
      "metadata": {
        "colab": {
          "base_uri": "https://localhost:8080/"
        },
        "id": "OOcw82uooa9B",
        "outputId": "c6c4ec8c-d6ec-43f5-c08f-0e7aaa95dd9c"
      },
      "execution_count": 42,
      "outputs": [
        {
          "output_type": "stream",
          "name": "stdout",
          "text": [
            "Hello, World!\n"
          ]
        }
      ]
    },
    {
      "cell_type": "markdown",
      "source": [
        "The replace() method replaces a string with another string:"
      ],
      "metadata": {
        "id": "gZAhDa27ogpF"
      }
    },
    {
      "cell_type": "code",
      "source": [
        "a = \"Hello, World!\"\n",
        "print(a.replace(\"H\", \"J\"))"
      ],
      "metadata": {
        "colab": {
          "base_uri": "https://localhost:8080/"
        },
        "id": "9LU_h6YNohoN",
        "outputId": "7d0f21b5-a070-4689-9d98-591ac3f3e8c0"
      },
      "execution_count": 43,
      "outputs": [
        {
          "output_type": "stream",
          "name": "stdout",
          "text": [
            "Jello, World!\n"
          ]
        }
      ]
    },
    {
      "cell_type": "markdown",
      "source": [
        "The split() method splits the string into substrings if it finds instances of the separator:"
      ],
      "metadata": {
        "id": "r3Mf_hdJolB3"
      }
    },
    {
      "cell_type": "code",
      "source": [
        "a = \"Hello, World!\"\n",
        "print(a.split(\",\")) # returns ['Hello', ' World!']"
      ],
      "metadata": {
        "colab": {
          "base_uri": "https://localhost:8080/"
        },
        "id": "wLJBMStwomOI",
        "outputId": "31aaf291-4f7f-40f3-d44d-d44fc829b757"
      },
      "execution_count": 44,
      "outputs": [
        {
          "output_type": "stream",
          "name": "stdout",
          "text": [
            "['Hello', ' World!']\n"
          ]
        }
      ]
    },
    {
      "cell_type": "markdown",
      "source": [
        "**6.3. String Concatenation**"
      ],
      "metadata": {
        "id": "MHRBvYD8ovgL"
      }
    },
    {
      "cell_type": "markdown",
      "source": [
        "Merge variable a with variable b into variable c:"
      ],
      "metadata": {
        "id": "Nh8RbKTkoxbO"
      }
    },
    {
      "cell_type": "code",
      "source": [
        "a = \"Hello\"\n",
        "b = \"World\"\n",
        "c = a + b\n",
        "print(c)"
      ],
      "metadata": {
        "colab": {
          "base_uri": "https://localhost:8080/"
        },
        "id": "zOlz7R8Coyog",
        "outputId": "f7808580-eec5-416a-fb05-df58bb71401c"
      },
      "execution_count": 45,
      "outputs": [
        {
          "output_type": "stream",
          "name": "stdout",
          "text": [
            "HelloWorld\n"
          ]
        }
      ]
    },
    {
      "cell_type": "markdown",
      "source": [
        "To add a space between them, add a \" \":"
      ],
      "metadata": {
        "id": "CJepfqYao1Up"
      }
    },
    {
      "cell_type": "code",
      "source": [
        "a = \"Hello\"\n",
        "b = \"World\"\n",
        "c = a + \" \" + b\n",
        "print(c)"
      ],
      "metadata": {
        "colab": {
          "base_uri": "https://localhost:8080/"
        },
        "id": "QOhGN60go29A",
        "outputId": "e20f811b-8472-4745-f6c3-5c903937ccc0"
      },
      "execution_count": 46,
      "outputs": [
        {
          "output_type": "stream",
          "name": "stdout",
          "text": [
            "Hello World\n"
          ]
        }
      ]
    },
    {
      "cell_type": "markdown",
      "source": [
        "**6.4. Format - Strings**"
      ],
      "metadata": {
        "id": "-3FwlNtzo6-0"
      }
    },
    {
      "cell_type": "markdown",
      "source": [
        "Use the format() method to insert numbers into strings:"
      ],
      "metadata": {
        "id": "zYwtnVM0pGEe"
      }
    },
    {
      "cell_type": "code",
      "source": [
        "age = 36\n",
        "txt = \"My name is John, and I am {}\"\n",
        "print(txt.format(age))"
      ],
      "metadata": {
        "colab": {
          "base_uri": "https://localhost:8080/"
        },
        "id": "_Gcpde5Po9Zj",
        "outputId": "e3a68c17-f7f7-45f0-d641-3d0b51d666a6"
      },
      "execution_count": 47,
      "outputs": [
        {
          "output_type": "stream",
          "name": "stdout",
          "text": [
            "My name is John, and I am 36\n"
          ]
        }
      ]
    },
    {
      "cell_type": "markdown",
      "source": [
        "The format() method takes unlimited number of arguments, and are placed into the respective placeholders:"
      ],
      "metadata": {
        "id": "gEyRI0TVpHqZ"
      }
    },
    {
      "cell_type": "code",
      "source": [
        "quantity = 3\n",
        "itemno = 567\n",
        "price = 49.95\n",
        "myorder = \"I want {} pieces of item {} for {} dollars.\"\n",
        "print(myorder.format(quantity, itemno, price))"
      ],
      "metadata": {
        "colab": {
          "base_uri": "https://localhost:8080/"
        },
        "id": "kJicd46TpUyB",
        "outputId": "7f489dbb-1ee1-4ff0-9d90-6b4cf398fdc0"
      },
      "execution_count": 48,
      "outputs": [
        {
          "output_type": "stream",
          "name": "stdout",
          "text": [
            "I want 3 pieces of item 567 for 49.95 dollars.\n"
          ]
        }
      ]
    },
    {
      "cell_type": "markdown",
      "source": [
        "You can use index numbers {0} to be sure the arguments are placed in the correct placeholders:"
      ],
      "metadata": {
        "id": "ki2ev1VEpeGb"
      }
    },
    {
      "cell_type": "code",
      "source": [
        "quantity = 3\n",
        "itemno = 567\n",
        "price = 49.95\n",
        "myorder = \"I want to pay {2} dollars for {0} pieces of item {1}.\"\n",
        "print(myorder.format(quantity, itemno, price))"
      ],
      "metadata": {
        "colab": {
          "base_uri": "https://localhost:8080/"
        },
        "id": "V6NY0tc0pe-x",
        "outputId": "e1a7d179-0639-4c3f-8f92-8fdff5242431"
      },
      "execution_count": 49,
      "outputs": [
        {
          "output_type": "stream",
          "name": "stdout",
          "text": [
            "I want to pay 49.95 dollars for 3 pieces of item 567.\n"
          ]
        }
      ]
    },
    {
      "cell_type": "markdown",
      "source": [
        "**Python - Escape Characters**"
      ],
      "metadata": {
        "id": "f26aitr-ps8a"
      }
    },
    {
      "cell_type": "markdown",
      "source": [
        "The escape character allows you to use double quotes when you normally would not be allowed"
      ],
      "metadata": {
        "id": "wtXe-ECepv8r"
      }
    },
    {
      "cell_type": "code",
      "source": [
        "txt = \"We are the so-called \\\"Vikings\\\" from the north.\"\n",
        "txt"
      ],
      "metadata": {
        "colab": {
          "base_uri": "https://localhost:8080/",
          "height": 36
        },
        "id": "ii8qI6HUpxIz",
        "outputId": "4bbbbfb1-167a-4f81-d317-9d6d57b97223"
      },
      "execution_count": 50,
      "outputs": [
        {
          "output_type": "execute_result",
          "data": {
            "text/plain": [
              "'We are the so-called \"Vikings\" from the north.'"
            ],
            "application/vnd.google.colaboratory.intrinsic+json": {
              "type": "string"
            }
          },
          "metadata": {},
          "execution_count": 50
        }
      ]
    },
    {
      "cell_type": "markdown",
      "source": [
        "Single Quote"
      ],
      "metadata": {
        "id": "-_eQmBoqqNV3"
      }
    },
    {
      "cell_type": "code",
      "source": [
        "txt = 'It\\'s alright.'\n",
        "print(txt)"
      ],
      "metadata": {
        "colab": {
          "base_uri": "https://localhost:8080/"
        },
        "id": "xZ39wU_wqHOd",
        "outputId": "92841434-76d1-43e1-80f2-8ca865199736"
      },
      "execution_count": 51,
      "outputs": [
        {
          "output_type": "stream",
          "name": "stdout",
          "text": [
            "It's alright.\n"
          ]
        }
      ]
    },
    {
      "cell_type": "markdown",
      "source": [
        "Backslash"
      ],
      "metadata": {
        "id": "Q8MfKfnAqO0n"
      }
    },
    {
      "cell_type": "code",
      "source": [
        "txt = \"This will insert one \\\\ (backslash).\"\n",
        "print(txt)"
      ],
      "metadata": {
        "colab": {
          "base_uri": "https://localhost:8080/"
        },
        "id": "oB5hnjqZqKR_",
        "outputId": "99a6028b-3e1c-420e-d6b7-3694ef6fe8f3"
      },
      "execution_count": 52,
      "outputs": [
        {
          "output_type": "stream",
          "name": "stdout",
          "text": [
            "This will insert one \\ (backslash).\n"
          ]
        }
      ]
    },
    {
      "cell_type": "markdown",
      "source": [
        "New Line"
      ],
      "metadata": {
        "id": "h_sjI5bpqP0z"
      }
    },
    {
      "cell_type": "code",
      "source": [
        "txt = \"Hello\\nWorld!\"\n",
        "print(txt)"
      ],
      "metadata": {
        "colab": {
          "base_uri": "https://localhost:8080/"
        },
        "id": "U2BYExMhqSLC",
        "outputId": "8e08ed86-0c8e-4fb5-87e8-d0257becde0f"
      },
      "execution_count": 53,
      "outputs": [
        {
          "output_type": "stream",
          "name": "stdout",
          "text": [
            "Hello\n",
            "World!\n"
          ]
        }
      ]
    },
    {
      "cell_type": "markdown",
      "source": [
        "Carriage Return"
      ],
      "metadata": {
        "id": "v5zB2kXHqUTx"
      }
    },
    {
      "cell_type": "code",
      "source": [
        "txt = \"Hello\\rWorld!\"\n",
        "print(txt)"
      ],
      "metadata": {
        "colab": {
          "base_uri": "https://localhost:8080/"
        },
        "id": "BMkCVmEBqU1A",
        "outputId": "1a27b9ab-c678-426c-b0be-9c86b483959b"
      },
      "execution_count": 54,
      "outputs": [
        {
          "output_type": "stream",
          "name": "stdout",
          "text": [
            "Hello\rWorld!\n"
          ]
        }
      ]
    },
    {
      "cell_type": "markdown",
      "source": [
        "Tab"
      ],
      "metadata": {
        "id": "aAK4SbuIqXkO"
      }
    },
    {
      "cell_type": "code",
      "source": [
        "txt = \"Hello\\tWorld!\"\n",
        "print(txt)"
      ],
      "metadata": {
        "colab": {
          "base_uri": "https://localhost:8080/"
        },
        "id": "ayIpuN9bqZJb",
        "outputId": "d3f5be76-ea66-4b0a-fd46-8726354f5a00"
      },
      "execution_count": 55,
      "outputs": [
        {
          "output_type": "stream",
          "name": "stdout",
          "text": [
            "Hello\tWorld!\n"
          ]
        }
      ]
    },
    {
      "cell_type": "markdown",
      "source": [
        "Backspace"
      ],
      "metadata": {
        "id": "NOO4XlJdqZdF"
      }
    },
    {
      "cell_type": "code",
      "source": [
        "#This example erases one character (backspace):\n",
        "txt = \"Hello \\bWorld!\"\n",
        "print(txt)"
      ],
      "metadata": {
        "colab": {
          "base_uri": "https://localhost:8080/"
        },
        "id": "ZNf1kCLhqa-O",
        "outputId": "8f0cc873-ca7e-47e9-ec53-7a3f5a90417a"
      },
      "execution_count": 56,
      "outputs": [
        {
          "output_type": "stream",
          "name": "stdout",
          "text": [
            "Hello \bWorld!\n"
          ]
        }
      ]
    },
    {
      "cell_type": "markdown",
      "source": [
        "Form Feed"
      ],
      "metadata": {
        "id": "Om_nhh4eqbS_"
      }
    },
    {
      "cell_type": "code",
      "source": [],
      "metadata": {
        "id": "pD6KDFPfqckD"
      },
      "execution_count": 56,
      "outputs": []
    },
    {
      "cell_type": "markdown",
      "source": [
        "Octal value"
      ],
      "metadata": {
        "id": "ouWXszAUqc3G"
      }
    },
    {
      "cell_type": "code",
      "source": [
        "#A backslash followed by three integers will result in a octal value:\n",
        "txt = \"\\110\\145\\154\\154\\157\"\n",
        "print(txt)\n"
      ],
      "metadata": {
        "colab": {
          "base_uri": "https://localhost:8080/"
        },
        "id": "obOG2wi8qe_o",
        "outputId": "26979cde-e017-4b9f-c274-d554b1f99bde"
      },
      "execution_count": 57,
      "outputs": [
        {
          "output_type": "stream",
          "name": "stdout",
          "text": [
            "Hello\n"
          ]
        }
      ]
    },
    {
      "cell_type": "markdown",
      "source": [
        "Hex value"
      ],
      "metadata": {
        "id": "fG92yGQ5qi92"
      }
    },
    {
      "cell_type": "code",
      "source": [
        "#A backslash followed by an 'x' and a hex number represents a hex value:\n",
        "txt = \"\\x48\\x65\\x6c\\x6c\\x6f\"\n",
        "print(txt)"
      ],
      "metadata": {
        "colab": {
          "base_uri": "https://localhost:8080/"
        },
        "id": "D9MR7Cz8qkRa",
        "outputId": "ff5f9fa7-d1bd-4542-f386-513e3f03f532"
      },
      "execution_count": 58,
      "outputs": [
        {
          "output_type": "stream",
          "name": "stdout",
          "text": [
            "Hello\n"
          ]
        }
      ]
    },
    {
      "cell_type": "markdown",
      "source": [
        "**6.5. String Methods**"
      ],
      "metadata": {
        "id": "1TPt5ZTyrGGe"
      }
    },
    {
      "cell_type": "markdown",
      "source": [
        "capitalize()\tConverts the first character to upper case\n",
        "\n",
        "casefold()\tConverts string into lower case\n",
        "\n",
        "center()\tReturns a centered string\n",
        "\n",
        "count()\tReturns the number of times a specified value occurs in a string\n",
        "\n",
        "encode()\tReturns an encoded version of the string\n",
        "\n",
        "endswith()\tReturns true if the string ends with the specified value\n",
        "\n",
        "expandtabs()\tSets the tab size of the string\n",
        "\n",
        "find()\tSearches the string for a specified value and returns the position of where it was found\n",
        "\n",
        "format()\tFormats specified values in a string\n",
        "\n",
        "format_map()\tFormats specified values in a string\n",
        "\n",
        "index()\tSearches the string for a specified value and returns the position of where it was found\n",
        "\n",
        "isalnum()\tReturns True if all characters in the string are alphanumeric\n",
        "\n",
        "isalpha()\tReturns True if all characters in the string are in the alphabet\n",
        "\n",
        "isascii()\tReturns True if all characters in the string are ascii characters\n",
        "\n",
        "isdecimal()\tReturns True if all characters in the string are decimals\n",
        "\n",
        "isdigit()\tReturns True if all characters in the string are digits\n",
        "\n",
        "isidentifier()\tReturns True if the string is an identifier\n",
        "\n",
        "islower()\tReturns True if all characters in the string are lower case\n",
        "\n",
        "isnumeric()\tReturns True if all characters in the string are numeric\n",
        "\n",
        "isprintable()\tReturns True if all characters in the string are printable\n",
        "\n",
        "isspace()\tReturns True if all characters in the string are whitespaces\n",
        "\n",
        "istitle()\tReturns True if the string follows the rules of a title\n",
        "\n",
        "isupper()\tReturns True if all characters in the string are upper case\n",
        "\n",
        "join()\tJoins the elements of an iterable to the end of the string\n",
        "\n",
        "ljust()\tReturns a left justified version of the string\n",
        "\n",
        "lower()\tConverts a string into lower case\n",
        "\n",
        "lstrip()\tReturns a left trim version of the string\n",
        "\n",
        "maketrans()\tReturns a translation table to be used in translations\n",
        "\n",
        "partition()\tReturns a tuple where the string is parted into three parts\n",
        "\n",
        "replace()\tReturns a string where a specified value is replaced with a specified value\n",
        "\n",
        "rfind()\tSearches the string for a specified value and returns the last position of where it was found\n",
        "\n",
        "rindex()\tSearches the string for a specified value and returns the last position of where it was found\n",
        "\n",
        "rjust()\tReturns a right justified version of the string\n",
        "\n",
        "rpartition()\tReturns a tuple where the string is parted into three parts\n",
        "\n",
        "rsplit()\tSplits the string at the specified separator, and returns a list\n",
        "\n",
        "rstrip()\tReturns a right trim version of the string\n",
        "\n",
        "split()\tSplits the string at the specified separator, and returns a list\n",
        "\n",
        "splitlines()\tSplits the string at line breaks and returns a list\n",
        "\n",
        "startswith()\tReturns true if the string starts with the specified value\n",
        "\n",
        "strip()\tReturns a trimmed version of the string\n",
        "\n",
        "swapcase()\tSwaps cases, lower case becomes upper case and vice versa\n",
        "\n",
        "title()\tConverts the first character of each word to upper case\n",
        "\n",
        "translate()\tReturns a translated string\n",
        "\n",
        "upper()\tConverts a string into upper case\n",
        "\n",
        "zfill()\tFills the string with a specified number of 0 values at the beginning"
      ],
      "metadata": {
        "id": "Ekg7exTZrRGz"
      }
    },
    {
      "cell_type": "code",
      "source": [
        "#Use the len method to print the length of the string.\n",
        "x = \"Hello World\"\n",
        "print(len(x))"
      ],
      "metadata": {
        "colab": {
          "base_uri": "https://localhost:8080/"
        },
        "id": "Miys0WvArlVM",
        "outputId": "680de4fb-612b-4a43-c487-b085a5e0f7df"
      },
      "execution_count": 59,
      "outputs": [
        {
          "output_type": "stream",
          "name": "stdout",
          "text": [
            "11\n"
          ]
        }
      ]
    },
    {
      "cell_type": "markdown",
      "source": [
        "**7. Booleans**"
      ],
      "metadata": {
        "id": "KTXZHuj2sHcA"
      }
    },
    {
      "cell_type": "markdown",
      "source": [
        "Booleans represent one of two values: True or False."
      ],
      "metadata": {
        "id": "bgeQrfKQsOpt"
      }
    },
    {
      "cell_type": "code",
      "source": [
        "print(10 > 9)\n",
        "print(10 == 9)\n",
        "print(10 < 9)"
      ],
      "metadata": {
        "colab": {
          "base_uri": "https://localhost:8080/"
        },
        "id": "s27S7CQCsKt3",
        "outputId": "95656f15-29c4-41c2-8307-75cb7a5614b7"
      },
      "execution_count": 60,
      "outputs": [
        {
          "output_type": "stream",
          "name": "stdout",
          "text": [
            "True\n",
            "False\n",
            "False\n"
          ]
        }
      ]
    },
    {
      "cell_type": "code",
      "source": [
        "a = 200\n",
        "b = 33\n",
        "\n",
        "if b > a:\n",
        "  print(\"b is greater than a\")\n",
        "else:\n",
        "  print(\"b is not greater than a\")"
      ],
      "metadata": {
        "colab": {
          "base_uri": "https://localhost:8080/"
        },
        "id": "kq1fYFb0sUn7",
        "outputId": "e40e82f0-5a59-4af9-8851-955eabe17268"
      },
      "execution_count": 61,
      "outputs": [
        {
          "output_type": "stream",
          "name": "stdout",
          "text": [
            "b is not greater than a\n"
          ]
        }
      ]
    },
    {
      "cell_type": "markdown",
      "source": [
        "Evaluate a string and a number:"
      ],
      "metadata": {
        "id": "a-NmeMc_sdOc"
      }
    },
    {
      "cell_type": "code",
      "source": [
        "print(bool(\"Hello\"))\n",
        "print(bool(15))"
      ],
      "metadata": {
        "colab": {
          "base_uri": "https://localhost:8080/"
        },
        "id": "qQwqmjT-seDx",
        "outputId": "dba4c32c-8678-418e-f2bb-e4d2d9f9d39a"
      },
      "execution_count": 62,
      "outputs": [
        {
          "output_type": "stream",
          "name": "stdout",
          "text": [
            "True\n",
            "True\n"
          ]
        }
      ]
    },
    {
      "cell_type": "markdown",
      "source": [
        "Evaluate two variables:"
      ],
      "metadata": {
        "id": "E7NSIyEjskUL"
      }
    },
    {
      "cell_type": "code",
      "source": [
        "x = \"Hello\"\n",
        "y = 15\n",
        "\n",
        "print(bool(x))\n",
        "print(bool(y))"
      ],
      "metadata": {
        "colab": {
          "base_uri": "https://localhost:8080/"
        },
        "id": "vzfWoScEslNO",
        "outputId": "32af8a3f-b2d8-4065-8698-966f4fbe97cb"
      },
      "execution_count": 63,
      "outputs": [
        {
          "output_type": "stream",
          "name": "stdout",
          "text": [
            "True\n",
            "True\n"
          ]
        }
      ]
    },
    {
      "cell_type": "markdown",
      "source": [
        "The following will return True:"
      ],
      "metadata": {
        "id": "JvjCoOfPspqU"
      }
    },
    {
      "cell_type": "code",
      "source": [
        "bool(\"abc\")\n",
        "bool(123)\n",
        "bool([\"apple\", \"cherry\", \"banana\"])"
      ],
      "metadata": {
        "colab": {
          "base_uri": "https://localhost:8080/"
        },
        "id": "tJ05HKxUsqXE",
        "outputId": "95ca7e01-ca04-4695-f301-430ee404eb67"
      },
      "execution_count": 64,
      "outputs": [
        {
          "output_type": "execute_result",
          "data": {
            "text/plain": [
              "True"
            ]
          },
          "metadata": {},
          "execution_count": 64
        }
      ]
    },
    {
      "cell_type": "markdown",
      "source": [
        "The following will return False:"
      ],
      "metadata": {
        "id": "7-8nYu6bsyZM"
      }
    },
    {
      "cell_type": "code",
      "source": [
        "bool(False)\n",
        "bool(None)\n",
        "bool(0)\n",
        "bool(\"\")\n",
        "bool(())\n",
        "bool([])\n",
        "bool({})"
      ],
      "metadata": {
        "colab": {
          "base_uri": "https://localhost:8080/"
        },
        "id": "PTIVb5misz4R",
        "outputId": "4b853673-ade6-49d6-f918-cc8d2f279319"
      },
      "execution_count": 65,
      "outputs": [
        {
          "output_type": "execute_result",
          "data": {
            "text/plain": [
              "False"
            ]
          },
          "metadata": {},
          "execution_count": 65
        }
      ]
    },
    {
      "cell_type": "markdown",
      "source": [
        "One more value, or object in this case, evaluates to **False**, and that is if you have an object that is made from a class with a **--len--** function that returns **0** or **False**:"
      ],
      "metadata": {
        "id": "InrFdnfcs31o"
      }
    },
    {
      "cell_type": "code",
      "source": [
        "class myclass():\n",
        "  def __len__(self):\n",
        "    return 0\n",
        "\n",
        "myobj = myclass()\n",
        "print(bool(myobj))"
      ],
      "metadata": {
        "colab": {
          "base_uri": "https://localhost:8080/"
        },
        "id": "OhwJEqZhs5Cx",
        "outputId": "41c68e39-5180-40a3-ee2f-430ff38ef392"
      },
      "execution_count": 66,
      "outputs": [
        {
          "output_type": "stream",
          "name": "stdout",
          "text": [
            "False\n"
          ]
        }
      ]
    },
    {
      "cell_type": "markdown",
      "source": [
        "Print the answer of a function:"
      ],
      "metadata": {
        "id": "TtD0aHDatRO7"
      }
    },
    {
      "cell_type": "code",
      "source": [
        "def myFunction() :\n",
        "  return True\n",
        "\n",
        "print(myFunction())"
      ],
      "metadata": {
        "colab": {
          "base_uri": "https://localhost:8080/"
        },
        "id": "tektStIstSTI",
        "outputId": "394f82e2-81b6-4049-d4b6-5b2f5be6b7d2"
      },
      "execution_count": 67,
      "outputs": [
        {
          "output_type": "stream",
          "name": "stdout",
          "text": [
            "True\n"
          ]
        }
      ]
    },
    {
      "cell_type": "markdown",
      "source": [
        "Print \"YES!\" if the function returns True, otherwise print \"NO!\":"
      ],
      "metadata": {
        "id": "Thkec7VdtUX2"
      }
    },
    {
      "cell_type": "code",
      "source": [
        "def myFunction() :\n",
        "  return True\n",
        "\n",
        "if myFunction():\n",
        "  print(\"YES!\")\n",
        "else:\n",
        "  print(\"NO!\")"
      ],
      "metadata": {
        "colab": {
          "base_uri": "https://localhost:8080/"
        },
        "id": "C5rQa7yLtVwW",
        "outputId": "41a0b3a1-12d6-4e5b-a092-d0f32632a5ed"
      },
      "execution_count": 68,
      "outputs": [
        {
          "output_type": "stream",
          "name": "stdout",
          "text": [
            "YES!\n"
          ]
        }
      ]
    },
    {
      "cell_type": "markdown",
      "source": [
        "Check if an object is an integer or not:"
      ],
      "metadata": {
        "id": "_7lM_6mOtURD"
      }
    },
    {
      "cell_type": "code",
      "source": [
        "x = 200\n",
        "print(isinstance(x, int))"
      ],
      "metadata": {
        "colab": {
          "base_uri": "https://localhost:8080/"
        },
        "id": "_CuMHQArtbTp",
        "outputId": "cc2ff084-8fe4-45e3-e98a-4502de9fa57d"
      },
      "execution_count": 69,
      "outputs": [
        {
          "output_type": "stream",
          "name": "stdout",
          "text": [
            "True\n"
          ]
        }
      ]
    },
    {
      "cell_type": "markdown",
      "source": [
        "**8. Operators**"
      ],
      "metadata": {
        "id": "71ItJLIVtZim"
      }
    },
    {
      "cell_type": "markdown",
      "source": [
        "Python Arithmetic Operators\n",
        "\n",
        "\n",
        "![Arithmetic.png](data:image/png;base64,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)"
      ],
      "metadata": {
        "id": "eut_iov5t6Nq"
      }
    },
    {
      "cell_type": "markdown",
      "source": [
        "Python Assignment Operators\n",
        "\n",
        "![Assignment.png](data:image/png;base64,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)"
      ],
      "metadata": {
        "id": "warVDZDnu9ZT"
      }
    },
    {
      "cell_type": "markdown",
      "source": [
        "Python Comparison Operators\n",
        "\n",
        "![Comparison.png](data:image/png;base64,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)"
      ],
      "metadata": {
        "id": "rPos39PBvQK8"
      }
    },
    {
      "cell_type": "markdown",
      "source": [
        "Python Logical Operators\n",
        "\n",
        "![Logical.png](data:image/png;base64,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)"
      ],
      "metadata": {
        "id": "7ZEFNYRJv9ru"
      }
    },
    {
      "cell_type": "markdown",
      "source": [
        "Python Identity Operators\n",
        "\n",
        "![Identity.png](data:image/png;base64,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)"
      ],
      "metadata": {
        "id": "Pd8jLedev-PX"
      }
    },
    {
      "cell_type": "markdown",
      "source": [
        "Python Membership Operators\n",
        "\n",
        "![Membership.png](data:image/png;base64,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)"
      ],
      "metadata": {
        "id": "TjNyfAxTwGPp"
      }
    },
    {
      "cell_type": "markdown",
      "source": [
        "Python Bitwise Operators\n",
        "\n",
        "![Bitwise.png](data:image/png;base64,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)"
      ],
      "metadata": {
        "id": "B4BHNhs2wK1Y"
      }
    },
    {
      "cell_type": "markdown",
      "source": [
        "Operator Precedence\n",
        "\n",
        "![Precedence.png](data:image/png;base64,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)"
      ],
      "metadata": {
        "id": "2nRX8Qk9wPFu"
      }
    },
    {
      "cell_type": "code",
      "source": [
        "print((6 + 3) - (6 + 3))"
      ],
      "metadata": {
        "colab": {
          "base_uri": "https://localhost:8080/"
        },
        "id": "3hZcVl_gt75m",
        "outputId": "ed351791-36a8-464c-d4f5-9c2fed6f5fda"
      },
      "execution_count": 70,
      "outputs": [
        {
          "output_type": "stream",
          "name": "stdout",
          "text": [
            "0\n"
          ]
        }
      ]
    },
    {
      "cell_type": "code",
      "source": [
        "print(100 + 5 * 3)"
      ],
      "metadata": {
        "colab": {
          "base_uri": "https://localhost:8080/"
        },
        "id": "2uZIX6G3wq8r",
        "outputId": "81a6a55c-675d-48f4-8185-377a90c4ed13"
      },
      "execution_count": 71,
      "outputs": [
        {
          "output_type": "stream",
          "name": "stdout",
          "text": [
            "115\n"
          ]
        }
      ]
    },
    {
      "cell_type": "code",
      "source": [
        "print(5 + 4 - 7 + 3)"
      ],
      "metadata": {
        "colab": {
          "base_uri": "https://localhost:8080/"
        },
        "id": "OZUMnS4ews69",
        "outputId": "98e1246a-76d1-4d98-c1f2-3ebef8540499"
      },
      "execution_count": 72,
      "outputs": [
        {
          "output_type": "stream",
          "name": "stdout",
          "text": [
            "5\n"
          ]
        }
      ]
    },
    {
      "cell_type": "markdown",
      "source": [
        "**9. Lists**"
      ],
      "metadata": {
        "id": "lz7nHj81w0W4"
      }
    },
    {
      "cell_type": "markdown",
      "source": [
        "Create a List:"
      ],
      "metadata": {
        "id": "VSi-3tTTw63x"
      }
    },
    {
      "cell_type": "code",
      "source": [
        "mylist = [\"apple\", \"banana\", \"cherry\"]\n",
        "print(mylist)"
      ],
      "metadata": {
        "colab": {
          "base_uri": "https://localhost:8080/"
        },
        "id": "gYBxc0pXw7bz",
        "outputId": "92b2a43d-5ad9-4841-f85c-85977610fd72"
      },
      "execution_count": 73,
      "outputs": [
        {
          "output_type": "stream",
          "name": "stdout",
          "text": [
            "['apple', 'banana', 'cherry']\n"
          ]
        }
      ]
    },
    {
      "cell_type": "markdown",
      "source": [
        "Lists allow duplicate values:"
      ],
      "metadata": {
        "id": "15PxiwtpxEA1"
      }
    },
    {
      "cell_type": "code",
      "source": [
        "thislist = [\"apple\", \"banana\", \"cherry\", \"apple\", \"cherry\"]\n",
        "print(thislist)"
      ],
      "metadata": {
        "colab": {
          "base_uri": "https://localhost:8080/"
        },
        "id": "EsN8zk54xFMg",
        "outputId": "f23935cf-fb91-4df5-c357-f4043d5b5aa2"
      },
      "execution_count": 74,
      "outputs": [
        {
          "output_type": "stream",
          "name": "stdout",
          "text": [
            "['apple', 'banana', 'cherry', 'apple', 'cherry']\n"
          ]
        }
      ]
    },
    {
      "cell_type": "markdown",
      "source": [
        "Print the number of items in the list:"
      ],
      "metadata": {
        "id": "nxcD_IMCxMdo"
      }
    },
    {
      "cell_type": "code",
      "source": [
        "thislist = [\"apple\", \"banana\", \"cherry\"]\n",
        "print(len(thislist))"
      ],
      "metadata": {
        "colab": {
          "base_uri": "https://localhost:8080/"
        },
        "id": "BO-zpUwwxNYA",
        "outputId": "3cd9e509-cbe2-4163-b14a-a48913cc80bf"
      },
      "execution_count": 75,
      "outputs": [
        {
          "output_type": "stream",
          "name": "stdout",
          "text": [
            "3\n"
          ]
        }
      ]
    },
    {
      "cell_type": "markdown",
      "source": [
        "String, int and boolean data types:"
      ],
      "metadata": {
        "id": "EJH40aQ8xPVb"
      }
    },
    {
      "cell_type": "code",
      "source": [
        "list1 = [\"apple\", \"banana\", \"cherry\"]\n",
        "list2 = [1, 5, 7, 9, 3]\n",
        "list3 = [True, False, False]"
      ],
      "metadata": {
        "id": "DNV8JOIxxQWY"
      },
      "execution_count": 76,
      "outputs": []
    },
    {
      "cell_type": "markdown",
      "source": [
        "A list with strings, integers and boolean values:"
      ],
      "metadata": {
        "id": "k24CNNwyxW7l"
      }
    },
    {
      "cell_type": "code",
      "source": [
        "list1 = [\"abc\", 34, True, 40, \"male\"]"
      ],
      "metadata": {
        "id": "WiHwb5vyxX-A"
      },
      "execution_count": 77,
      "outputs": []
    },
    {
      "cell_type": "markdown",
      "source": [
        "What is the data type of a list?"
      ],
      "metadata": {
        "id": "BlQhriPGxcaP"
      }
    },
    {
      "cell_type": "code",
      "source": [
        "mylist = [\"apple\", \"banana\", \"cherry\"]\n",
        "print(type(mylist))"
      ],
      "metadata": {
        "colab": {
          "base_uri": "https://localhost:8080/"
        },
        "id": "cDZ29rIAxda5",
        "outputId": "283b3708-dbb8-4c16-fc64-69072d582206"
      },
      "execution_count": 78,
      "outputs": [
        {
          "output_type": "stream",
          "name": "stdout",
          "text": [
            "<class 'list'>\n"
          ]
        }
      ]
    },
    {
      "cell_type": "markdown",
      "source": [
        "Using the list() constructor to make a List:"
      ],
      "metadata": {
        "id": "xPcnLO7axhV9"
      }
    },
    {
      "cell_type": "code",
      "source": [
        "thislist = list((\"apple\", \"banana\", \"cherry\")) # note the double round-brackets\n",
        "print(thislist)"
      ],
      "metadata": {
        "colab": {
          "base_uri": "https://localhost:8080/"
        },
        "id": "u23F5ASfxiK4",
        "outputId": "8ef2a1f0-0cca-4f86-c942-a69a42249f13"
      },
      "execution_count": 79,
      "outputs": [
        {
          "output_type": "stream",
          "name": "stdout",
          "text": [
            "['apple', 'banana', 'cherry']\n"
          ]
        }
      ]
    },
    {
      "cell_type": "markdown",
      "source": [
        "**9.1. Access List Items**"
      ],
      "metadata": {
        "id": "KjsFnHu6x17s"
      }
    },
    {
      "cell_type": "markdown",
      "source": [
        "Print the second item of the list:"
      ],
      "metadata": {
        "id": "7bfO64xYx4VO"
      }
    },
    {
      "cell_type": "code",
      "source": [
        "thislist = [\"apple\", \"banana\", \"cherry\"]\n",
        "print(thislist[1])"
      ],
      "metadata": {
        "colab": {
          "base_uri": "https://localhost:8080/"
        },
        "id": "ZJ5UyUnrx5SZ",
        "outputId": "1b351540-ead3-41fc-d3d6-74050db2fd70"
      },
      "execution_count": 80,
      "outputs": [
        {
          "output_type": "stream",
          "name": "stdout",
          "text": [
            "banana\n"
          ]
        }
      ]
    },
    {
      "cell_type": "markdown",
      "source": [
        "Print the last item of the list:"
      ],
      "metadata": {
        "id": "so5gZ3TIx8XW"
      }
    },
    {
      "cell_type": "code",
      "source": [
        "thislist = [\"apple\", \"banana\", \"cherry\"]\n",
        "print(thislist[-1])"
      ],
      "metadata": {
        "colab": {
          "base_uri": "https://localhost:8080/"
        },
        "id": "47u3c3c8x92Q",
        "outputId": "932de760-a3cf-42c8-d01f-1871ffe76281"
      },
      "execution_count": 81,
      "outputs": [
        {
          "output_type": "stream",
          "name": "stdout",
          "text": [
            "cherry\n"
          ]
        }
      ]
    },
    {
      "cell_type": "markdown",
      "source": [
        "Return the third, fourth, and fifth item:"
      ],
      "metadata": {
        "id": "RJNcXZzGyBTr"
      }
    },
    {
      "cell_type": "code",
      "source": [
        "thislist = [\"apple\", \"banana\", \"cherry\", \"orange\", \"kiwi\", \"melon\", \"mango\"]\n",
        "print(thislist[2:5])"
      ],
      "metadata": {
        "colab": {
          "base_uri": "https://localhost:8080/"
        },
        "id": "ecq20v4AyDGZ",
        "outputId": "5db4aafd-d272-463b-d7e5-02fc381e0605"
      },
      "execution_count": 82,
      "outputs": [
        {
          "output_type": "stream",
          "name": "stdout",
          "text": [
            "['cherry', 'orange', 'kiwi']\n"
          ]
        }
      ]
    },
    {
      "cell_type": "markdown",
      "source": [
        "This example returns the items from the beginning to, but NOT including, \"kiwi\":"
      ],
      "metadata": {
        "id": "IAkQdATZyHxK"
      }
    },
    {
      "cell_type": "code",
      "source": [
        "thislist = [\"apple\", \"banana\", \"cherry\", \"orange\", \"kiwi\", \"melon\", \"mango\"]\n",
        "print(thislist[:4])"
      ],
      "metadata": {
        "colab": {
          "base_uri": "https://localhost:8080/"
        },
        "id": "gHlUZGMhyIvO",
        "outputId": "efda2c1e-c002-4f91-d8d8-db26ec824dab"
      },
      "execution_count": 83,
      "outputs": [
        {
          "output_type": "stream",
          "name": "stdout",
          "text": [
            "['apple', 'banana', 'cherry', 'orange']\n"
          ]
        }
      ]
    },
    {
      "cell_type": "markdown",
      "source": [
        "This example returns the items from \"cherry\" to the end:"
      ],
      "metadata": {
        "id": "0dhhBiPTyXWW"
      }
    },
    {
      "cell_type": "code",
      "source": [
        "thislist = [\"apple\", \"banana\", \"cherry\", \"orange\", \"kiwi\", \"melon\", \"mango\"]\n",
        "print(thislist[2:])"
      ],
      "metadata": {
        "colab": {
          "base_uri": "https://localhost:8080/"
        },
        "id": "33avOn-HyYY_",
        "outputId": "fddf66ce-1ec4-4eed-f124-366b08adceda"
      },
      "execution_count": 84,
      "outputs": [
        {
          "output_type": "stream",
          "name": "stdout",
          "text": [
            "['cherry', 'orange', 'kiwi', 'melon', 'mango']\n"
          ]
        }
      ]
    },
    {
      "cell_type": "markdown",
      "source": [
        "This example returns the items from \"orange\" (-4) to, but NOT including \"mango\" (-1):"
      ],
      "metadata": {
        "id": "M2iGapo0ymT1"
      }
    },
    {
      "cell_type": "code",
      "source": [
        "thislist = [\"apple\", \"banana\", \"cherry\", \"orange\", \"kiwi\", \"melon\", \"mango\"]\n",
        "print(thislist[-4:-1])"
      ],
      "metadata": {
        "colab": {
          "base_uri": "https://localhost:8080/"
        },
        "id": "vyl0-wt0ynQR",
        "outputId": "6a1ba800-cdf0-4451-ba98-c71b174b538c"
      },
      "execution_count": 85,
      "outputs": [
        {
          "output_type": "stream",
          "name": "stdout",
          "text": [
            "['orange', 'kiwi', 'melon']\n"
          ]
        }
      ]
    },
    {
      "cell_type": "markdown",
      "source": [
        "Check if \"apple\" is present in the list:"
      ],
      "metadata": {
        "id": "9yqt9k2syoxm"
      }
    },
    {
      "cell_type": "code",
      "source": [
        "thislist = [\"apple\", \"banana\", \"cherry\"]\n",
        "if \"apple\" in thislist:\n",
        "  print(\"Yes, 'apple' is in the fruits list\")"
      ],
      "metadata": {
        "colab": {
          "base_uri": "https://localhost:8080/"
        },
        "id": "ImnlPiT5yp5P",
        "outputId": "0b46fe22-a272-41d3-cf7d-911375492257"
      },
      "execution_count": 86,
      "outputs": [
        {
          "output_type": "stream",
          "name": "stdout",
          "text": [
            "Yes, 'apple' is in the fruits list\n"
          ]
        }
      ]
    },
    {
      "cell_type": "markdown",
      "source": [
        "**9.2. Change List Items**"
      ],
      "metadata": {
        "id": "VgzY6godysrJ"
      }
    },
    {
      "cell_type": "markdown",
      "source": [
        "Change the second item:"
      ],
      "metadata": {
        "id": "8_I6HndUyulO"
      }
    },
    {
      "cell_type": "code",
      "source": [
        "thislist = [\"apple\", \"banana\", \"cherry\"]\n",
        "thislist[1] = \"blackcurrant\"\n",
        "print(thislist)"
      ],
      "metadata": {
        "colab": {
          "base_uri": "https://localhost:8080/"
        },
        "id": "F1QIx52hyvDo",
        "outputId": "949d05ed-c5b6-4422-e5e3-1f42e7f6f0ac"
      },
      "execution_count": 87,
      "outputs": [
        {
          "output_type": "stream",
          "name": "stdout",
          "text": [
            "['apple', 'blackcurrant', 'cherry']\n"
          ]
        }
      ]
    },
    {
      "cell_type": "markdown",
      "source": [
        "Change the values \"banana\" and \"cherry\" with the values \"blackcurrant\" and \"watermelon\":"
      ],
      "metadata": {
        "id": "oam9mghDyzhk"
      }
    },
    {
      "cell_type": "code",
      "source": [
        "thislist = [\"apple\", \"banana\", \"cherry\", \"orange\", \"kiwi\", \"mango\"]\n",
        "thislist[1:3] = [\"blackcurrant\", \"watermelon\"]\n",
        "print(thislist)"
      ],
      "metadata": {
        "colab": {
          "base_uri": "https://localhost:8080/"
        },
        "id": "bfbAph0ly0rc",
        "outputId": "79cd48e2-4312-4c34-a2e8-b7fb66d6dc20"
      },
      "execution_count": 88,
      "outputs": [
        {
          "output_type": "stream",
          "name": "stdout",
          "text": [
            "['apple', 'blackcurrant', 'watermelon', 'orange', 'kiwi', 'mango']\n"
          ]
        }
      ]
    },
    {
      "cell_type": "markdown",
      "source": [
        "Change the second value by replacing it with two new values:"
      ],
      "metadata": {
        "id": "EOryUDtoy2wD"
      }
    },
    {
      "cell_type": "code",
      "source": [
        "thislist = [\"apple\", \"banana\", \"cherry\"]\n",
        "thislist[1:2] = [\"blackcurrant\", \"watermelon\"]\n",
        "print(thislist)"
      ],
      "metadata": {
        "colab": {
          "base_uri": "https://localhost:8080/"
        },
        "id": "S9075Nqby4_y",
        "outputId": "dfb92213-f537-4b3f-d4ef-db72ebcde4db"
      },
      "execution_count": 89,
      "outputs": [
        {
          "output_type": "stream",
          "name": "stdout",
          "text": [
            "['apple', 'blackcurrant', 'watermelon', 'cherry']\n"
          ]
        }
      ]
    },
    {
      "cell_type": "markdown",
      "source": [
        "Change the second and third value by replacing it with one value:"
      ],
      "metadata": {
        "id": "SfG-jmGjy8cu"
      }
    },
    {
      "cell_type": "code",
      "source": [
        "thislist = [\"apple\", \"banana\", \"cherry\"]\n",
        "thislist[1:3] = [\"watermelon\"]\n",
        "print(thislist)"
      ],
      "metadata": {
        "colab": {
          "base_uri": "https://localhost:8080/"
        },
        "id": "MDkUtG6Ry7We",
        "outputId": "68926a1d-0c20-40c0-ec10-7e7798e47e01"
      },
      "execution_count": 90,
      "outputs": [
        {
          "output_type": "stream",
          "name": "stdout",
          "text": [
            "['apple', 'watermelon']\n"
          ]
        }
      ]
    },
    {
      "cell_type": "markdown",
      "source": [
        "Insert \"watermelon\" as the third item:"
      ],
      "metadata": {
        "id": "VUTn5Smky9f2"
      }
    },
    {
      "cell_type": "code",
      "source": [
        "thislist = [\"apple\", \"banana\", \"cherry\"]\n",
        "thislist.insert(2, \"watermelon\")\n",
        "print(thislist)"
      ],
      "metadata": {
        "colab": {
          "base_uri": "https://localhost:8080/"
        },
        "id": "_wMI969dy_LY",
        "outputId": "7cb01a13-9051-4575-b68b-69ea2f68c3f9"
      },
      "execution_count": 91,
      "outputs": [
        {
          "output_type": "stream",
          "name": "stdout",
          "text": [
            "['apple', 'banana', 'watermelon', 'cherry']\n"
          ]
        }
      ]
    },
    {
      "cell_type": "markdown",
      "source": [
        "**9.3. Add List**"
      ],
      "metadata": {
        "id": "rqAlkavozCND"
      }
    },
    {
      "cell_type": "markdown",
      "source": [
        "Using the append() method to append an item:"
      ],
      "metadata": {
        "id": "8pxJvZ4nzE_6"
      }
    },
    {
      "cell_type": "code",
      "source": [
        "thislist = [\"apple\", \"banana\", \"cherry\"]\n",
        "thislist.append(\"orange\")\n",
        "print(thislist)"
      ],
      "metadata": {
        "colab": {
          "base_uri": "https://localhost:8080/"
        },
        "id": "4mTwCd-UzHJa",
        "outputId": "4fbadfc0-f581-4995-8e7c-d4a5d8c33811"
      },
      "execution_count": 92,
      "outputs": [
        {
          "output_type": "stream",
          "name": "stdout",
          "text": [
            "['apple', 'banana', 'cherry', 'orange']\n"
          ]
        }
      ]
    },
    {
      "cell_type": "markdown",
      "source": [
        "Insert an item as the second position:"
      ],
      "metadata": {
        "id": "q_ovqgIOzOpb"
      }
    },
    {
      "cell_type": "code",
      "source": [
        "thislist = [\"apple\", \"banana\", \"cherry\"]\n",
        "thislist.insert(1, \"orange\")\n",
        "print(thislist)"
      ],
      "metadata": {
        "colab": {
          "base_uri": "https://localhost:8080/"
        },
        "id": "_tZcYHJDzPpf",
        "outputId": "2aa51fbf-f767-463b-9d39-b73ba07722cf"
      },
      "execution_count": 93,
      "outputs": [
        {
          "output_type": "stream",
          "name": "stdout",
          "text": [
            "['apple', 'orange', 'banana', 'cherry']\n"
          ]
        }
      ]
    },
    {
      "cell_type": "markdown",
      "source": [
        "Add the elements of tropical to thislist:"
      ],
      "metadata": {
        "id": "_svlWhQ4zU8G"
      }
    },
    {
      "cell_type": "code",
      "source": [
        "thislist = [\"apple\", \"banana\", \"cherry\"]\n",
        "tropical = [\"mango\", \"pineapple\", \"papaya\"]\n",
        "thislist.extend(tropical)\n",
        "print(thislist)"
      ],
      "metadata": {
        "colab": {
          "base_uri": "https://localhost:8080/"
        },
        "id": "DT2cNIJuzWHs",
        "outputId": "cd7cdfdb-1db7-47b2-d4de-892faaa7036b"
      },
      "execution_count": 94,
      "outputs": [
        {
          "output_type": "stream",
          "name": "stdout",
          "text": [
            "['apple', 'banana', 'cherry', 'mango', 'pineapple', 'papaya']\n"
          ]
        }
      ]
    },
    {
      "cell_type": "markdown",
      "source": [
        "Add elements of a tuple to a list:"
      ],
      "metadata": {
        "id": "4yAda89ZzcZS"
      }
    },
    {
      "cell_type": "code",
      "source": [
        "thislist = [\"apple\", \"banana\", \"cherry\"]\n",
        "thistuple = (\"kiwi\", \"orange\")\n",
        "thislist.extend(thistuple)\n",
        "print(thislist)"
      ],
      "metadata": {
        "colab": {
          "base_uri": "https://localhost:8080/"
        },
        "id": "WOWV6oQpzeae",
        "outputId": "d140153a-0219-4210-e442-8426583093e6"
      },
      "execution_count": 95,
      "outputs": [
        {
          "output_type": "stream",
          "name": "stdout",
          "text": [
            "['apple', 'banana', 'cherry', 'kiwi', 'orange']\n"
          ]
        }
      ]
    },
    {
      "cell_type": "markdown",
      "source": [
        "**9.4. Remove List Items**"
      ],
      "metadata": {
        "id": "OdH9eactzh8i"
      }
    },
    {
      "cell_type": "markdown",
      "source": [
        "Remove \"banana\":"
      ],
      "metadata": {
        "id": "Xq_OGYgOzjv1"
      }
    },
    {
      "cell_type": "code",
      "source": [
        "thislist = [\"apple\", \"banana\", \"cherry\"]\n",
        "thislist.remove(\"banana\")\n",
        "print(thislist)"
      ],
      "metadata": {
        "colab": {
          "base_uri": "https://localhost:8080/"
        },
        "id": "IZZRkH_7zmE7",
        "outputId": "b6110de8-00f3-415c-8b75-eaf069d166a0"
      },
      "execution_count": 96,
      "outputs": [
        {
          "output_type": "stream",
          "name": "stdout",
          "text": [
            "['apple', 'cherry']\n"
          ]
        }
      ]
    },
    {
      "cell_type": "markdown",
      "source": [
        "Remove the second item:"
      ],
      "metadata": {
        "id": "UgQ_pcHczpFa"
      }
    },
    {
      "cell_type": "code",
      "source": [
        "thislist = [\"apple\", \"banana\", \"cherry\"]\n",
        "thislist.pop(1)\n",
        "print(thislist)"
      ],
      "metadata": {
        "colab": {
          "base_uri": "https://localhost:8080/"
        },
        "id": "CkL6ke3Dzp8c",
        "outputId": "44962449-c728-4d6b-fc88-cac6c9afa802"
      },
      "execution_count": 97,
      "outputs": [
        {
          "output_type": "stream",
          "name": "stdout",
          "text": [
            "['apple', 'cherry']\n"
          ]
        }
      ]
    },
    {
      "cell_type": "markdown",
      "source": [
        "Remove the last item:"
      ],
      "metadata": {
        "id": "IqM2ZdqwzrJQ"
      }
    },
    {
      "cell_type": "code",
      "source": [
        "thislist = [\"apple\", \"banana\", \"cherry\"]\n",
        "thislist.pop()\n",
        "print(thislist)"
      ],
      "metadata": {
        "colab": {
          "base_uri": "https://localhost:8080/"
        },
        "id": "r6d0RHnizsF2",
        "outputId": "6982d3ab-d0b5-424e-81de-c08f29c51641"
      },
      "execution_count": 98,
      "outputs": [
        {
          "output_type": "stream",
          "name": "stdout",
          "text": [
            "['apple', 'banana']\n"
          ]
        }
      ]
    },
    {
      "cell_type": "markdown",
      "source": [
        "Remove the first item:"
      ],
      "metadata": {
        "id": "56zJiTOFz3Fq"
      }
    },
    {
      "cell_type": "code",
      "source": [
        "thislist = [\"apple\", \"banana\", \"cherry\"]\n",
        "del thislist[0]\n",
        "print(thislist)"
      ],
      "metadata": {
        "colab": {
          "base_uri": "https://localhost:8080/"
        },
        "id": "eV2n0vTFz4YH",
        "outputId": "126d412f-31a4-4b3e-add0-911f780332a0"
      },
      "execution_count": 99,
      "outputs": [
        {
          "output_type": "stream",
          "name": "stdout",
          "text": [
            "['banana', 'cherry']\n"
          ]
        }
      ]
    },
    {
      "cell_type": "markdown",
      "source": [
        "Delete the entire list:"
      ],
      "metadata": {
        "id": "jAB1rEHVz8oE"
      }
    },
    {
      "cell_type": "code",
      "source": [
        "thislist = [\"apple\", \"banana\", \"cherry\"]\n",
        "del thislist"
      ],
      "metadata": {
        "id": "qEJCCLTvz9pO"
      },
      "execution_count": 100,
      "outputs": []
    },
    {
      "cell_type": "markdown",
      "source": [
        "Clear the list content:"
      ],
      "metadata": {
        "id": "o-50hSvqz_f8"
      }
    },
    {
      "cell_type": "code",
      "source": [
        "thislist = [\"apple\", \"banana\", \"cherry\"]\n",
        "thislist.clear()\n",
        "print(thislist)"
      ],
      "metadata": {
        "colab": {
          "base_uri": "https://localhost:8080/"
        },
        "id": "bHIujEsF0AbU",
        "outputId": "267fbf03-57d0-48ed-a5aa-719fcf0c1770"
      },
      "execution_count": 101,
      "outputs": [
        {
          "output_type": "stream",
          "name": "stdout",
          "text": [
            "[]\n"
          ]
        }
      ]
    },
    {
      "cell_type": "markdown",
      "source": [
        "**9.5. Loop Lists**"
      ],
      "metadata": {
        "id": "GNLbCzc40eYd"
      }
    },
    {
      "cell_type": "markdown",
      "source": [
        "Print all items in the list, one by one:"
      ],
      "metadata": {
        "id": "TUQD5q3Y0gyk"
      }
    },
    {
      "cell_type": "code",
      "source": [
        "thislist = [\"apple\", \"banana\", \"cherry\"]\n",
        "for x in thislist:\n",
        "  print(x)"
      ],
      "metadata": {
        "colab": {
          "base_uri": "https://localhost:8080/"
        },
        "id": "qVzAfE120iCf",
        "outputId": "ec352c0e-dc82-452a-fdc0-330dbb8e4d25"
      },
      "execution_count": 102,
      "outputs": [
        {
          "output_type": "stream",
          "name": "stdout",
          "text": [
            "apple\n",
            "banana\n",
            "cherry\n"
          ]
        }
      ]
    },
    {
      "cell_type": "markdown",
      "source": [
        "Print all items by referring to their index number:"
      ],
      "metadata": {
        "id": "KCoAE2JL0mZQ"
      }
    },
    {
      "cell_type": "code",
      "source": [
        "thislist = [\"apple\", \"banana\", \"cherry\"]\n",
        "for i in range(len(thislist)):\n",
        "  print(thislist[i])"
      ],
      "metadata": {
        "colab": {
          "base_uri": "https://localhost:8080/"
        },
        "id": "a-BYTezW0pv4",
        "outputId": "d6dce085-5a4e-43da-d111-e33d8b3ed86c"
      },
      "execution_count": 103,
      "outputs": [
        {
          "output_type": "stream",
          "name": "stdout",
          "text": [
            "apple\n",
            "banana\n",
            "cherry\n"
          ]
        }
      ]
    },
    {
      "cell_type": "markdown",
      "source": [
        "Print all items, using a while loop to go through all the index numbers"
      ],
      "metadata": {
        "id": "XiYpC5Dr0oFg"
      }
    },
    {
      "cell_type": "code",
      "source": [
        "thislist = [\"apple\", \"banana\", \"cherry\"]\n",
        "i = 0\n",
        "while i < len(thislist):\n",
        "  print(thislist[i])\n",
        "  i = i + 1"
      ],
      "metadata": {
        "colab": {
          "base_uri": "https://localhost:8080/"
        },
        "id": "qPIkdQ4P0tq8",
        "outputId": "88d44f51-fd42-4855-ac1f-1f68d37ef7d2"
      },
      "execution_count": 104,
      "outputs": [
        {
          "output_type": "stream",
          "name": "stdout",
          "text": [
            "apple\n",
            "banana\n",
            "cherry\n"
          ]
        }
      ]
    },
    {
      "cell_type": "markdown",
      "source": [
        "A short hand for loop that will print all items in a list:"
      ],
      "metadata": {
        "id": "2Jusyu110v9M"
      }
    },
    {
      "cell_type": "code",
      "source": [
        "thislist = [\"apple\", \"banana\", \"cherry\"]\n",
        "[print(x) for x in thislist]"
      ],
      "metadata": {
        "colab": {
          "base_uri": "https://localhost:8080/"
        },
        "id": "P42MHaSY0xN4",
        "outputId": "b32ac463-744d-498c-babe-50651a6db738"
      },
      "execution_count": 105,
      "outputs": [
        {
          "output_type": "stream",
          "name": "stdout",
          "text": [
            "apple\n",
            "banana\n",
            "cherry\n"
          ]
        },
        {
          "output_type": "execute_result",
          "data": {
            "text/plain": [
              "[None, None, None]"
            ]
          },
          "metadata": {},
          "execution_count": 105
        }
      ]
    },
    {
      "cell_type": "markdown",
      "source": [
        "**9.6. List Comprehension**"
      ],
      "metadata": {
        "id": "tJpovHBb01ZK"
      }
    },
    {
      "cell_type": "code",
      "source": [
        "fruits = [\"apple\", \"banana\", \"cherry\", \"kiwi\", \"mango\"]\n",
        "newlist = []\n",
        "\n",
        "for x in fruits:\n",
        "  if \"a\" in x:\n",
        "    newlist.append(x)\n",
        "\n",
        "print(newlist)"
      ],
      "metadata": {
        "colab": {
          "base_uri": "https://localhost:8080/"
        },
        "id": "dMtnDAKu04Lw",
        "outputId": "cad6b7ba-1656-4a9d-fc96-c02146eedaf8"
      },
      "execution_count": 106,
      "outputs": [
        {
          "output_type": "stream",
          "name": "stdout",
          "text": [
            "['apple', 'banana', 'mango']\n"
          ]
        }
      ]
    },
    {
      "cell_type": "markdown",
      "source": [
        "With list comprehension you can do all that with only one line of code:"
      ],
      "metadata": {
        "id": "E34Xl0E802Z1"
      }
    },
    {
      "cell_type": "code",
      "source": [
        "fruits = [\"apple\", \"banana\", \"cherry\", \"kiwi\", \"mango\"]\n",
        "\n",
        "newlist = [x for x in fruits if \"a\" in x]\n",
        "\n",
        "print(newlist)"
      ],
      "metadata": {
        "colab": {
          "base_uri": "https://localhost:8080/"
        },
        "id": "9NDf5HHb0_yk",
        "outputId": "703954e4-904d-440b-9609-2571d9ab50aa"
      },
      "execution_count": 107,
      "outputs": [
        {
          "output_type": "stream",
          "name": "stdout",
          "text": [
            "['apple', 'banana', 'mango']\n"
          ]
        }
      ]
    },
    {
      "cell_type": "markdown",
      "source": [
        "Only accept items that are not \"apple\":"
      ],
      "metadata": {
        "id": "RFlAXuMU1CfH"
      }
    },
    {
      "cell_type": "code",
      "source": [
        "newlist = [x for x in fruits if x != \"apple\"]\n",
        "print(newlist)"
      ],
      "metadata": {
        "colab": {
          "base_uri": "https://localhost:8080/"
        },
        "id": "g0sJpG0F1DhB",
        "outputId": "35262088-edf2-4208-b7d3-65bad4e2f6f4"
      },
      "execution_count": 108,
      "outputs": [
        {
          "output_type": "stream",
          "name": "stdout",
          "text": [
            "['banana', 'cherry', 'kiwi', 'mango']\n"
          ]
        }
      ]
    },
    {
      "cell_type": "markdown",
      "source": [
        "With no if statement:"
      ],
      "metadata": {
        "id": "5hew638g1fOC"
      }
    },
    {
      "cell_type": "code",
      "source": [
        "newlist = [x for x in fruits]"
      ],
      "metadata": {
        "id": "KmqJPVi11gZn"
      },
      "execution_count": 109,
      "outputs": []
    },
    {
      "cell_type": "markdown",
      "source": [
        "You can use the range() function to create an iterable:"
      ],
      "metadata": {
        "id": "IaZ4UcPP1iFK"
      }
    },
    {
      "cell_type": "code",
      "source": [
        "newlist = [x for x in range(10)]"
      ],
      "metadata": {
        "id": "cUhnYxF51jlE"
      },
      "execution_count": 110,
      "outputs": []
    },
    {
      "cell_type": "markdown",
      "source": [
        "Accept only numbers lower than 5:"
      ],
      "metadata": {
        "id": "kYHzSr4l1mRn"
      }
    },
    {
      "cell_type": "code",
      "source": [
        "newlist = [x for x in range(10) if x < 5]"
      ],
      "metadata": {
        "id": "hQMfC_lD1o03"
      },
      "execution_count": 111,
      "outputs": []
    },
    {
      "cell_type": "markdown",
      "source": [
        "Set the values in the new list to upper case:"
      ],
      "metadata": {
        "id": "47V_xoCg1sYL"
      }
    },
    {
      "cell_type": "code",
      "source": [
        "newlist = [x.upper() for x in fruits]"
      ],
      "metadata": {
        "id": "YrSq5oFc1tcw"
      },
      "execution_count": 112,
      "outputs": []
    },
    {
      "cell_type": "markdown",
      "source": [
        "Set all values in the new list to 'hello'"
      ],
      "metadata": {
        "id": "tHHjkW4W1uzT"
      }
    },
    {
      "cell_type": "code",
      "source": [
        "newlist = ['hello' for x in fruits]"
      ],
      "metadata": {
        "id": "hmfPA_dd1wCm"
      },
      "execution_count": 113,
      "outputs": []
    },
    {
      "cell_type": "markdown",
      "source": [
        "Return \"orange\" instead of \"banana\":"
      ],
      "metadata": {
        "id": "6eU2sXB51xnY"
      }
    },
    {
      "cell_type": "code",
      "source": [
        "newlist = [x if x != \"banana\" else \"orange\" for x in fruits]"
      ],
      "metadata": {
        "id": "_Sdqe3X21y9m"
      },
      "execution_count": 114,
      "outputs": []
    },
    {
      "cell_type": "markdown",
      "source": [
        "**9.7. Sort Lists**"
      ],
      "metadata": {
        "id": "UrZivUus2FDW"
      }
    },
    {
      "cell_type": "markdown",
      "source": [
        "Sort the list alphabetically:"
      ],
      "metadata": {
        "id": "ysGNsJ8m2Gp4"
      }
    },
    {
      "cell_type": "code",
      "source": [
        "thislist = [\"orange\", \"mango\", \"kiwi\", \"pineapple\", \"banana\"]\n",
        "thislist.sort()\n",
        "print(thislist)"
      ],
      "metadata": {
        "colab": {
          "base_uri": "https://localhost:8080/"
        },
        "id": "XM0rwxsM2JhG",
        "outputId": "c12174d7-d4aa-431a-cfed-0cf7c2c9e095"
      },
      "execution_count": 115,
      "outputs": [
        {
          "output_type": "stream",
          "name": "stdout",
          "text": [
            "['banana', 'kiwi', 'mango', 'orange', 'pineapple']\n"
          ]
        }
      ]
    },
    {
      "cell_type": "markdown",
      "source": [
        "Sort the list numerically:"
      ],
      "metadata": {
        "id": "rXr0vU9W2Lww"
      }
    },
    {
      "cell_type": "code",
      "source": [
        "thislist = [100, 50, 65, 82, 23]\n",
        "thislist.sort()\n",
        "print(thislist)"
      ],
      "metadata": {
        "colab": {
          "base_uri": "https://localhost:8080/"
        },
        "id": "qWf2GwEZ2NE_",
        "outputId": "6871cbcb-8253-4a88-e11e-92228ff2d3ff"
      },
      "execution_count": 116,
      "outputs": [
        {
          "output_type": "stream",
          "name": "stdout",
          "text": [
            "[23, 50, 65, 82, 100]\n"
          ]
        }
      ]
    },
    {
      "cell_type": "markdown",
      "source": [
        "Sort the list descending:"
      ],
      "metadata": {
        "id": "RnouZUcl2Pia"
      }
    },
    {
      "cell_type": "code",
      "source": [
        "thislist = [\"orange\", \"mango\", \"kiwi\", \"pineapple\", \"banana\"]\n",
        "thislist.sort(reverse = True)\n",
        "print(thislist)"
      ],
      "metadata": {
        "colab": {
          "base_uri": "https://localhost:8080/"
        },
        "id": "ep3Wvwn72Qg1",
        "outputId": "4a558da8-1138-4509-8400-4db5d0685fc8"
      },
      "execution_count": 117,
      "outputs": [
        {
          "output_type": "stream",
          "name": "stdout",
          "text": [
            "['pineapple', 'orange', 'mango', 'kiwi', 'banana']\n"
          ]
        }
      ]
    },
    {
      "cell_type": "markdown",
      "source": [
        "Sort the list descending:"
      ],
      "metadata": {
        "id": "bAP-OlbB2R1Y"
      }
    },
    {
      "cell_type": "code",
      "source": [
        "thislist = [100, 50, 65, 82, 23]\n",
        "thislist.sort(reverse = True)\n",
        "print(thislist)"
      ],
      "metadata": {
        "colab": {
          "base_uri": "https://localhost:8080/"
        },
        "id": "wIr87YAQ2S65",
        "outputId": "8217632a-45fc-4b3f-f2db-8da49406f5d8"
      },
      "execution_count": 118,
      "outputs": [
        {
          "output_type": "stream",
          "name": "stdout",
          "text": [
            "[100, 82, 65, 50, 23]\n"
          ]
        }
      ]
    },
    {
      "cell_type": "markdown",
      "source": [
        "Sort the list based on how close the number is to 50:"
      ],
      "metadata": {
        "id": "hTjSoNUZ2VNh"
      }
    },
    {
      "cell_type": "code",
      "source": [
        "def myfunc(n):\n",
        "  return abs(n - 50)\n",
        "\n",
        "thislist = [100, 50, 65, 82, 23]\n",
        "thislist.sort(key = myfunc)\n",
        "print(thislist)"
      ],
      "metadata": {
        "colab": {
          "base_uri": "https://localhost:8080/"
        },
        "id": "-G3HMLM02XCJ",
        "outputId": "0d9fd010-0025-4fa8-a157-f2fb5ee32b2f"
      },
      "execution_count": 119,
      "outputs": [
        {
          "output_type": "stream",
          "name": "stdout",
          "text": [
            "[50, 65, 23, 82, 100]\n"
          ]
        }
      ]
    },
    {
      "cell_type": "markdown",
      "source": [
        "Case sensitive sorting can give an unexpected result:"
      ],
      "metadata": {
        "id": "lupqRAGT2hR7"
      }
    },
    {
      "cell_type": "code",
      "source": [
        "thislist = [\"banana\", \"Orange\", \"Kiwi\", \"cherry\"]\n",
        "thislist.sort()\n",
        "print(thislist)"
      ],
      "metadata": {
        "colab": {
          "base_uri": "https://localhost:8080/"
        },
        "id": "46sJanyp2iNm",
        "outputId": "0742ff3e-1125-4a1d-e0d2-1ea2231aafbe"
      },
      "execution_count": 120,
      "outputs": [
        {
          "output_type": "stream",
          "name": "stdout",
          "text": [
            "['Kiwi', 'Orange', 'banana', 'cherry']\n"
          ]
        }
      ]
    },
    {
      "cell_type": "markdown",
      "source": [
        "Perform a case-insensitive sort of the list:"
      ],
      "metadata": {
        "id": "3No67o0M2n7H"
      }
    },
    {
      "cell_type": "code",
      "source": [
        "thislist = [\"banana\", \"Orange\", \"Kiwi\", \"cherry\"]\n",
        "thislist.sort(key = str.lower)\n",
        "print(thislist)"
      ],
      "metadata": {
        "colab": {
          "base_uri": "https://localhost:8080/"
        },
        "id": "0lovJreU2pQ4",
        "outputId": "7f9c2173-818e-4e61-86eb-124db3de1894"
      },
      "execution_count": 121,
      "outputs": [
        {
          "output_type": "stream",
          "name": "stdout",
          "text": [
            "['banana', 'cherry', 'Kiwi', 'Orange']\n"
          ]
        }
      ]
    },
    {
      "cell_type": "markdown",
      "source": [
        "Reverse the order of the list items:"
      ],
      "metadata": {
        "id": "rV4-mDQa2rIv"
      }
    },
    {
      "cell_type": "code",
      "source": [
        "thislist = [\"banana\", \"Orange\", \"Kiwi\", \"cherry\"]\n",
        "thislist.reverse()\n",
        "print(thislist)"
      ],
      "metadata": {
        "colab": {
          "base_uri": "https://localhost:8080/"
        },
        "id": "1q2T9d2g2sMo",
        "outputId": "4d2e2bc8-17a7-4a45-ded1-2d5b5f350a10"
      },
      "execution_count": 122,
      "outputs": [
        {
          "output_type": "stream",
          "name": "stdout",
          "text": [
            "['cherry', 'Kiwi', 'Orange', 'banana']\n"
          ]
        }
      ]
    },
    {
      "cell_type": "markdown",
      "source": [
        "**9.8. Copy Lists**"
      ],
      "metadata": {
        "id": "U4w9IRM-2vlg"
      }
    },
    {
      "cell_type": "markdown",
      "source": [
        "Make a copy of a list with the copy() method:"
      ],
      "metadata": {
        "id": "-Hlg_N3B2x1N"
      }
    },
    {
      "cell_type": "code",
      "source": [
        "thislist = [\"apple\", \"banana\", \"cherry\"]\n",
        "mylist = thislist.copy()\n",
        "print(mylist)"
      ],
      "metadata": {
        "colab": {
          "base_uri": "https://localhost:8080/"
        },
        "id": "_UwKzb682zBy",
        "outputId": "0531ffbb-ba98-48f3-98f2-edae29bc9bb0"
      },
      "execution_count": 123,
      "outputs": [
        {
          "output_type": "stream",
          "name": "stdout",
          "text": [
            "['apple', 'banana', 'cherry']\n"
          ]
        }
      ]
    },
    {
      "cell_type": "markdown",
      "source": [
        "Make a copy of a list with the list() method:"
      ],
      "metadata": {
        "id": "P4wvS5yB20uj"
      }
    },
    {
      "cell_type": "code",
      "source": [
        "thislist = [\"apple\", \"banana\", \"cherry\"]\n",
        "mylist = list(thislist)\n",
        "print(mylist)"
      ],
      "metadata": {
        "colab": {
          "base_uri": "https://localhost:8080/"
        },
        "id": "4ffCdsqy212Z",
        "outputId": "958414f2-2386-41a4-b1e8-48952556fba0"
      },
      "execution_count": 124,
      "outputs": [
        {
          "output_type": "stream",
          "name": "stdout",
          "text": [
            "['apple', 'banana', 'cherry']\n"
          ]
        }
      ]
    },
    {
      "cell_type": "markdown",
      "source": [
        "**9.9. Join Lists**"
      ],
      "metadata": {
        "id": "8_u13MF-23tf"
      }
    },
    {
      "cell_type": "markdown",
      "source": [
        "Join two list:"
      ],
      "metadata": {
        "id": "FYI1KwTV25L8"
      }
    },
    {
      "cell_type": "code",
      "source": [
        "list1 = [\"a\", \"b\", \"c\"]\n",
        "list2 = [1, 2, 3]\n",
        "\n",
        "list3 = list1 + list2\n",
        "print(list3)"
      ],
      "metadata": {
        "colab": {
          "base_uri": "https://localhost:8080/"
        },
        "id": "_BQAIXFF26X6",
        "outputId": "09b4f269-f415-41dd-f266-25a6d5aa5e59"
      },
      "execution_count": 125,
      "outputs": [
        {
          "output_type": "stream",
          "name": "stdout",
          "text": [
            "['a', 'b', 'c', 1, 2, 3]\n"
          ]
        }
      ]
    },
    {
      "cell_type": "markdown",
      "source": [
        "Append list2 into list1:"
      ],
      "metadata": {
        "id": "_h8u2KwI27-6"
      }
    },
    {
      "cell_type": "code",
      "source": [
        "list1 = [\"a\", \"b\" , \"c\"]\n",
        "list2 = [1, 2, 3]\n",
        "\n",
        "for x in list2:\n",
        "  list1.append(x)\n",
        "\n",
        "print(list1)"
      ],
      "metadata": {
        "colab": {
          "base_uri": "https://localhost:8080/"
        },
        "id": "FIdJY0Fz29Gq",
        "outputId": "49dcc88b-6d57-4c33-99fb-b4e30b802cae"
      },
      "execution_count": 126,
      "outputs": [
        {
          "output_type": "stream",
          "name": "stdout",
          "text": [
            "['a', 'b', 'c', 1, 2, 3]\n"
          ]
        }
      ]
    },
    {
      "cell_type": "markdown",
      "source": [
        "Use the extend() method to add list2 at the end of list1:"
      ],
      "metadata": {
        "id": "qkljXc802-s9"
      }
    },
    {
      "cell_type": "code",
      "source": [
        "list1 = [\"a\", \"b\" , \"c\"]\n",
        "list2 = [1, 2, 3]\n",
        "\n",
        "list1.extend(list2)\n",
        "print(list1)"
      ],
      "metadata": {
        "colab": {
          "base_uri": "https://localhost:8080/"
        },
        "id": "HXY3KePc2_sM",
        "outputId": "d7852eaf-1d53-4cae-da35-0ffc10432647"
      },
      "execution_count": 127,
      "outputs": [
        {
          "output_type": "stream",
          "name": "stdout",
          "text": [
            "['a', 'b', 'c', 1, 2, 3]\n"
          ]
        }
      ]
    },
    {
      "cell_type": "markdown",
      "source": [
        "**9.10. List Methods**\n",
        "\n",
        "![List Method.png](data:image/png;base64,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)"
      ],
      "metadata": {
        "id": "oXCPE-hh3IyX"
      }
    },
    {
      "cell_type": "markdown",
      "source": [
        "**10. Tuples**"
      ],
      "metadata": {
        "id": "m6D7n7A33PX3"
      }
    },
    {
      "cell_type": "markdown",
      "source": [
        "Create a Tuple:"
      ],
      "metadata": {
        "id": "A8EBaenu3VLo"
      }
    },
    {
      "cell_type": "code",
      "source": [
        "thistuple = (\"apple\", \"banana\", \"cherry\")\n",
        "print(thistuple)"
      ],
      "metadata": {
        "colab": {
          "base_uri": "https://localhost:8080/"
        },
        "id": "SzrNotmZ3SDP",
        "outputId": "7e6a69ec-5bf5-4e60-cbe4-4b85d46eb6e4"
      },
      "execution_count": 128,
      "outputs": [
        {
          "output_type": "stream",
          "name": "stdout",
          "text": [
            "('apple', 'banana', 'cherry')\n"
          ]
        }
      ]
    },
    {
      "cell_type": "markdown",
      "source": [
        "Tuples allow duplicate values:"
      ],
      "metadata": {
        "id": "Z607P-Ob3YUE"
      }
    },
    {
      "cell_type": "code",
      "source": [
        "thistuple = (\"apple\", \"banana\", \"cherry\", \"apple\", \"cherry\")\n",
        "print(thistuple)"
      ],
      "metadata": {
        "colab": {
          "base_uri": "https://localhost:8080/"
        },
        "id": "YthCCM_Q3Zhk",
        "outputId": "6ab4a863-db74-464d-c090-89324ea2e0a8"
      },
      "execution_count": 129,
      "outputs": [
        {
          "output_type": "stream",
          "name": "stdout",
          "text": [
            "('apple', 'banana', 'cherry', 'apple', 'cherry')\n"
          ]
        }
      ]
    },
    {
      "cell_type": "markdown",
      "source": [
        "Print the number of items in the tuple:"
      ],
      "metadata": {
        "id": "9fnq1nBv3bdD"
      }
    },
    {
      "cell_type": "code",
      "source": [
        "thistuple = (\"apple\", \"banana\", \"cherry\")\n",
        "print(len(thistuple))"
      ],
      "metadata": {
        "colab": {
          "base_uri": "https://localhost:8080/"
        },
        "id": "-ex4-z_A3eJa",
        "outputId": "010db752-d662-4385-be05-d0005f2f841f"
      },
      "execution_count": 130,
      "outputs": [
        {
          "output_type": "stream",
          "name": "stdout",
          "text": [
            "3\n"
          ]
        }
      ]
    },
    {
      "cell_type": "markdown",
      "source": [
        "One item tuple, remember the comma:"
      ],
      "metadata": {
        "id": "jqOL0N-F3f7O"
      }
    },
    {
      "cell_type": "code",
      "source": [
        "thistuple = (\"apple\",)\n",
        "print(type(thistuple))\n",
        "\n",
        "#NOT a tuple\n",
        "thistuple = (\"apple\")\n",
        "print(type(thistuple))"
      ],
      "metadata": {
        "colab": {
          "base_uri": "https://localhost:8080/"
        },
        "id": "_GP2ReFy3hKE",
        "outputId": "2f0ae042-ab84-40fb-d6dc-56872cfe7e1f"
      },
      "execution_count": 131,
      "outputs": [
        {
          "output_type": "stream",
          "name": "stdout",
          "text": [
            "<class 'tuple'>\n",
            "<class 'str'>\n"
          ]
        }
      ]
    },
    {
      "cell_type": "markdown",
      "source": [
        "String, int and boolean data types:"
      ],
      "metadata": {
        "id": "sscGOJxb3jF7"
      }
    },
    {
      "cell_type": "code",
      "source": [
        "tuple1 = (\"apple\", \"banana\", \"cherry\")\n",
        "tuple2 = (1, 5, 7, 9, 3)\n",
        "tuple3 = (True, False, False)"
      ],
      "metadata": {
        "id": "dHAlb3g_3kK1"
      },
      "execution_count": 132,
      "outputs": []
    },
    {
      "cell_type": "markdown",
      "source": [
        "A tuple with strings, integers and boolean values"
      ],
      "metadata": {
        "id": "UGnKWQRV3np8"
      }
    },
    {
      "cell_type": "code",
      "source": [
        "tuple1 = (\"abc\", 34, True, 40, \"male\")"
      ],
      "metadata": {
        "id": "ngHgJRYS3l0y"
      },
      "execution_count": 133,
      "outputs": []
    },
    {
      "cell_type": "markdown",
      "source": [
        "What is the data type of a tuple?"
      ],
      "metadata": {
        "id": "My0zE9ha3q3h"
      }
    },
    {
      "cell_type": "code",
      "source": [
        "mytuple = (\"apple\", \"banana\", \"cherry\")\n",
        "print(type(mytuple))"
      ],
      "metadata": {
        "colab": {
          "base_uri": "https://localhost:8080/"
        },
        "id": "_53ke4p-3rz1",
        "outputId": "287959cf-bffe-4f8d-e198-5ae641a1570a"
      },
      "execution_count": 134,
      "outputs": [
        {
          "output_type": "stream",
          "name": "stdout",
          "text": [
            "<class 'tuple'>\n"
          ]
        }
      ]
    },
    {
      "cell_type": "markdown",
      "source": [
        "Using the tuple() method to make a tuple:"
      ],
      "metadata": {
        "id": "aqcwdI2e3s65"
      }
    },
    {
      "cell_type": "code",
      "source": [
        "thistuple = tuple((\"apple\", \"banana\", \"cherry\")) # note the double round-brackets\n",
        "print(thistuple)"
      ],
      "metadata": {
        "colab": {
          "base_uri": "https://localhost:8080/"
        },
        "id": "-1xmWnZi3uF4",
        "outputId": "aa54a38e-5012-445f-9b1a-0910a22568ee"
      },
      "execution_count": 135,
      "outputs": [
        {
          "output_type": "stream",
          "name": "stdout",
          "text": [
            "('apple', 'banana', 'cherry')\n"
          ]
        }
      ]
    },
    {
      "cell_type": "markdown",
      "source": [
        "**10.1. Access Tuple Items**"
      ],
      "metadata": {
        "id": "LTb_JgXF3xZd"
      }
    },
    {
      "cell_type": "markdown",
      "source": [
        "Print the second item in the tuple:"
      ],
      "metadata": {
        "id": "xTE81pjZ3z07"
      }
    },
    {
      "cell_type": "code",
      "source": [
        "thistuple = (\"apple\", \"banana\", \"cherry\")\n",
        "print(thistuple[1])"
      ],
      "metadata": {
        "colab": {
          "base_uri": "https://localhost:8080/"
        },
        "id": "UUkHHZoW31Ub",
        "outputId": "865ec98d-e36a-4d65-d46f-216fc34744f8"
      },
      "execution_count": 136,
      "outputs": [
        {
          "output_type": "stream",
          "name": "stdout",
          "text": [
            "banana\n"
          ]
        }
      ]
    },
    {
      "cell_type": "markdown",
      "source": [
        "Print the last item of the tuple:"
      ],
      "metadata": {
        "id": "6j6pFTR8324-"
      }
    },
    {
      "cell_type": "code",
      "source": [
        "thistuple = (\"apple\", \"banana\", \"cherry\")\n",
        "print(thistuple[-1])"
      ],
      "metadata": {
        "colab": {
          "base_uri": "https://localhost:8080/"
        },
        "id": "aJE58sjy338A",
        "outputId": "3224d744-77be-49d9-ae31-5d6c3e219548"
      },
      "execution_count": 137,
      "outputs": [
        {
          "output_type": "stream",
          "name": "stdout",
          "text": [
            "cherry\n"
          ]
        }
      ]
    },
    {
      "cell_type": "markdown",
      "source": [
        "Return the third, fourth, and fifth item:"
      ],
      "metadata": {
        "id": "VoscuTvg35Xw"
      }
    },
    {
      "cell_type": "code",
      "source": [
        "thistuple = (\"apple\", \"banana\", \"cherry\", \"orange\", \"kiwi\", \"melon\", \"mango\")\n",
        "print(thistuple[2:5])"
      ],
      "metadata": {
        "colab": {
          "base_uri": "https://localhost:8080/"
        },
        "id": "VFA4mZAn36qq",
        "outputId": "1f26e788-f288-42d5-8c2b-98959d4a9900"
      },
      "execution_count": 138,
      "outputs": [
        {
          "output_type": "stream",
          "name": "stdout",
          "text": [
            "('cherry', 'orange', 'kiwi')\n"
          ]
        }
      ]
    },
    {
      "cell_type": "markdown",
      "source": [
        "This example returns the items from the beginning to, but NOT included, \"kiwi\":"
      ],
      "metadata": {
        "id": "l1rTzMwy38J6"
      }
    },
    {
      "cell_type": "code",
      "source": [
        "thistuple = (\"apple\", \"banana\", \"cherry\", \"orange\", \"kiwi\", \"melon\", \"mango\")\n",
        "print(thistuple[:4])"
      ],
      "metadata": {
        "colab": {
          "base_uri": "https://localhost:8080/"
        },
        "id": "I-ruVw5339Cj",
        "outputId": "2e23e73b-97b5-4f59-e14f-62fa679596d6"
      },
      "execution_count": 139,
      "outputs": [
        {
          "output_type": "stream",
          "name": "stdout",
          "text": [
            "('apple', 'banana', 'cherry', 'orange')\n"
          ]
        }
      ]
    },
    {
      "cell_type": "markdown",
      "source": [
        "This example returns the items from \"cherry\" and to the end:"
      ],
      "metadata": {
        "id": "h8OPz1UW3-KF"
      }
    },
    {
      "cell_type": "code",
      "source": [
        "thistuple = (\"apple\", \"banana\", \"cherry\", \"orange\", \"kiwi\", \"melon\", \"mango\")\n",
        "print(thistuple[2:])"
      ],
      "metadata": {
        "colab": {
          "base_uri": "https://localhost:8080/"
        },
        "id": "MKZ4KotP3_2i",
        "outputId": "f72ab894-91f7-4b66-a14f-3e02373b7954"
      },
      "execution_count": 140,
      "outputs": [
        {
          "output_type": "stream",
          "name": "stdout",
          "text": [
            "('cherry', 'orange', 'kiwi', 'melon', 'mango')\n"
          ]
        }
      ]
    },
    {
      "cell_type": "markdown",
      "source": [
        "This example returns the items from index -4 (included) to index -1 (excluded)"
      ],
      "metadata": {
        "id": "Amo4bAko3_cY"
      }
    },
    {
      "cell_type": "code",
      "source": [
        "thistuple = (\"apple\", \"banana\", \"cherry\", \"orange\", \"kiwi\", \"melon\", \"mango\")\n",
        "print(thistuple[-4:-1])"
      ],
      "metadata": {
        "colab": {
          "base_uri": "https://localhost:8080/"
        },
        "id": "tE6BlvIE4Cry",
        "outputId": "28a5eead-a509-4220-fcea-2ee275f166d7"
      },
      "execution_count": 141,
      "outputs": [
        {
          "output_type": "stream",
          "name": "stdout",
          "text": [
            "('orange', 'kiwi', 'melon')\n"
          ]
        }
      ]
    },
    {
      "cell_type": "markdown",
      "source": [
        "Check if \"apple\" is present in the tuple:"
      ],
      "metadata": {
        "id": "LACqDXkw4EIy"
      }
    },
    {
      "cell_type": "code",
      "source": [
        "thistuple = (\"apple\", \"banana\", \"cherry\")\n",
        "if \"apple\" in thistuple:\n",
        "  print(\"Yes, 'apple' is in the fruits tuple\")"
      ],
      "metadata": {
        "colab": {
          "base_uri": "https://localhost:8080/"
        },
        "id": "6IjwXb9x4FQx",
        "outputId": "7a3720c1-6c06-46bd-84f8-8863f4b5f7eb"
      },
      "execution_count": 142,
      "outputs": [
        {
          "output_type": "stream",
          "name": "stdout",
          "text": [
            "Yes, 'apple' is in the fruits tuple\n"
          ]
        }
      ]
    },
    {
      "cell_type": "markdown",
      "source": [
        "**10.2. Update Tuples**"
      ],
      "metadata": {
        "id": "Qkcnmd0z4MKQ"
      }
    },
    {
      "cell_type": "markdown",
      "source": [
        "Convert the tuple into a list to be able to change it:"
      ],
      "metadata": {
        "id": "yFQW3vfi4Oj6"
      }
    },
    {
      "cell_type": "code",
      "source": [
        "x = (\"apple\", \"banana\", \"cherry\")\n",
        "y = list(x)\n",
        "y[1] = \"kiwi\"\n",
        "x = tuple(y)\n",
        "\n",
        "print(x)"
      ],
      "metadata": {
        "colab": {
          "base_uri": "https://localhost:8080/"
        },
        "id": "EoHTnCDL4NHi",
        "outputId": "199cf43a-afd5-49d8-bfed-1fdd3d90c50e"
      },
      "execution_count": 143,
      "outputs": [
        {
          "output_type": "stream",
          "name": "stdout",
          "text": [
            "('apple', 'kiwi', 'cherry')\n"
          ]
        }
      ]
    },
    {
      "cell_type": "markdown",
      "source": [
        "Convert the tuple into a list, add \"orange\", and convert it back into a tuple:"
      ],
      "metadata": {
        "id": "S-W6ZyAp4Rdg"
      }
    },
    {
      "cell_type": "code",
      "source": [
        "thistuple = (\"apple\", \"banana\", \"cherry\")\n",
        "y = list(thistuple)\n",
        "y.append(\"orange\")\n",
        "thistuple = tuple(y)"
      ],
      "metadata": {
        "id": "_VsdsHM34Sov"
      },
      "execution_count": 144,
      "outputs": []
    },
    {
      "cell_type": "markdown",
      "source": [
        "Create a new tuple with the value \"orange\", and add that tuple:"
      ],
      "metadata": {
        "id": "0ZCxDHMf4T95"
      }
    },
    {
      "cell_type": "code",
      "source": [
        "thistuple = (\"apple\", \"banana\", \"cherry\")\n",
        "y = (\"orange\",)\n",
        "thistuple += y\n",
        "\n",
        "print(thistuple)"
      ],
      "metadata": {
        "colab": {
          "base_uri": "https://localhost:8080/"
        },
        "id": "lTPu_keU4U9I",
        "outputId": "82786b6e-ce17-4c20-f335-4c123dd7f920"
      },
      "execution_count": 145,
      "outputs": [
        {
          "output_type": "stream",
          "name": "stdout",
          "text": [
            "('apple', 'banana', 'cherry', 'orange')\n"
          ]
        }
      ]
    },
    {
      "cell_type": "markdown",
      "source": [
        "Convert the tuple into a list, remove \"apple\", and convert it back into a tuple:"
      ],
      "metadata": {
        "id": "ti0Y-HSi4Wj7"
      }
    },
    {
      "cell_type": "code",
      "source": [
        "thistuple = (\"apple\", \"banana\", \"cherry\")\n",
        "y = list(thistuple)\n",
        "y.remove(\"apple\")\n",
        "thistuple = tuple(y)"
      ],
      "metadata": {
        "id": "VQnOSTMX4XuJ"
      },
      "execution_count": 146,
      "outputs": []
    },
    {
      "cell_type": "markdown",
      "source": [
        "The del keyword can delete the tuple completely"
      ],
      "metadata": {
        "id": "TVoo6cT74Y8D"
      }
    },
    {
      "cell_type": "code",
      "source": [
        "thistuple = (\"apple\", \"banana\", \"cherry\")\n",
        "del thistuple\n",
        "print(thistuple) #this will raise an error because the tuple no longer exists"
      ],
      "metadata": {
        "colab": {
          "base_uri": "https://localhost:8080/",
          "height": 200
        },
        "id": "AIE6QUt84adg",
        "outputId": "cdd8b829-a42e-4b2f-aa62-70c5043b1351"
      },
      "execution_count": 147,
      "outputs": [
        {
          "output_type": "error",
          "ename": "NameError",
          "evalue": "ignored",
          "traceback": [
            "\u001b[0;31m---------------------------------------------------------------------------\u001b[0m",
            "\u001b[0;31mNameError\u001b[0m                                 Traceback (most recent call last)",
            "\u001b[0;32m<ipython-input-147-8a57ed92fc5d>\u001b[0m in \u001b[0;36m<cell line: 3>\u001b[0;34m()\u001b[0m\n\u001b[1;32m      1\u001b[0m \u001b[0mthistuple\u001b[0m \u001b[0;34m=\u001b[0m \u001b[0;34m(\u001b[0m\u001b[0;34m\"apple\"\u001b[0m\u001b[0;34m,\u001b[0m \u001b[0;34m\"banana\"\u001b[0m\u001b[0;34m,\u001b[0m \u001b[0;34m\"cherry\"\u001b[0m\u001b[0;34m)\u001b[0m\u001b[0;34m\u001b[0m\u001b[0;34m\u001b[0m\u001b[0m\n\u001b[1;32m      2\u001b[0m \u001b[0;32mdel\u001b[0m \u001b[0mthistuple\u001b[0m\u001b[0;34m\u001b[0m\u001b[0;34m\u001b[0m\u001b[0m\n\u001b[0;32m----> 3\u001b[0;31m \u001b[0mprint\u001b[0m\u001b[0;34m(\u001b[0m\u001b[0mthistuple\u001b[0m\u001b[0;34m)\u001b[0m \u001b[0;31m#this will raise an error because the tuple no longer exists\u001b[0m\u001b[0;34m\u001b[0m\u001b[0;34m\u001b[0m\u001b[0m\n\u001b[0m",
            "\u001b[0;31mNameError\u001b[0m: name 'thistuple' is not defined"
          ]
        }
      ]
    },
    {
      "cell_type": "markdown",
      "source": [
        "**10.3. Unpack Tuples**"
      ],
      "metadata": {
        "id": "gMDD--xRxgaZ"
      }
    },
    {
      "cell_type": "markdown",
      "source": [
        "Packing a tuple:"
      ],
      "metadata": {
        "id": "M7XcyNuyxlQv"
      }
    },
    {
      "cell_type": "code",
      "source": [
        "fruits = (\"apple\", \"banana\", \"cherry\")"
      ],
      "metadata": {
        "id": "OoD1JvlnxnW4"
      },
      "execution_count": 148,
      "outputs": []
    },
    {
      "cell_type": "markdown",
      "source": [
        "Unpacking a tuple:"
      ],
      "metadata": {
        "id": "8pZIYlb6xp4Y"
      }
    },
    {
      "cell_type": "code",
      "source": [
        "fruits = (\"apple\", \"banana\", \"cherry\")\n",
        "\n",
        "(green, yellow, red) = fruits\n",
        "\n",
        "print(green)\n",
        "print(yellow)\n",
        "print(red)"
      ],
      "metadata": {
        "colab": {
          "base_uri": "https://localhost:8080/"
        },
        "id": "1U-iFjczxrGI",
        "outputId": "a1f96f37-adb7-4673-e323-3cd58527f347"
      },
      "execution_count": 149,
      "outputs": [
        {
          "output_type": "stream",
          "name": "stdout",
          "text": [
            "apple\n",
            "banana\n",
            "cherry\n"
          ]
        }
      ]
    },
    {
      "cell_type": "markdown",
      "source": [
        "Assign the rest of the values as a list called \"red\":"
      ],
      "metadata": {
        "id": "ybgahegHx2q4"
      }
    },
    {
      "cell_type": "code",
      "source": [
        "fruits = (\"apple\", \"banana\", \"cherry\", \"strawberry\", \"raspberry\")\n",
        "\n",
        "(green, yellow, *red) = fruits\n",
        "\n",
        "print(green)\n",
        "print(yellow)\n",
        "print(red)"
      ],
      "metadata": {
        "colab": {
          "base_uri": "https://localhost:8080/"
        },
        "id": "5w81R9cWx3-q",
        "outputId": "6739623f-0e9a-4118-d07f-7bcfceec2a2a"
      },
      "execution_count": 150,
      "outputs": [
        {
          "output_type": "stream",
          "name": "stdout",
          "text": [
            "apple\n",
            "banana\n",
            "['cherry', 'strawberry', 'raspberry']\n"
          ]
        }
      ]
    },
    {
      "cell_type": "markdown",
      "source": [
        "Add a list of values the \"tropic\" variable:"
      ],
      "metadata": {
        "id": "pM3rOKwfx5_r"
      }
    },
    {
      "cell_type": "code",
      "source": [
        "fruits = (\"apple\", \"mango\", \"papaya\", \"pineapple\", \"cherry\")\n",
        "\n",
        "(green, *tropic, red) = fruits\n",
        "\n",
        "print(green)\n",
        "print(tropic)\n",
        "print(red)"
      ],
      "metadata": {
        "colab": {
          "base_uri": "https://localhost:8080/"
        },
        "id": "1xE8E1cYx7AJ",
        "outputId": "5024ff4f-47e5-401c-db13-c0ba3de2ad70"
      },
      "execution_count": 151,
      "outputs": [
        {
          "output_type": "stream",
          "name": "stdout",
          "text": [
            "apple\n",
            "['mango', 'papaya', 'pineapple']\n",
            "cherry\n"
          ]
        }
      ]
    },
    {
      "cell_type": "markdown",
      "source": [
        "**10.4. Loop Tuples**"
      ],
      "metadata": {
        "id": "nZWFHX1Dx9DM"
      }
    },
    {
      "cell_type": "markdown",
      "source": [
        "Iterate through the items and print the values:"
      ],
      "metadata": {
        "id": "g6iFDD0Yx-xt"
      }
    },
    {
      "cell_type": "code",
      "source": [
        "thistuple = (\"apple\", \"banana\", \"cherry\")\n",
        "for x in thistuple:\n",
        "  print(x)"
      ],
      "metadata": {
        "colab": {
          "base_uri": "https://localhost:8080/"
        },
        "id": "CvZChfDax__3",
        "outputId": "bcf7db1c-0a91-408c-8873-0737090e5f6a"
      },
      "execution_count": 152,
      "outputs": [
        {
          "output_type": "stream",
          "name": "stdout",
          "text": [
            "apple\n",
            "banana\n",
            "cherry\n"
          ]
        }
      ]
    },
    {
      "cell_type": "markdown",
      "source": [
        "Print all items by referring to their index number:"
      ],
      "metadata": {
        "id": "MPKejq9byCA3"
      }
    },
    {
      "cell_type": "code",
      "source": [
        "thistuple = (\"apple\", \"banana\", \"cherry\")\n",
        "for i in range(len(thistuple)):\n",
        "  print(thistuple[i])"
      ],
      "metadata": {
        "colab": {
          "base_uri": "https://localhost:8080/"
        },
        "id": "zG6DAalpyDS6",
        "outputId": "ea28fe01-6aa9-477e-dc3c-725b5ba65722"
      },
      "execution_count": 153,
      "outputs": [
        {
          "output_type": "stream",
          "name": "stdout",
          "text": [
            "apple\n",
            "banana\n",
            "cherry\n"
          ]
        }
      ]
    },
    {
      "cell_type": "markdown",
      "source": [
        "Print all items, using a while loop to go through all the index numbers:"
      ],
      "metadata": {
        "id": "-Ipxd5YtyEzi"
      }
    },
    {
      "cell_type": "code",
      "source": [
        "thistuple = (\"apple\", \"banana\", \"cherry\")\n",
        "i = 0\n",
        "while i < len(thistuple):\n",
        "  print(thistuple[i])\n",
        "  i = i + 1"
      ],
      "metadata": {
        "colab": {
          "base_uri": "https://localhost:8080/"
        },
        "id": "VZ3NLbHGyGHU",
        "outputId": "89aa2a4c-6fbf-4c87-b8b6-b23dff7a0d02"
      },
      "execution_count": 154,
      "outputs": [
        {
          "output_type": "stream",
          "name": "stdout",
          "text": [
            "apple\n",
            "banana\n",
            "cherry\n"
          ]
        }
      ]
    },
    {
      "cell_type": "markdown",
      "source": [
        "**10.5. Join Tuples**"
      ],
      "metadata": {
        "id": "bmvQXrO6yIUC"
      }
    },
    {
      "cell_type": "markdown",
      "source": [
        "Join two tuples:"
      ],
      "metadata": {
        "id": "Hs5TZkt8yJtq"
      }
    },
    {
      "cell_type": "code",
      "source": [
        "tuple1 = (\"a\", \"b\" , \"c\")\n",
        "tuple2 = (1, 2, 3)\n",
        "\n",
        "tuple3 = tuple1 + tuple2\n",
        "print(tuple3)"
      ],
      "metadata": {
        "colab": {
          "base_uri": "https://localhost:8080/"
        },
        "id": "qLz5XFeWyLPP",
        "outputId": "731bfc15-b9a9-454f-fcf6-e0df32a1bf98"
      },
      "execution_count": 155,
      "outputs": [
        {
          "output_type": "stream",
          "name": "stdout",
          "text": [
            "('a', 'b', 'c', 1, 2, 3)\n"
          ]
        }
      ]
    },
    {
      "cell_type": "markdown",
      "source": [
        "Multiply the fruits tuple by 2:"
      ],
      "metadata": {
        "id": "-kQALWU6yNRe"
      }
    },
    {
      "cell_type": "code",
      "source": [
        "fruits = (\"apple\", \"banana\", \"cherry\")\n",
        "mytuple = fruits * 2\n",
        "\n",
        "print(mytuple)"
      ],
      "metadata": {
        "colab": {
          "base_uri": "https://localhost:8080/"
        },
        "id": "xQimsWTKyOP7",
        "outputId": "f9a4d650-418c-4a36-bb9d-f47ac7e063b1"
      },
      "execution_count": 156,
      "outputs": [
        {
          "output_type": "stream",
          "name": "stdout",
          "text": [
            "('apple', 'banana', 'cherry', 'apple', 'banana', 'cherry')\n"
          ]
        }
      ]
    },
    {
      "cell_type": "markdown",
      "source": [
        "**10.6. Tuple Methods**"
      ],
      "metadata": {
        "id": "zNXC1us5yQnR"
      }
    },
    {
      "cell_type": "markdown",
      "source": [
        "count(): Returns the number of times a specified value occurs in a tuple\n",
        "\n",
        "index(): Searches the tuple for a specified value and returns the position of where it was found"
      ],
      "metadata": {
        "id": "WpwDBKYdyVBv"
      }
    },
    {
      "cell_type": "markdown",
      "source": [
        "**11. Sets**"
      ],
      "metadata": {
        "id": "bzHbhBb2yaBb"
      }
    },
    {
      "cell_type": "markdown",
      "source": [
        "Create a Set:"
      ],
      "metadata": {
        "id": "PhtzJdf5ynSF"
      }
    },
    {
      "cell_type": "code",
      "source": [
        "thisset = {\"apple\", \"banana\", \"cherry\"}\n",
        "print(thisset)"
      ],
      "metadata": {
        "colab": {
          "base_uri": "https://localhost:8080/"
        },
        "id": "RNyP-_Khypry",
        "outputId": "1283200a-a6ee-4648-93cd-24eb8cd483d9"
      },
      "execution_count": 157,
      "outputs": [
        {
          "output_type": "stream",
          "name": "stdout",
          "text": [
            "{'cherry', 'banana', 'apple'}\n"
          ]
        }
      ]
    },
    {
      "cell_type": "markdown",
      "source": [
        "Duplicate values will be ignored:"
      ],
      "metadata": {
        "id": "H99hZg5hysP8"
      }
    },
    {
      "cell_type": "code",
      "source": [
        "thisset = {\"apple\", \"banana\", \"cherry\", \"apple\"}\n",
        "\n",
        "print(thisset)"
      ],
      "metadata": {
        "colab": {
          "base_uri": "https://localhost:8080/"
        },
        "id": "MUEvdU5LytLf",
        "outputId": "7df7c2a3-de3d-495e-da24-eb012256da4c"
      },
      "execution_count": 158,
      "outputs": [
        {
          "output_type": "stream",
          "name": "stdout",
          "text": [
            "{'cherry', 'banana', 'apple'}\n"
          ]
        }
      ]
    },
    {
      "cell_type": "markdown",
      "source": [
        "True and 1 is considered the same value:"
      ],
      "metadata": {
        "id": "VhlYYht0yu_g"
      }
    },
    {
      "cell_type": "code",
      "source": [
        "thisset = {\"apple\", \"banana\", \"cherry\", True, 1, 2}\n",
        "\n",
        "print(thisset)"
      ],
      "metadata": {
        "colab": {
          "base_uri": "https://localhost:8080/"
        },
        "id": "TDxvSBQ3ywFu",
        "outputId": "1895b262-59e1-41f6-d985-b36c81fd06bd"
      },
      "execution_count": 159,
      "outputs": [
        {
          "output_type": "stream",
          "name": "stdout",
          "text": [
            "{True, 2, 'apple', 'cherry', 'banana'}\n"
          ]
        }
      ]
    },
    {
      "cell_type": "markdown",
      "source": [
        "Get the number of items in a set:"
      ],
      "metadata": {
        "id": "-_5kj9EayxpP"
      }
    },
    {
      "cell_type": "code",
      "source": [
        "thisset = {\"apple\", \"banana\", \"cherry\"}\n",
        "\n",
        "print(len(thisset))"
      ],
      "metadata": {
        "colab": {
          "base_uri": "https://localhost:8080/"
        },
        "id": "05C2T6tXyyfS",
        "outputId": "749c4236-1f08-448f-ab34-f88ec5d29cd3"
      },
      "execution_count": 160,
      "outputs": [
        {
          "output_type": "stream",
          "name": "stdout",
          "text": [
            "3\n"
          ]
        }
      ]
    },
    {
      "cell_type": "markdown",
      "source": [
        "String, int and boolean data types:"
      ],
      "metadata": {
        "id": "lP_y-97My1qk"
      }
    },
    {
      "cell_type": "code",
      "source": [
        "set1 = {\"apple\", \"banana\", \"cherry\"}\n",
        "set2 = {1, 5, 7, 9, 3}\n",
        "set3 = {True, False, False}"
      ],
      "metadata": {
        "id": "xaXqaGrCy0Pe"
      },
      "execution_count": 161,
      "outputs": []
    },
    {
      "cell_type": "markdown",
      "source": [
        "A set with strings, integers and boolean values:"
      ],
      "metadata": {
        "id": "wKlV1vjjy3GQ"
      }
    },
    {
      "cell_type": "code",
      "source": [
        "set1 = {\"abc\", 34, True, 40, \"male\"}"
      ],
      "metadata": {
        "id": "gHbQM-6Oy5e4"
      },
      "execution_count": 162,
      "outputs": []
    },
    {
      "cell_type": "markdown",
      "source": [
        "What is the data type of a set?"
      ],
      "metadata": {
        "id": "PxpDtGCby9sG"
      }
    },
    {
      "cell_type": "code",
      "source": [
        "myset = {\"apple\", \"banana\", \"cherry\"}\n",
        "print(type(myset))"
      ],
      "metadata": {
        "colab": {
          "base_uri": "https://localhost:8080/"
        },
        "id": "0yGDsEiTy-w6",
        "outputId": "b24fba7f-0d94-4c96-eb8a-a5338b5c2491"
      },
      "execution_count": 163,
      "outputs": [
        {
          "output_type": "stream",
          "name": "stdout",
          "text": [
            "<class 'set'>\n"
          ]
        }
      ]
    },
    {
      "cell_type": "markdown",
      "source": [
        "Using the set() constructor to make a set:"
      ],
      "metadata": {
        "id": "p2xmZcFgzAzo"
      }
    },
    {
      "cell_type": "code",
      "source": [
        "thisset = set((\"apple\", \"banana\", \"cherry\")) # note the double round-brackets\n",
        "print(thisset)"
      ],
      "metadata": {
        "colab": {
          "base_uri": "https://localhost:8080/"
        },
        "id": "gDlq2NaPzB1o",
        "outputId": "a4d7547e-9c50-404d-c31b-bb1cd31f1eb2"
      },
      "execution_count": 164,
      "outputs": [
        {
          "output_type": "stream",
          "name": "stdout",
          "text": [
            "{'cherry', 'banana', 'apple'}\n"
          ]
        }
      ]
    },
    {
      "cell_type": "markdown",
      "source": [
        "**11.1. Access Set Items**"
      ],
      "metadata": {
        "id": "H1v6f3GBzF2y"
      }
    },
    {
      "cell_type": "markdown",
      "source": [
        "Loop through the set, and print the values:"
      ],
      "metadata": {
        "id": "m6HbjKXozHdt"
      }
    },
    {
      "cell_type": "code",
      "source": [
        "thisset = {\"apple\", \"banana\", \"cherry\"}\n",
        "\n",
        "for x in thisset:\n",
        "  print(x)"
      ],
      "metadata": {
        "colab": {
          "base_uri": "https://localhost:8080/"
        },
        "id": "r_N6-LEDzJPj",
        "outputId": "5155a182-46ef-4de3-ba17-ecfb68d2f770"
      },
      "execution_count": 165,
      "outputs": [
        {
          "output_type": "stream",
          "name": "stdout",
          "text": [
            "cherry\n",
            "banana\n",
            "apple\n"
          ]
        }
      ]
    },
    {
      "cell_type": "markdown",
      "source": [
        "Check if \"banana\" is present in the set:"
      ],
      "metadata": {
        "id": "4MBLXDA0zL4X"
      }
    },
    {
      "cell_type": "code",
      "source": [
        "thisset = {\"apple\", \"banana\", \"cherry\"}\n",
        "\n",
        "print(\"banana\" in thisset)"
      ],
      "metadata": {
        "colab": {
          "base_uri": "https://localhost:8080/"
        },
        "id": "Z6WFRFu3zM5w",
        "outputId": "ee773fca-ebf5-4e10-f613-a125b9d5d371"
      },
      "execution_count": 166,
      "outputs": [
        {
          "output_type": "stream",
          "name": "stdout",
          "text": [
            "True\n"
          ]
        }
      ]
    },
    {
      "cell_type": "markdown",
      "source": [
        "**11.2. Add Set Items**"
      ],
      "metadata": {
        "id": "T7pur1RtzPmc"
      }
    },
    {
      "cell_type": "markdown",
      "source": [
        "Add an item to a set, using the add() method:"
      ],
      "metadata": {
        "id": "FhLz5l2GzRRU"
      }
    },
    {
      "cell_type": "code",
      "source": [
        "thisset = {\"apple\", \"banana\", \"cherry\"}\n",
        "\n",
        "thisset.add(\"orange\")\n",
        "\n",
        "print(thisset)"
      ],
      "metadata": {
        "colab": {
          "base_uri": "https://localhost:8080/"
        },
        "id": "qCdDBYqCzSD4",
        "outputId": "5e6483c2-8775-461c-8c04-c558ab40a0ed"
      },
      "execution_count": 168,
      "outputs": [
        {
          "output_type": "stream",
          "name": "stdout",
          "text": [
            "{'cherry', 'orange', 'banana', 'apple'}\n"
          ]
        }
      ]
    },
    {
      "cell_type": "markdown",
      "source": [
        "Add elements from tropical into thisset:"
      ],
      "metadata": {
        "id": "aZEtqne_zVuG"
      }
    },
    {
      "cell_type": "code",
      "source": [
        "thisset = {\"apple\", \"banana\", \"cherry\"}\n",
        "tropical = {\"pineapple\", \"mango\", \"papaya\"}\n",
        "\n",
        "thisset.update(tropical)\n",
        "\n",
        "print(thisset)"
      ],
      "metadata": {
        "colab": {
          "base_uri": "https://localhost:8080/"
        },
        "id": "rfpIF6Q2zXED",
        "outputId": "9df223aa-22d5-4e1a-d810-07248fbf1077"
      },
      "execution_count": 169,
      "outputs": [
        {
          "output_type": "stream",
          "name": "stdout",
          "text": [
            "{'apple', 'papaya', 'pineapple', 'cherry', 'banana', 'mango'}\n"
          ]
        }
      ]
    },
    {
      "cell_type": "markdown",
      "source": [
        "Add elements of a list to at set:"
      ],
      "metadata": {
        "id": "eJLXKAKzzb-3"
      }
    },
    {
      "cell_type": "code",
      "source": [
        "thisset = {\"apple\", \"banana\", \"cherry\"}\n",
        "mylist = [\"kiwi\", \"orange\"]\n",
        "\n",
        "thisset.update(mylist)\n",
        "\n",
        "print(thisset)"
      ],
      "metadata": {
        "colab": {
          "base_uri": "https://localhost:8080/"
        },
        "id": "Mc-Nt7HGzdEo",
        "outputId": "61c36aea-f382-4052-9453-4321a259205d"
      },
      "execution_count": 170,
      "outputs": [
        {
          "output_type": "stream",
          "name": "stdout",
          "text": [
            "{'cherry', 'orange', 'kiwi', 'apple', 'banana'}\n"
          ]
        }
      ]
    },
    {
      "cell_type": "markdown",
      "source": [
        "Remove \"banana\" by using the remove() method:"
      ],
      "metadata": {
        "id": "mPIl0byNzfB0"
      }
    },
    {
      "cell_type": "code",
      "source": [
        "thisset = {\"apple\", \"banana\", \"cherry\"}\n",
        "\n",
        "thisset.remove(\"banana\")\n",
        "\n",
        "print(thisset)"
      ],
      "metadata": {
        "colab": {
          "base_uri": "https://localhost:8080/"
        },
        "id": "Hhcf0CVazgCy",
        "outputId": "b311546e-3cb6-4a70-ccb3-452ea1c8998b"
      },
      "execution_count": 171,
      "outputs": [
        {
          "output_type": "stream",
          "name": "stdout",
          "text": [
            "{'cherry', 'apple'}\n"
          ]
        }
      ]
    },
    {
      "cell_type": "markdown",
      "source": [
        "Remove \"banana\" by using the discard() method:"
      ],
      "metadata": {
        "id": "EiWi9BK5zjhZ"
      }
    },
    {
      "cell_type": "code",
      "source": [
        "thisset = {\"apple\", \"banana\", \"cherry\"}\n",
        "\n",
        "thisset.discard(\"banana\")\n",
        "\n",
        "print(thisset)"
      ],
      "metadata": {
        "colab": {
          "base_uri": "https://localhost:8080/"
        },
        "id": "XgvKrCF6zh2Z",
        "outputId": "9c892c8a-79f6-40cf-f85a-728798af0517"
      },
      "execution_count": 172,
      "outputs": [
        {
          "output_type": "stream",
          "name": "stdout",
          "text": [
            "{'cherry', 'apple'}\n"
          ]
        }
      ]
    },
    {
      "cell_type": "markdown",
      "source": [
        "Remove a random item by using the pop() method:"
      ],
      "metadata": {
        "id": "VbG5kZYDzmaG"
      }
    },
    {
      "cell_type": "code",
      "source": [
        "thisset = {\"apple\", \"banana\", \"cherry\"}\n",
        "\n",
        "x = thisset.pop()\n",
        "\n",
        "print(x)\n",
        "\n",
        "print(thisset)"
      ],
      "metadata": {
        "colab": {
          "base_uri": "https://localhost:8080/"
        },
        "id": "YPk573JOztmL",
        "outputId": "7013e870-a52d-498a-f035-b12f41da78fc"
      },
      "execution_count": 173,
      "outputs": [
        {
          "output_type": "stream",
          "name": "stdout",
          "text": [
            "cherry\n",
            "{'banana', 'apple'}\n"
          ]
        }
      ]
    },
    {
      "cell_type": "markdown",
      "source": [
        "The clear() method empties the set:"
      ],
      "metadata": {
        "id": "ez_kHaGbz6DX"
      }
    },
    {
      "cell_type": "code",
      "source": [
        "thisset = {\"apple\", \"banana\", \"cherry\"}\n",
        "\n",
        "thisset.clear()\n",
        "\n",
        "print(thisset)"
      ],
      "metadata": {
        "colab": {
          "base_uri": "https://localhost:8080/"
        },
        "id": "kL2U_53rz7bj",
        "outputId": "9333ec3b-f99c-49ca-f650-2a8a9a055916"
      },
      "execution_count": 174,
      "outputs": [
        {
          "output_type": "stream",
          "name": "stdout",
          "text": [
            "set()\n"
          ]
        }
      ]
    },
    {
      "cell_type": "markdown",
      "source": [
        "The del keyword will delete the set completely:"
      ],
      "metadata": {
        "id": "SXCzhRgtz9bp"
      }
    },
    {
      "cell_type": "code",
      "source": [
        "thisset = {\"apple\", \"banana\", \"cherry\"}\n",
        "\n",
        "del thisset\n",
        "\n",
        "print(thisset)"
      ],
      "metadata": {
        "colab": {
          "base_uri": "https://localhost:8080/",
          "height": 200
        },
        "id": "TN6UZJE_z-g7",
        "outputId": "39791e3c-8287-46c0-b399-cf752c951b2e"
      },
      "execution_count": 175,
      "outputs": [
        {
          "output_type": "error",
          "ename": "NameError",
          "evalue": "ignored",
          "traceback": [
            "\u001b[0;31m---------------------------------------------------------------------------\u001b[0m",
            "\u001b[0;31mNameError\u001b[0m                                 Traceback (most recent call last)",
            "\u001b[0;32m<ipython-input-175-b0ed94c1bb6f>\u001b[0m in \u001b[0;36m<cell line: 5>\u001b[0;34m()\u001b[0m\n\u001b[1;32m      3\u001b[0m \u001b[0;32mdel\u001b[0m \u001b[0mthisset\u001b[0m\u001b[0;34m\u001b[0m\u001b[0;34m\u001b[0m\u001b[0m\n\u001b[1;32m      4\u001b[0m \u001b[0;34m\u001b[0m\u001b[0m\n\u001b[0;32m----> 5\u001b[0;31m \u001b[0mprint\u001b[0m\u001b[0;34m(\u001b[0m\u001b[0mthisset\u001b[0m\u001b[0;34m)\u001b[0m\u001b[0;34m\u001b[0m\u001b[0;34m\u001b[0m\u001b[0m\n\u001b[0m",
            "\u001b[0;31mNameError\u001b[0m: name 'thisset' is not defined"
          ]
        }
      ]
    },
    {
      "cell_type": "markdown",
      "source": [
        "**11.3. Loop Sets**"
      ],
      "metadata": {
        "id": "h7k7Pebv0DFp"
      }
    },
    {
      "cell_type": "markdown",
      "source": [
        "Loop through the set, and print the values:"
      ],
      "metadata": {
        "id": "yneYSzYK0E3t"
      }
    },
    {
      "cell_type": "code",
      "source": [
        "thisset = {\"apple\", \"banana\", \"cherry\"}\n",
        "\n",
        "for x in thisset:\n",
        "  print(x)"
      ],
      "metadata": {
        "colab": {
          "base_uri": "https://localhost:8080/"
        },
        "id": "gqXyCRqm0GLr",
        "outputId": "2745540b-f652-47b5-af46-b745a5e5f78b"
      },
      "execution_count": 176,
      "outputs": [
        {
          "output_type": "stream",
          "name": "stdout",
          "text": [
            "cherry\n",
            "banana\n",
            "apple\n"
          ]
        }
      ]
    },
    {
      "cell_type": "markdown",
      "source": [
        "**11.4. Join Sets**"
      ],
      "metadata": {
        "id": "NdxA7Ai00Iw8"
      }
    },
    {
      "cell_type": "markdown",
      "source": [
        "The union() method returns a new set with all items from both sets:"
      ],
      "metadata": {
        "id": "h6e3KE230KrG"
      }
    },
    {
      "cell_type": "code",
      "source": [
        "set1 = {\"a\", \"b\" , \"c\"}\n",
        "set2 = {1, 2, 3}\n",
        "\n",
        "set3 = set1.union(set2)\n",
        "print(set3)"
      ],
      "metadata": {
        "colab": {
          "base_uri": "https://localhost:8080/"
        },
        "id": "xkYLyDSC0Mmf",
        "outputId": "bf84f124-ac3c-443c-db7c-6b03dcae93dd"
      },
      "execution_count": 177,
      "outputs": [
        {
          "output_type": "stream",
          "name": "stdout",
          "text": [
            "{1, 'c', 2, 3, 'b', 'a'}\n"
          ]
        }
      ]
    },
    {
      "cell_type": "markdown",
      "source": [
        "The update() method inserts the items in set2 into set1:"
      ],
      "metadata": {
        "id": "2aQBK-Sv0OSk"
      }
    },
    {
      "cell_type": "code",
      "source": [
        "set1 = {\"a\", \"b\" , \"c\"}\n",
        "set2 = {1, 2, 3}\n",
        "\n",
        "set1.update(set2)\n",
        "print(set1)"
      ],
      "metadata": {
        "colab": {
          "base_uri": "https://localhost:8080/"
        },
        "id": "2X5Y_gtV0PYP",
        "outputId": "7b346ddc-51ff-49e4-b785-3a9ebc61de48"
      },
      "execution_count": 178,
      "outputs": [
        {
          "output_type": "stream",
          "name": "stdout",
          "text": [
            "{1, 'c', 2, 3, 'b', 'a'}\n"
          ]
        }
      ]
    },
    {
      "cell_type": "markdown",
      "source": [
        "Keep the items that exist in both set x, and set y:"
      ],
      "metadata": {
        "id": "jwN4eknt0RPO"
      }
    },
    {
      "cell_type": "code",
      "source": [
        "x = {\"apple\", \"banana\", \"cherry\"}\n",
        "y = {\"google\", \"microsoft\", \"apple\"}\n",
        "\n",
        "x.intersection_update(y)\n",
        "\n",
        "print(x)"
      ],
      "metadata": {
        "colab": {
          "base_uri": "https://localhost:8080/"
        },
        "id": "OoRgYlDk0Sr7",
        "outputId": "b262c979-6cab-4455-cb6c-f968fd026e1f"
      },
      "execution_count": 179,
      "outputs": [
        {
          "output_type": "stream",
          "name": "stdout",
          "text": [
            "{'apple'}\n"
          ]
        }
      ]
    },
    {
      "cell_type": "markdown",
      "source": [
        "Return a set that contains the items that exist in both set x, and set y:"
      ],
      "metadata": {
        "id": "cDMs_CYj0UCE"
      }
    },
    {
      "cell_type": "code",
      "source": [
        "x = {\"apple\", \"banana\", \"cherry\"}\n",
        "y = {\"google\", \"microsoft\", \"apple\"}\n",
        "\n",
        "z = x.intersection(y)\n",
        "\n",
        "print(z)"
      ],
      "metadata": {
        "colab": {
          "base_uri": "https://localhost:8080/"
        },
        "id": "dgnIdYdC0VQ1",
        "outputId": "87a0f79d-4f79-4816-d0aa-f8143259695c"
      },
      "execution_count": 180,
      "outputs": [
        {
          "output_type": "stream",
          "name": "stdout",
          "text": [
            "{'apple'}\n"
          ]
        }
      ]
    },
    {
      "cell_type": "markdown",
      "source": [
        "Keep the items that are not present in both sets:"
      ],
      "metadata": {
        "id": "ENf9OPmH0WxE"
      }
    },
    {
      "cell_type": "code",
      "source": [
        "x = {\"apple\", \"banana\", \"cherry\"}\n",
        "y = {\"google\", \"microsoft\", \"apple\"}\n",
        "\n",
        "x.symmetric_difference_update(y)\n",
        "\n",
        "print(x)"
      ],
      "metadata": {
        "colab": {
          "base_uri": "https://localhost:8080/"
        },
        "id": "fcmmhDRY0Xfq",
        "outputId": "84810393-4b00-4688-9aa8-4a9e6620d9ea"
      },
      "execution_count": 181,
      "outputs": [
        {
          "output_type": "stream",
          "name": "stdout",
          "text": [
            "{'cherry', 'microsoft', 'google', 'banana'}\n"
          ]
        }
      ]
    },
    {
      "cell_type": "markdown",
      "source": [
        "Return a set that contains all items from both sets, except items that are present in both:"
      ],
      "metadata": {
        "id": "P93kV58S0a-U"
      }
    },
    {
      "cell_type": "code",
      "source": [
        "x = {\"apple\", \"banana\", \"cherry\"}\n",
        "y = {\"google\", \"microsoft\", \"apple\"}\n",
        "\n",
        "z = x.symmetric_difference(y)\n",
        "\n",
        "print(z)"
      ],
      "metadata": {
        "colab": {
          "base_uri": "https://localhost:8080/"
        },
        "id": "319zBlrq0b3V",
        "outputId": "26afd05a-b106-43a7-f9cc-38e0b6b11718"
      },
      "execution_count": 182,
      "outputs": [
        {
          "output_type": "stream",
          "name": "stdout",
          "text": [
            "{'cherry', 'microsoft', 'google', 'banana'}\n"
          ]
        }
      ]
    },
    {
      "cell_type": "markdown",
      "source": [
        "**11.5. Set Methods**"
      ],
      "metadata": {
        "id": "7ktFFCZY0vyG"
      }
    },
    {
      "cell_type": "markdown",
      "source": [
        "![Set Methods.png](data:image/png;base64,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)"
      ],
      "metadata": {
        "id": "_Rl0H0Ox0_gH"
      }
    },
    {
      "cell_type": "markdown",
      "source": [
        "**12. Dictionaries**"
      ],
      "metadata": {
        "id": "ZAUkSDEw1DZ9"
      }
    },
    {
      "cell_type": "markdown",
      "source": [
        "Create and print a dictionary:"
      ],
      "metadata": {
        "id": "BIwG4WCB1LTp"
      }
    },
    {
      "cell_type": "code",
      "source": [
        "thisdict = {\n",
        "  \"brand\": \"Ford\",\n",
        "  \"model\": \"Mustang\",\n",
        "  \"year\": 1964\n",
        "}\n",
        "print(thisdict)"
      ],
      "metadata": {
        "colab": {
          "base_uri": "https://localhost:8080/"
        },
        "id": "b3NaKXJX1MX7",
        "outputId": "52e3c45e-d60d-4d41-e663-59c34f8f8382"
      },
      "execution_count": 183,
      "outputs": [
        {
          "output_type": "stream",
          "name": "stdout",
          "text": [
            "{'brand': 'Ford', 'model': 'Mustang', 'year': 1964}\n"
          ]
        }
      ]
    },
    {
      "cell_type": "markdown",
      "source": [
        "Print the \"brand\" value of the dictionary:"
      ],
      "metadata": {
        "id": "5k7jgrjW5eDV"
      }
    },
    {
      "cell_type": "code",
      "source": [
        "thisdict = {\n",
        "  \"brand\": \"Ford\",\n",
        "  \"model\": \"Mustang\",\n",
        "  \"year\": 1964\n",
        "}\n",
        "print(thisdict[\"brand\"])"
      ],
      "metadata": {
        "colab": {
          "base_uri": "https://localhost:8080/"
        },
        "id": "AkO-vsf95fA7",
        "outputId": "7cceb77e-613d-4ad5-eede-df8aeb8d55a0"
      },
      "execution_count": 184,
      "outputs": [
        {
          "output_type": "stream",
          "name": "stdout",
          "text": [
            "Ford\n"
          ]
        }
      ]
    },
    {
      "cell_type": "markdown",
      "source": [
        "Duplicate values will overwrite existing values:"
      ],
      "metadata": {
        "id": "TdM5ckmO5lWB"
      }
    },
    {
      "cell_type": "code",
      "source": [
        "thisdict = {\n",
        "  \"brand\": \"Ford\",\n",
        "  \"model\": \"Mustang\",\n",
        "  \"year\": 1964,\n",
        "  \"year\": 2020\n",
        "}\n",
        "print(thisdict)"
      ],
      "metadata": {
        "colab": {
          "base_uri": "https://localhost:8080/"
        },
        "id": "HqxDG74j5nov",
        "outputId": "a2953888-ded6-4030-a1ee-879ae38fdf25"
      },
      "execution_count": 185,
      "outputs": [
        {
          "output_type": "stream",
          "name": "stdout",
          "text": [
            "{'brand': 'Ford', 'model': 'Mustang', 'year': 2020}\n"
          ]
        }
      ]
    },
    {
      "cell_type": "markdown",
      "source": [
        "Print the number of items in the dictionary:"
      ],
      "metadata": {
        "id": "0R5ayoG05q3e"
      }
    },
    {
      "cell_type": "code",
      "source": [
        "print(len(thisdict))"
      ],
      "metadata": {
        "colab": {
          "base_uri": "https://localhost:8080/"
        },
        "id": "p272uR4L5r5x",
        "outputId": "0157691a-6f6a-472b-b9a1-757508a093ef"
      },
      "execution_count": 186,
      "outputs": [
        {
          "output_type": "stream",
          "name": "stdout",
          "text": [
            "3\n"
          ]
        }
      ]
    },
    {
      "cell_type": "markdown",
      "source": [
        "String, int, boolean, and list data types:"
      ],
      "metadata": {
        "id": "UCOHXO_r5uqH"
      }
    },
    {
      "cell_type": "code",
      "source": [
        "thisdict = {\n",
        "  \"brand\": \"Ford\",\n",
        "  \"electric\": False,\n",
        "  \"year\": 1964,\n",
        "  \"colors\": [\"red\", \"white\", \"blue\"]\n",
        "}"
      ],
      "metadata": {
        "id": "gmnNXooj5v98"
      },
      "execution_count": 187,
      "outputs": []
    },
    {
      "cell_type": "markdown",
      "source": [
        "Print the data type of a dictionary:"
      ],
      "metadata": {
        "id": "YGLmBnJT5xjG"
      }
    },
    {
      "cell_type": "code",
      "source": [
        "thisdict = {\n",
        "  \"brand\": \"Ford\",\n",
        "  \"model\": \"Mustang\",\n",
        "  \"year\": 1964\n",
        "}\n",
        "print(type(thisdict))"
      ],
      "metadata": {
        "colab": {
          "base_uri": "https://localhost:8080/"
        },
        "id": "OY3OyGBB5y2H",
        "outputId": "5b2468c4-61c5-47a3-f361-b7a26a7b1c98"
      },
      "execution_count": 188,
      "outputs": [
        {
          "output_type": "stream",
          "name": "stdout",
          "text": [
            "<class 'dict'>\n"
          ]
        }
      ]
    },
    {
      "cell_type": "markdown",
      "source": [
        "Using the dict() method to make a dictionary:"
      ],
      "metadata": {
        "id": "aKRqBDRo50Zx"
      }
    },
    {
      "cell_type": "code",
      "source": [
        "thisdict = dict(name = \"John\", age = 36, country = \"Norway\")\n",
        "print(thisdict)"
      ],
      "metadata": {
        "colab": {
          "base_uri": "https://localhost:8080/"
        },
        "id": "oxV7oZuT51ls",
        "outputId": "0d192ddc-fc46-4310-f257-357ee57322e8"
      },
      "execution_count": 189,
      "outputs": [
        {
          "output_type": "stream",
          "name": "stdout",
          "text": [
            "{'name': 'John', 'age': 36, 'country': 'Norway'}\n"
          ]
        }
      ]
    },
    {
      "cell_type": "markdown",
      "source": [
        "**12.1. Access Dictionary Items**"
      ],
      "metadata": {
        "id": "g89X9OWt54kR"
      }
    },
    {
      "cell_type": "markdown",
      "source": [
        "Get the value of the \"model\" key"
      ],
      "metadata": {
        "id": "my9LK4vn56RI"
      }
    },
    {
      "cell_type": "code",
      "source": [
        "thisdict = {\n",
        "  \"brand\": \"Ford\",\n",
        "  \"model\": \"Mustang\",\n",
        "  \"year\": 1964\n",
        "}\n",
        "x = thisdict[\"model\"]"
      ],
      "metadata": {
        "id": "5QRtK4b-57M5"
      },
      "execution_count": 190,
      "outputs": []
    },
    {
      "cell_type": "markdown",
      "source": [
        "Get the value of the \"model\" key:"
      ],
      "metadata": {
        "id": "MmmdWina5_z7"
      }
    },
    {
      "cell_type": "code",
      "source": [
        "x = thisdict.get(\"model\")"
      ],
      "metadata": {
        "id": "AWViyuv05_Qq"
      },
      "execution_count": 191,
      "outputs": []
    },
    {
      "cell_type": "markdown",
      "source": [
        "Get a list of the keys:"
      ],
      "metadata": {
        "id": "lFh95v2W6B71"
      }
    },
    {
      "cell_type": "code",
      "source": [
        "x = thisdict.keys()"
      ],
      "metadata": {
        "id": "Qjm704kf6C4k"
      },
      "execution_count": 192,
      "outputs": []
    },
    {
      "cell_type": "markdown",
      "source": [
        "Add a new item to the original dictionary, and see that the keys list gets updated as well:"
      ],
      "metadata": {
        "id": "_U_N7BMB6EgH"
      }
    },
    {
      "cell_type": "code",
      "source": [
        "car = {\n",
        "\"brand\": \"Ford\",\n",
        "\"model\": \"Mustang\",\n",
        "\"year\": 1964\n",
        "}\n",
        "\n",
        "x = car.keys()\n",
        "\n",
        "print(x) #before the change\n",
        "\n",
        "car[\"color\"] = \"white\"\n",
        "\n",
        "print(x) #after the change"
      ],
      "metadata": {
        "colab": {
          "base_uri": "https://localhost:8080/"
        },
        "id": "Ll1AnQEn6FkH",
        "outputId": "1a749e5a-0f37-4b9d-c186-ae82512c0c59"
      },
      "execution_count": 193,
      "outputs": [
        {
          "output_type": "stream",
          "name": "stdout",
          "text": [
            "dict_keys(['brand', 'model', 'year'])\n",
            "dict_keys(['brand', 'model', 'year', 'color'])\n"
          ]
        }
      ]
    },
    {
      "cell_type": "markdown",
      "source": [
        "Get a list of the values:"
      ],
      "metadata": {
        "id": "SWOWCO8T6Tgz"
      }
    },
    {
      "cell_type": "code",
      "source": [
        "x = thisdict.values()"
      ],
      "metadata": {
        "id": "Owsqhqi56UuD"
      },
      "execution_count": 194,
      "outputs": []
    },
    {
      "cell_type": "markdown",
      "source": [
        "Make a change in the original dictionary, and see that the values list gets updated as well:"
      ],
      "metadata": {
        "id": "XCIitmej6V0e"
      }
    },
    {
      "cell_type": "code",
      "source": [
        "car = {\n",
        "\"brand\": \"Ford\",\n",
        "\"model\": \"Mustang\",\n",
        "\"year\": 1964\n",
        "}\n",
        "\n",
        "x = car.values()\n",
        "\n",
        "print(x) #before the change\n",
        "\n",
        "car[\"year\"] = 2020\n",
        "\n",
        "print(x) #after the change"
      ],
      "metadata": {
        "colab": {
          "base_uri": "https://localhost:8080/"
        },
        "id": "2iRLfUcf6YwS",
        "outputId": "aa3af46b-c050-413d-c3b8-a58d79d6f137"
      },
      "execution_count": 195,
      "outputs": [
        {
          "output_type": "stream",
          "name": "stdout",
          "text": [
            "dict_values(['Ford', 'Mustang', 1964])\n",
            "dict_values(['Ford', 'Mustang', 2020])\n"
          ]
        }
      ]
    },
    {
      "cell_type": "markdown",
      "source": [
        "Add a new item to the original dictionary, and see that the values list gets updated as well:"
      ],
      "metadata": {
        "id": "Y2IOsMBT6bA1"
      }
    },
    {
      "cell_type": "code",
      "source": [
        "car = {\n",
        "\"brand\": \"Ford\",\n",
        "\"model\": \"Mustang\",\n",
        "\"year\": 1964\n",
        "}\n",
        "\n",
        "x = car.values()\n",
        "\n",
        "print(x) #before the change\n",
        "\n",
        "car[\"color\"] = \"red\"\n",
        "\n",
        "print(x) #after the change"
      ],
      "metadata": {
        "colab": {
          "base_uri": "https://localhost:8080/"
        },
        "id": "A3u1bx4b6cKe",
        "outputId": "c9cecfc0-dae6-4bf5-dcda-e49d4a012868"
      },
      "execution_count": 196,
      "outputs": [
        {
          "output_type": "stream",
          "name": "stdout",
          "text": [
            "dict_values(['Ford', 'Mustang', 1964])\n",
            "dict_values(['Ford', 'Mustang', 1964, 'red'])\n"
          ]
        }
      ]
    },
    {
      "cell_type": "markdown",
      "source": [
        "Get a list of the key:value pairs"
      ],
      "metadata": {
        "id": "fgfbLVld6dtp"
      }
    },
    {
      "cell_type": "code",
      "source": [
        "x = thisdict.items()"
      ],
      "metadata": {
        "id": "_XM-lHlA6fBY"
      },
      "execution_count": 197,
      "outputs": []
    },
    {
      "cell_type": "markdown",
      "source": [
        "Make a change in the original dictionary, and see that the items list gets updated as well:"
      ],
      "metadata": {
        "id": "lnH4oR_N6gaC"
      }
    },
    {
      "cell_type": "code",
      "source": [
        "car = {\n",
        "\"brand\": \"Ford\",\n",
        "\"model\": \"Mustang\",\n",
        "\"year\": 1964\n",
        "}\n",
        "\n",
        "x = car.items()\n",
        "\n",
        "print(x) #before the change\n",
        "\n",
        "car[\"year\"] = 2020\n",
        "\n",
        "print(x) #after the change"
      ],
      "metadata": {
        "colab": {
          "base_uri": "https://localhost:8080/"
        },
        "id": "QxNQ8mMx6h0m",
        "outputId": "6e3d9161-0c14-4027-ab8e-ab34f28d8cc7"
      },
      "execution_count": 198,
      "outputs": [
        {
          "output_type": "stream",
          "name": "stdout",
          "text": [
            "dict_items([('brand', 'Ford'), ('model', 'Mustang'), ('year', 1964)])\n",
            "dict_items([('brand', 'Ford'), ('model', 'Mustang'), ('year', 2020)])\n"
          ]
        }
      ]
    },
    {
      "cell_type": "markdown",
      "source": [
        "Add a new item to the original dictionary, and see that the items list gets updated as well:"
      ],
      "metadata": {
        "id": "gtyv_OlE6jUx"
      }
    },
    {
      "cell_type": "code",
      "source": [
        "car = {\n",
        "\"brand\": \"Ford\",\n",
        "\"model\": \"Mustang\",\n",
        "\"year\": 1964\n",
        "}\n",
        "\n",
        "x = car.items()\n",
        "\n",
        "print(x) #before the change\n",
        "\n",
        "car[\"color\"] = \"red\"\n",
        "\n",
        "print(x) #after the change"
      ],
      "metadata": {
        "colab": {
          "base_uri": "https://localhost:8080/"
        },
        "id": "p-XrG9JX6k1c",
        "outputId": "eb195960-fd2e-4e94-ba4c-c689bb727a5d"
      },
      "execution_count": 199,
      "outputs": [
        {
          "output_type": "stream",
          "name": "stdout",
          "text": [
            "dict_items([('brand', 'Ford'), ('model', 'Mustang'), ('year', 1964)])\n",
            "dict_items([('brand', 'Ford'), ('model', 'Mustang'), ('year', 1964), ('color', 'red')])\n"
          ]
        }
      ]
    },
    {
      "cell_type": "markdown",
      "source": [
        "Check if \"model\" is present in the dictionary:"
      ],
      "metadata": {
        "id": "pGL43MlO6nEr"
      }
    },
    {
      "cell_type": "code",
      "source": [
        "thisdict = {\n",
        "  \"brand\": \"Ford\",\n",
        "  \"model\": \"Mustang\",\n",
        "  \"year\": 1964\n",
        "}\n",
        "if \"model\" in thisdict:\n",
        "  print(\"Yes, 'model' is one of the keys in the thisdict dictionary\")"
      ],
      "metadata": {
        "colab": {
          "base_uri": "https://localhost:8080/"
        },
        "id": "T8yOyR8u6oPx",
        "outputId": "61adaa12-cb44-4ef3-e225-3b0def761228"
      },
      "execution_count": 200,
      "outputs": [
        {
          "output_type": "stream",
          "name": "stdout",
          "text": [
            "Yes, 'model' is one of the keys in the thisdict dictionary\n"
          ]
        }
      ]
    },
    {
      "cell_type": "markdown",
      "source": [
        "**12.2. Change Dictionary Items**"
      ],
      "metadata": {
        "id": "nw2HnY-Y6xiL"
      }
    },
    {
      "cell_type": "markdown",
      "source": [
        "Change the \"year\" to 2018:"
      ],
      "metadata": {
        "id": "CgEcdO9A6zvL"
      }
    },
    {
      "cell_type": "code",
      "source": [
        "thisdict = {\n",
        "  \"brand\": \"Ford\",\n",
        "  \"model\": \"Mustang\",\n",
        "  \"year\": 1964\n",
        "}\n",
        "thisdict[\"year\"] = 2018\n",
        "\n",
        "print(thisdict)"
      ],
      "metadata": {
        "colab": {
          "base_uri": "https://localhost:8080/"
        },
        "id": "RA5xrHDZ60w8",
        "outputId": "2e64a717-3b76-473e-8664-6431aeef7db9"
      },
      "execution_count": 202,
      "outputs": [
        {
          "output_type": "stream",
          "name": "stdout",
          "text": [
            "{'brand': 'Ford', 'model': 'Mustang', 'year': 2018}\n"
          ]
        }
      ]
    },
    {
      "cell_type": "markdown",
      "source": [
        "Update the \"year\" of the car by using the update() method:"
      ],
      "metadata": {
        "id": "UTyyN8o469u_"
      }
    },
    {
      "cell_type": "code",
      "source": [
        "thisdict = {\n",
        "  \"brand\": \"Ford\",\n",
        "  \"model\": \"Mustang\",\n",
        "  \"year\": 1964\n",
        "}\n",
        "thisdict.update({\"year\": 2020})\n",
        "\n",
        "print(thisdict)"
      ],
      "metadata": {
        "colab": {
          "base_uri": "https://localhost:8080/"
        },
        "id": "CTmXnOGB6_Vc",
        "outputId": "d65792da-0eb9-4a19-fb73-6adb5e8077b3"
      },
      "execution_count": 203,
      "outputs": [
        {
          "output_type": "stream",
          "name": "stdout",
          "text": [
            "{'brand': 'Ford', 'model': 'Mustang', 'year': 2020}\n"
          ]
        }
      ]
    },
    {
      "cell_type": "markdown",
      "source": [
        "**12.3. Add Dictionary Items**"
      ],
      "metadata": {
        "id": "xJxahPV97GVJ"
      }
    },
    {
      "cell_type": "markdown",
      "source": [
        "Adding Items"
      ],
      "metadata": {
        "id": "C26fomIP7KHK"
      }
    },
    {
      "cell_type": "code",
      "source": [
        "thisdict = {\n",
        "  \"brand\": \"Ford\",\n",
        "  \"model\": \"Mustang\",\n",
        "  \"year\": 1964\n",
        "}\n",
        "thisdict[\"color\"] = \"red\"\n",
        "print(thisdict)"
      ],
      "metadata": {
        "colab": {
          "base_uri": "https://localhost:8080/"
        },
        "id": "-sNQ84Ey7LlK",
        "outputId": "ec8b2390-2724-45e3-ce34-d7b84a8aa8fc"
      },
      "execution_count": 204,
      "outputs": [
        {
          "output_type": "stream",
          "name": "stdout",
          "text": [
            "{'brand': 'Ford', 'model': 'Mustang', 'year': 1964, 'color': 'red'}\n"
          ]
        }
      ]
    },
    {
      "cell_type": "markdown",
      "source": [
        "Add a color item to the dictionary by using the update() method:"
      ],
      "metadata": {
        "id": "2r4UeI717Nxl"
      }
    },
    {
      "cell_type": "code",
      "source": [
        "thisdict = {\n",
        "  \"brand\": \"Ford\",\n",
        "  \"model\": \"Mustang\",\n",
        "  \"year\": 1964\n",
        "}\n",
        "thisdict.update({\"color\": \"red\"})"
      ],
      "metadata": {
        "id": "ipnS9nbF7PzO"
      },
      "execution_count": 205,
      "outputs": []
    },
    {
      "cell_type": "markdown",
      "source": [
        "**12.4. Remove Dictionary Items**"
      ],
      "metadata": {
        "id": "5_Pefq5Q7TaK"
      }
    },
    {
      "cell_type": "markdown",
      "source": [
        "The pop() method removes the item with the specified key name:"
      ],
      "metadata": {
        "id": "Ul7dvtG-7XSW"
      }
    },
    {
      "cell_type": "code",
      "source": [
        "thisdict = {\n",
        "  \"brand\": \"Ford\",\n",
        "  \"model\": \"Mustang\",\n",
        "  \"year\": 1964\n",
        "}\n",
        "thisdict.pop(\"model\")\n",
        "print(thisdict)"
      ],
      "metadata": {
        "colab": {
          "base_uri": "https://localhost:8080/"
        },
        "id": "ImUnGvdp7Y1H",
        "outputId": "b25ed311-d31b-46cf-8e0e-a111472c25c4"
      },
      "execution_count": 206,
      "outputs": [
        {
          "output_type": "stream",
          "name": "stdout",
          "text": [
            "{'brand': 'Ford', 'year': 1964}\n"
          ]
        }
      ]
    },
    {
      "cell_type": "markdown",
      "source": [
        "The popitem() method removes the last inserted item (in versions before 3.7, a random item is removed instead):"
      ],
      "metadata": {
        "id": "lM1l9eyP7bkF"
      }
    },
    {
      "cell_type": "code",
      "source": [
        "thisdict = {\n",
        "  \"brand\": \"Ford\",\n",
        "  \"model\": \"Mustang\",\n",
        "  \"year\": 1964\n",
        "}\n",
        "thisdict.popitem()\n",
        "print(thisdict)"
      ],
      "metadata": {
        "colab": {
          "base_uri": "https://localhost:8080/"
        },
        "id": "HYJARAYh7cx4",
        "outputId": "6e47ec9c-abf2-4b0d-a802-11f1baa4ca01"
      },
      "execution_count": 207,
      "outputs": [
        {
          "output_type": "stream",
          "name": "stdout",
          "text": [
            "{'brand': 'Ford', 'model': 'Mustang'}\n"
          ]
        }
      ]
    },
    {
      "cell_type": "markdown",
      "source": [
        "The del keyword removes the item with the specified key name:"
      ],
      "metadata": {
        "id": "UORqj_rI7ehO"
      }
    },
    {
      "cell_type": "code",
      "source": [
        "thisdict = {\n",
        "  \"brand\": \"Ford\",\n",
        "  \"model\": \"Mustang\",\n",
        "  \"year\": 1964\n",
        "}\n",
        "del thisdict[\"model\"]\n",
        "print(thisdict)"
      ],
      "metadata": {
        "colab": {
          "base_uri": "https://localhost:8080/"
        },
        "id": "ucry8e3Z7fz5",
        "outputId": "2560ca24-073a-44d8-8cf5-8e6363b70415"
      },
      "execution_count": 215,
      "outputs": [
        {
          "output_type": "stream",
          "name": "stdout",
          "text": [
            "{'brand': 'Ford', 'year': 1964}\n"
          ]
        }
      ]
    },
    {
      "cell_type": "markdown",
      "source": [
        "The del keyword can also delete the dictionary completely:"
      ],
      "metadata": {
        "id": "G8hrRubz7kEH"
      }
    },
    {
      "cell_type": "code",
      "source": [
        "thisdict = {\n",
        "  \"brand\": \"Ford\",\n",
        "  \"model\": \"Mustang\",\n",
        "  \"year\": 1964\n",
        "}\n",
        "del thisdict\n",
        "print(thisdict) #this will cause an error because \"thisdict\" no longer exists."
      ],
      "metadata": {
        "colab": {
          "base_uri": "https://localhost:8080/",
          "height": 200
        },
        "id": "1ZLfoCm27lNR",
        "outputId": "b2358855-8c93-4fb5-bd73-b0770c8b8566"
      },
      "execution_count": 209,
      "outputs": [
        {
          "output_type": "error",
          "ename": "NameError",
          "evalue": "ignored",
          "traceback": [
            "\u001b[0;31m---------------------------------------------------------------------------\u001b[0m",
            "\u001b[0;31mNameError\u001b[0m                                 Traceback (most recent call last)",
            "\u001b[0;32m<ipython-input-209-cf8f189c2310>\u001b[0m in \u001b[0;36m<cell line: 7>\u001b[0;34m()\u001b[0m\n\u001b[1;32m      5\u001b[0m }\n\u001b[1;32m      6\u001b[0m \u001b[0;32mdel\u001b[0m \u001b[0mthisdict\u001b[0m\u001b[0;34m\u001b[0m\u001b[0;34m\u001b[0m\u001b[0m\n\u001b[0;32m----> 7\u001b[0;31m \u001b[0mprint\u001b[0m\u001b[0;34m(\u001b[0m\u001b[0mthisdict\u001b[0m\u001b[0;34m)\u001b[0m \u001b[0;31m#this will cause an error because \"thisdict\" no longer exists.\u001b[0m\u001b[0;34m\u001b[0m\u001b[0;34m\u001b[0m\u001b[0m\n\u001b[0m",
            "\u001b[0;31mNameError\u001b[0m: name 'thisdict' is not defined"
          ]
        }
      ]
    },
    {
      "cell_type": "markdown",
      "source": [
        "The clear() method empties the dictionary:"
      ],
      "metadata": {
        "id": "DmXy1DkO7n4i"
      }
    },
    {
      "cell_type": "code",
      "source": [
        "thisdict = {\n",
        "  \"brand\": \"Ford\",\n",
        "  \"model\": \"Mustang\",\n",
        "  \"year\": 1964\n",
        "}\n",
        "thisdict.clear()\n",
        "print(thisdict)"
      ],
      "metadata": {
        "colab": {
          "base_uri": "https://localhost:8080/"
        },
        "id": "4QbIMALu7ojZ",
        "outputId": "d6ce1272-9338-4d3f-e063-74f722f20577"
      },
      "execution_count": 213,
      "outputs": [
        {
          "output_type": "stream",
          "name": "stdout",
          "text": [
            "{}\n"
          ]
        }
      ]
    },
    {
      "cell_type": "markdown",
      "source": [
        "**12.5. Loop Dictionaries**"
      ],
      "metadata": {
        "id": "9HOgwkvb7s-m"
      }
    },
    {
      "cell_type": "markdown",
      "source": [
        "Print all key names in the dictionary, one by one:"
      ],
      "metadata": {
        "id": "4f_DJ_mY7u4u"
      }
    },
    {
      "cell_type": "code",
      "source": [
        "thisdict = {\n",
        "  \"brand\": \"Ford\",\n",
        "  \"model\": \"Mustang\",\n",
        "  \"year\": 1964\n",
        "}\n",
        "\n",
        "for x in thisdict:\n",
        "  print(x)"
      ],
      "metadata": {
        "colab": {
          "base_uri": "https://localhost:8080/"
        },
        "id": "m1Cm_1pT7v0r",
        "outputId": "b2af3b16-066f-45dc-f160-e06acc30b682"
      },
      "execution_count": 217,
      "outputs": [
        {
          "output_type": "stream",
          "name": "stdout",
          "text": [
            "brand\n",
            "model\n",
            "year\n"
          ]
        }
      ]
    },
    {
      "cell_type": "markdown",
      "source": [
        "Print all values in the dictionary, one by one:"
      ],
      "metadata": {
        "id": "LYvGaS9X8AFv"
      }
    },
    {
      "cell_type": "code",
      "source": [
        "for x in thisdict:\n",
        "  print(thisdict[x])"
      ],
      "metadata": {
        "colab": {
          "base_uri": "https://localhost:8080/"
        },
        "id": "Obr7H4uV8BaM",
        "outputId": "a0bc8a96-39e9-4795-a320-176109aae0a0"
      },
      "execution_count": 218,
      "outputs": [
        {
          "output_type": "stream",
          "name": "stdout",
          "text": [
            "Ford\n",
            "Mustang\n",
            "1964\n"
          ]
        }
      ]
    },
    {
      "cell_type": "markdown",
      "source": [
        "You can also use the values() method to return values of a dictionary:"
      ],
      "metadata": {
        "id": "yfRSzvef8DT6"
      }
    },
    {
      "cell_type": "code",
      "source": [
        "for x in thisdict.values():\n",
        "  print(x)"
      ],
      "metadata": {
        "colab": {
          "base_uri": "https://localhost:8080/"
        },
        "id": "dLzIbSJq8EXx",
        "outputId": "5d250466-84b6-4634-dfd5-914800e5dbdd"
      },
      "execution_count": 219,
      "outputs": [
        {
          "output_type": "stream",
          "name": "stdout",
          "text": [
            "Ford\n",
            "Mustang\n",
            "1964\n"
          ]
        }
      ]
    },
    {
      "cell_type": "markdown",
      "source": [
        "You can use the keys() method to return the keys of a dictionary:"
      ],
      "metadata": {
        "id": "PuEYXGOM8GA7"
      }
    },
    {
      "cell_type": "code",
      "source": [
        "for x in thisdict.keys():\n",
        "  print(x)"
      ],
      "metadata": {
        "colab": {
          "base_uri": "https://localhost:8080/"
        },
        "id": "Cgtsqmuc8HTi",
        "outputId": "95c6e351-2d77-4000-cac7-0595cc7715fe"
      },
      "execution_count": 220,
      "outputs": [
        {
          "output_type": "stream",
          "name": "stdout",
          "text": [
            "brand\n",
            "model\n",
            "year\n"
          ]
        }
      ]
    },
    {
      "cell_type": "markdown",
      "source": [
        "Loop through both keys and values, by using the items() method:"
      ],
      "metadata": {
        "id": "79erMYFZ8JC8"
      }
    },
    {
      "cell_type": "code",
      "source": [
        "for x, y in thisdict.items():\n",
        "  print(x, y)"
      ],
      "metadata": {
        "colab": {
          "base_uri": "https://localhost:8080/"
        },
        "id": "CKByQ0hb8KFw",
        "outputId": "9f25032e-b2e9-4772-8deb-ede8cc05d25a"
      },
      "execution_count": 221,
      "outputs": [
        {
          "output_type": "stream",
          "name": "stdout",
          "text": [
            "brand Ford\n",
            "model Mustang\n",
            "year 1964\n"
          ]
        }
      ]
    },
    {
      "cell_type": "markdown",
      "source": [
        "**12.6. Copy Dictionaries**"
      ],
      "metadata": {
        "id": "OTEtghH78hV9"
      }
    },
    {
      "cell_type": "markdown",
      "source": [
        "Make a copy of a dictionary with the copy() method:"
      ],
      "metadata": {
        "id": "Rqmbd8v28jbv"
      }
    },
    {
      "cell_type": "code",
      "source": [
        "thisdict = {\n",
        "  \"brand\": \"Ford\",\n",
        "  \"model\": \"Mustang\",\n",
        "  \"year\": 1964\n",
        "}\n",
        "mydict = thisdict.copy()\n",
        "print(mydict)"
      ],
      "metadata": {
        "colab": {
          "base_uri": "https://localhost:8080/"
        },
        "id": "ft6CiwJ08k9P",
        "outputId": "c0b08355-1745-4e76-fce2-8119b06c202a"
      },
      "execution_count": 222,
      "outputs": [
        {
          "output_type": "stream",
          "name": "stdout",
          "text": [
            "{'brand': 'Ford', 'model': 'Mustang', 'year': 1964}\n"
          ]
        }
      ]
    },
    {
      "cell_type": "markdown",
      "source": [
        "Make a copy of a dictionary with the dict() function:"
      ],
      "metadata": {
        "id": "0Ad9rJON8mfO"
      }
    },
    {
      "cell_type": "code",
      "source": [
        "thisdict = {\n",
        "  \"brand\": \"Ford\",\n",
        "  \"model\": \"Mustang\",\n",
        "  \"year\": 1964\n",
        "}\n",
        "mydict = dict(thisdict)\n",
        "print(mydict)"
      ],
      "metadata": {
        "colab": {
          "base_uri": "https://localhost:8080/"
        },
        "id": "gmKOtmKP8nu_",
        "outputId": "68333fbe-f58a-4cfc-8abf-89f603926e5b"
      },
      "execution_count": 223,
      "outputs": [
        {
          "output_type": "stream",
          "name": "stdout",
          "text": [
            "{'brand': 'Ford', 'model': 'Mustang', 'year': 1964}\n"
          ]
        }
      ]
    },
    {
      "cell_type": "markdown",
      "source": [
        "**12.7. Nested Dictionaries**"
      ],
      "metadata": {
        "id": "UWsotZg-8peP"
      }
    },
    {
      "cell_type": "markdown",
      "source": [
        "Create a dictionary that contain three dictionaries:"
      ],
      "metadata": {
        "id": "LTWRrp7r8q1t"
      }
    },
    {
      "cell_type": "code",
      "source": [
        "myfamily = {\n",
        "  \"child1\" : {\n",
        "    \"name\" : \"Emil\",\n",
        "    \"year\" : 2004\n",
        "  },\n",
        "  \"child2\" : {\n",
        "    \"name\" : \"Tobias\",\n",
        "    \"year\" : 2007\n",
        "  },\n",
        "  \"child3\" : {\n",
        "    \"name\" : \"Linus\",\n",
        "    \"year\" : 2011\n",
        "  }\n",
        "}"
      ],
      "metadata": {
        "id": "aDDYbOiQ8sL1"
      },
      "execution_count": 224,
      "outputs": []
    },
    {
      "cell_type": "markdown",
      "source": [
        "Create three dictionaries, then create one dictionary that will contain the other three dictionaries:"
      ],
      "metadata": {
        "id": "hr1seWzb8wQd"
      }
    },
    {
      "cell_type": "code",
      "source": [
        "child1 = {\n",
        "  \"name\" : \"Emil\",\n",
        "  \"year\" : 2004\n",
        "}\n",
        "child2 = {\n",
        "  \"name\" : \"Tobias\",\n",
        "  \"year\" : 2007\n",
        "}\n",
        "child3 = {\n",
        "  \"name\" : \"Linus\",\n",
        "  \"year\" : 2011\n",
        "}\n",
        "\n",
        "myfamily = {\n",
        "  \"child1\" : child1,\n",
        "  \"child2\" : child2,\n",
        "  \"child3\" : child3\n",
        "}"
      ],
      "metadata": {
        "id": "c1D9cMXF8zMK"
      },
      "execution_count": 225,
      "outputs": []
    },
    {
      "cell_type": "markdown",
      "source": [
        "Print the name of child 2:"
      ],
      "metadata": {
        "id": "r0GxiQhN80_N"
      }
    },
    {
      "cell_type": "code",
      "source": [
        "print(myfamily[\"child2\"][\"name\"])"
      ],
      "metadata": {
        "colab": {
          "base_uri": "https://localhost:8080/"
        },
        "id": "dWmkvOMR82I9",
        "outputId": "d8dfbcde-bf28-49cc-8896-95d1afe3034e"
      },
      "execution_count": 226,
      "outputs": [
        {
          "output_type": "stream",
          "name": "stdout",
          "text": [
            "Tobias\n"
          ]
        }
      ]
    },
    {
      "cell_type": "markdown",
      "source": [
        "**12.8. Dictionary Methods**"
      ],
      "metadata": {
        "id": "prdWOSya86gb"
      }
    },
    {
      "cell_type": "markdown",
      "source": [
        "![Dictonary Method.png](data:image/png;base64,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)"
      ],
      "metadata": {
        "id": "-Vnq_vMC88NA"
      }
    },
    {
      "cell_type": "markdown",
      "source": [
        "**13. If ... Else**"
      ],
      "metadata": {
        "id": "0M4FBMkE_o0w"
      }
    },
    {
      "cell_type": "markdown",
      "source": [
        "If statement:"
      ],
      "metadata": {
        "id": "Ov-LeIT-_t8G"
      }
    },
    {
      "cell_type": "code",
      "source": [
        "a = 33\n",
        "b = 200\n",
        "if b > a:\n",
        "  print(\"b is greater than a\")"
      ],
      "metadata": {
        "colab": {
          "base_uri": "https://localhost:8080/"
        },
        "id": "HXHeGppK_vww",
        "outputId": "188a7da3-fa13-464c-8884-d354f42312df"
      },
      "execution_count": 227,
      "outputs": [
        {
          "output_type": "stream",
          "name": "stdout",
          "text": [
            "b is greater than a\n"
          ]
        }
      ]
    },
    {
      "cell_type": "markdown",
      "source": [
        "If statement, without indentation (will raise an error):"
      ],
      "metadata": {
        "id": "qIay8iz__yZm"
      }
    },
    {
      "cell_type": "code",
      "source": [
        "a = 33\n",
        "b = 200\n",
        "if b > a:\n",
        "print(\"b is greater than a\") # you will get an error"
      ],
      "metadata": {
        "colab": {
          "base_uri": "https://localhost:8080/",
          "height": 130
        },
        "id": "DQbmDf09_zn7",
        "outputId": "66138bd4-4a6b-4a2f-a942-357fc3e4de47"
      },
      "execution_count": 228,
      "outputs": [
        {
          "output_type": "error",
          "ename": "IndentationError",
          "evalue": "ignored",
          "traceback": [
            "\u001b[0;36m  File \u001b[0;32m\"<ipython-input-228-4276c1871af7>\"\u001b[0;36m, line \u001b[0;32m4\u001b[0m\n\u001b[0;31m    print(\"b is greater than a\") # you will get an error\u001b[0m\n\u001b[0m    ^\u001b[0m\n\u001b[0;31mIndentationError\u001b[0m\u001b[0;31m:\u001b[0m expected an indented block after 'if' statement on line 3\n"
          ]
        }
      ]
    },
    {
      "cell_type": "markdown",
      "source": [
        "The **elif** keyword is Python's way of saying \"if the previous conditions were not true, then try this condition\"."
      ],
      "metadata": {
        "id": "da6Kkn4K_9Mx"
      }
    },
    {
      "cell_type": "code",
      "source": [
        "a = 33\n",
        "b = 33\n",
        "if b > a:\n",
        "  print(\"b is greater than a\")\n",
        "elif a == b:\n",
        "  print(\"a and b are equal\")"
      ],
      "metadata": {
        "colab": {
          "base_uri": "https://localhost:8080/"
        },
        "id": "nKXW_BSm__pg",
        "outputId": "c5894e81-ff68-463e-8cba-3b4da256714c"
      },
      "execution_count": 229,
      "outputs": [
        {
          "output_type": "stream",
          "name": "stdout",
          "text": [
            "a and b are equal\n"
          ]
        }
      ]
    },
    {
      "cell_type": "markdown",
      "source": [
        "The else keyword catches anything which isn't caught by the preceding conditions."
      ],
      "metadata": {
        "id": "A1bwaoaGADZ8"
      }
    },
    {
      "cell_type": "code",
      "source": [
        "a = 200\n",
        "b = 33\n",
        "if b > a:\n",
        "  print(\"b is greater than a\")\n",
        "elif a == b:\n",
        "  print(\"a and b are equal\")\n",
        "else:\n",
        "  print(\"a is greater than b\")"
      ],
      "metadata": {
        "colab": {
          "base_uri": "https://localhost:8080/"
        },
        "id": "owCDVTqCAEic",
        "outputId": "048b2367-a840-4f42-fa6f-3acd50506c6d"
      },
      "execution_count": 230,
      "outputs": [
        {
          "output_type": "stream",
          "name": "stdout",
          "text": [
            "a is greater than b\n"
          ]
        }
      ]
    },
    {
      "cell_type": "markdown",
      "source": [
        "You can also have an else without the elif:"
      ],
      "metadata": {
        "id": "0eeW9PW-AJ1q"
      }
    },
    {
      "cell_type": "code",
      "source": [
        "a = 200\n",
        "b = 33\n",
        "if b > a:\n",
        "  print(\"b is greater than a\")\n",
        "else:\n",
        "  print(\"b is not greater than a\")"
      ],
      "metadata": {
        "colab": {
          "base_uri": "https://localhost:8080/"
        },
        "id": "4LMLCS_GAK7g",
        "outputId": "d9065eaa-1917-4e7b-9732-edc39932ec29"
      },
      "execution_count": 231,
      "outputs": [
        {
          "output_type": "stream",
          "name": "stdout",
          "text": [
            "b is not greater than a\n"
          ]
        }
      ]
    },
    {
      "cell_type": "markdown",
      "source": [
        "One line if statement:"
      ],
      "metadata": {
        "id": "t7m70vl1APBf"
      }
    },
    {
      "cell_type": "code",
      "source": [
        "if a > b: print(\"a is greater than b\")"
      ],
      "metadata": {
        "colab": {
          "base_uri": "https://localhost:8080/"
        },
        "id": "8hET82hkAQRt",
        "outputId": "bea8c4f4-cc99-46a9-b3c3-1dd3206f58b8"
      },
      "execution_count": 232,
      "outputs": [
        {
          "output_type": "stream",
          "name": "stdout",
          "text": [
            "a is greater than b\n"
          ]
        }
      ]
    },
    {
      "cell_type": "markdown",
      "source": [
        "One line if else statement:"
      ],
      "metadata": {
        "id": "xtHLxYbwAS6Y"
      }
    },
    {
      "cell_type": "code",
      "source": [
        "a = 2\n",
        "b = 330\n",
        "print(\"A\") if a > b else print(\"B\")"
      ],
      "metadata": {
        "colab": {
          "base_uri": "https://localhost:8080/"
        },
        "id": "yxr7CiWfAUli",
        "outputId": "e75ad153-f5b5-4118-8b31-c90a9128e75b"
      },
      "execution_count": 233,
      "outputs": [
        {
          "output_type": "stream",
          "name": "stdout",
          "text": [
            "B\n"
          ]
        }
      ]
    },
    {
      "cell_type": "markdown",
      "source": [
        "One line if else statement, with 3 conditions:"
      ],
      "metadata": {
        "id": "NUGYL2RXAV6a"
      }
    },
    {
      "cell_type": "code",
      "source": [
        "a = 330\n",
        "b = 330\n",
        "print(\"A\") if a > b else print(\"=\") if a == b else print(\"B\")"
      ],
      "metadata": {
        "colab": {
          "base_uri": "https://localhost:8080/"
        },
        "id": "4UyJG_M0AXpv",
        "outputId": "8b88c740-ace8-47a4-904c-d95083a85b80"
      },
      "execution_count": 234,
      "outputs": [
        {
          "output_type": "stream",
          "name": "stdout",
          "text": [
            "=\n"
          ]
        }
      ]
    },
    {
      "cell_type": "markdown",
      "source": [
        "Test if a is greater than b, AND if c is greater than a:"
      ],
      "metadata": {
        "id": "zqnNX14ZArCW"
      }
    },
    {
      "cell_type": "code",
      "source": [
        "a = 200\n",
        "b = 33\n",
        "c = 500\n",
        "if a > b and c > a:\n",
        "  print(\"Both conditions are True\")"
      ],
      "metadata": {
        "colab": {
          "base_uri": "https://localhost:8080/"
        },
        "id": "-lumziZSAsNS",
        "outputId": "71f21b93-fb82-403e-f478-ea4bef344bf4"
      },
      "execution_count": 235,
      "outputs": [
        {
          "output_type": "stream",
          "name": "stdout",
          "text": [
            "Both conditions are True\n"
          ]
        }
      ]
    },
    {
      "cell_type": "markdown",
      "source": [
        "Test if a is greater than b, OR if a is greater than c:"
      ],
      "metadata": {
        "id": "Ab1j7mTHAtl-"
      }
    },
    {
      "cell_type": "code",
      "source": [
        "a = 200\n",
        "b = 33\n",
        "c = 500\n",
        "if a > b or a > c:\n",
        "  print(\"At least one of the conditions is True\")"
      ],
      "metadata": {
        "colab": {
          "base_uri": "https://localhost:8080/"
        },
        "id": "1mi_2zuiAupI",
        "outputId": "f4f9d530-2c10-4cb5-8d93-cc2cf425517c"
      },
      "execution_count": 236,
      "outputs": [
        {
          "output_type": "stream",
          "name": "stdout",
          "text": [
            "At least one of the conditions is True\n"
          ]
        }
      ]
    },
    {
      "cell_type": "markdown",
      "source": [
        "Test if a is NOT greater than b:"
      ],
      "metadata": {
        "id": "X-cDXl7GAv42"
      }
    },
    {
      "cell_type": "code",
      "source": [
        "a = 33\n",
        "b = 200\n",
        "if not a > b:\n",
        "  print(\"a is NOT greater than b\")"
      ],
      "metadata": {
        "colab": {
          "base_uri": "https://localhost:8080/"
        },
        "id": "oJvAalKUAw3W",
        "outputId": "4420f292-d160-4260-bd9e-5c2a41fa0be5"
      },
      "execution_count": 237,
      "outputs": [
        {
          "output_type": "stream",
          "name": "stdout",
          "text": [
            "a is NOT greater than b\n"
          ]
        }
      ]
    },
    {
      "cell_type": "markdown",
      "source": [
        "**13.1. Nested If**"
      ],
      "metadata": {
        "id": "dhwCdUsgAyd3"
      }
    },
    {
      "cell_type": "markdown",
      "source": [
        "You can have if statements inside if statements, this is called nested if statements."
      ],
      "metadata": {
        "id": "I5LqUN0PA6Wc"
      }
    },
    {
      "cell_type": "code",
      "source": [
        "x = 41\n",
        "\n",
        "if x > 10:\n",
        "  print(\"Above ten,\")\n",
        "  if x > 20:\n",
        "    print(\"and also above 20!\")\n",
        "  else:\n",
        "    print(\"but not above 20.\")"
      ],
      "metadata": {
        "colab": {
          "base_uri": "https://localhost:8080/"
        },
        "id": "1jvBMA31A7OX",
        "outputId": "46960a71-d022-4eed-ac69-547d5109002b"
      },
      "execution_count": 239,
      "outputs": [
        {
          "output_type": "stream",
          "name": "stdout",
          "text": [
            "Above ten,\n",
            "and also above 20!\n"
          ]
        }
      ]
    },
    {
      "cell_type": "markdown",
      "source": [
        "if statements cannot be empty, but if you for some reason have an if statement with no content, put in the pass statement to avoid getting an error."
      ],
      "metadata": {
        "id": "g_ooSC7UBBUs"
      }
    },
    {
      "cell_type": "code",
      "source": [
        "a = 33\n",
        "b = 200\n",
        "\n",
        "if b > a:\n",
        "  pass"
      ],
      "metadata": {
        "id": "zpInfFC4BCkJ"
      },
      "execution_count": 240,
      "outputs": []
    },
    {
      "cell_type": "markdown",
      "source": [
        "**14. Loops**"
      ],
      "metadata": {
        "id": "ra1ysl0QBMlY"
      }
    },
    {
      "cell_type": "markdown",
      "source": [
        "**14.1. While Loops**"
      ],
      "metadata": {
        "id": "GNPOQjLABO2y"
      }
    },
    {
      "cell_type": "markdown",
      "source": [
        "Print i as long as i is less than 6:"
      ],
      "metadata": {
        "id": "adak75K3BQ6w"
      }
    },
    {
      "cell_type": "code",
      "source": [
        "i = 1\n",
        "while i < 6:\n",
        "  print(i)\n",
        "  i += 1"
      ],
      "metadata": {
        "colab": {
          "base_uri": "https://localhost:8080/"
        },
        "id": "TH81MrWXBXF-",
        "outputId": "9d952ec8-79a0-4d4a-af7a-6f5e905044ff"
      },
      "execution_count": 241,
      "outputs": [
        {
          "output_type": "stream",
          "name": "stdout",
          "text": [
            "1\n",
            "2\n",
            "3\n",
            "4\n",
            "5\n"
          ]
        }
      ]
    },
    {
      "cell_type": "markdown",
      "source": [
        "Exit the loop when i is 3:"
      ],
      "metadata": {
        "id": "W3FCrqDZBa3B"
      }
    },
    {
      "cell_type": "code",
      "source": [
        "i = 1\n",
        "while i < 6:\n",
        "  print(i)\n",
        "  if i == 3:\n",
        "    break\n",
        "  i += 1"
      ],
      "metadata": {
        "colab": {
          "base_uri": "https://localhost:8080/"
        },
        "id": "rgoMlunwBcgw",
        "outputId": "7d3887c9-18f8-4d0d-854d-500e28c9e752"
      },
      "execution_count": 242,
      "outputs": [
        {
          "output_type": "stream",
          "name": "stdout",
          "text": [
            "1\n",
            "2\n",
            "3\n"
          ]
        }
      ]
    },
    {
      "cell_type": "markdown",
      "source": [
        "Continue to the next iteration if i is 3:"
      ],
      "metadata": {
        "id": "h3dwenZeBeXL"
      }
    },
    {
      "cell_type": "code",
      "source": [
        "i = 0\n",
        "while i < 6:\n",
        "  i += 1\n",
        "  if i == 3:\n",
        "    continue\n",
        "  print(i)"
      ],
      "metadata": {
        "colab": {
          "base_uri": "https://localhost:8080/"
        },
        "id": "GCQDuGUFBfgi",
        "outputId": "04001125-2636-4a4c-df96-bc9d86b94271"
      },
      "execution_count": 243,
      "outputs": [
        {
          "output_type": "stream",
          "name": "stdout",
          "text": [
            "1\n",
            "2\n",
            "4\n",
            "5\n",
            "6\n"
          ]
        }
      ]
    },
    {
      "cell_type": "markdown",
      "source": [
        "Print a message once the condition is false:"
      ],
      "metadata": {
        "id": "2rb2vcMpBhWQ"
      }
    },
    {
      "cell_type": "code",
      "source": [
        "i = 1\n",
        "while i < 6:\n",
        "  print(i)\n",
        "  i += 1\n",
        "else:\n",
        "  print(\"i is no longer less than 6\")"
      ],
      "metadata": {
        "colab": {
          "base_uri": "https://localhost:8080/"
        },
        "id": "_2Rl3LcLBh9d",
        "outputId": "73f95a84-30af-4fc1-d561-63d949e4625a"
      },
      "execution_count": 244,
      "outputs": [
        {
          "output_type": "stream",
          "name": "stdout",
          "text": [
            "1\n",
            "2\n",
            "3\n",
            "4\n",
            "5\n",
            "i is no longer less than 6\n"
          ]
        }
      ]
    },
    {
      "cell_type": "markdown",
      "source": [
        "**14.2. For Loops**"
      ],
      "metadata": {
        "id": "Y3fr2mNdBk3D"
      }
    },
    {
      "cell_type": "markdown",
      "source": [
        "Print each fruit in a fruit list:"
      ],
      "metadata": {
        "id": "kVPyqELjBnnT"
      }
    },
    {
      "cell_type": "code",
      "source": [
        "fruits = [\"apple\", \"banana\", \"cherry\"]\n",
        "for x in fruits:\n",
        "  print(x)"
      ],
      "metadata": {
        "colab": {
          "base_uri": "https://localhost:8080/"
        },
        "id": "82OyFlk5Boo-",
        "outputId": "3ccf4d6e-f94c-4723-ddeb-75e94bc50ec7"
      },
      "execution_count": 245,
      "outputs": [
        {
          "output_type": "stream",
          "name": "stdout",
          "text": [
            "apple\n",
            "banana\n",
            "cherry\n"
          ]
        }
      ]
    },
    {
      "cell_type": "markdown",
      "source": [
        "Loop through the letters in the word \"banana\":"
      ],
      "metadata": {
        "id": "ZFrP-1NKBrGq"
      }
    },
    {
      "cell_type": "code",
      "source": [
        "for x in \"banana\":\n",
        "  print(x)"
      ],
      "metadata": {
        "colab": {
          "base_uri": "https://localhost:8080/"
        },
        "id": "bMjTTYnVBstK",
        "outputId": "2d580810-dcee-4969-fe42-81179f7c42bb"
      },
      "execution_count": 246,
      "outputs": [
        {
          "output_type": "stream",
          "name": "stdout",
          "text": [
            "b\n",
            "a\n",
            "n\n",
            "a\n",
            "n\n",
            "a\n"
          ]
        }
      ]
    },
    {
      "cell_type": "markdown",
      "source": [
        "Exit the loop when x is \"banana\":"
      ],
      "metadata": {
        "id": "0oImQdogBuE2"
      }
    },
    {
      "cell_type": "code",
      "source": [
        "fruits = [\"apple\", \"banana\", \"cherry\"]\n",
        "for x in fruits:\n",
        "  print(x)\n",
        "  if x == \"banana\":\n",
        "    break"
      ],
      "metadata": {
        "colab": {
          "base_uri": "https://localhost:8080/"
        },
        "id": "3LTjsitFBvK7",
        "outputId": "5d7b76d0-3b39-4847-81b9-08a2c54b8d80"
      },
      "execution_count": 247,
      "outputs": [
        {
          "output_type": "stream",
          "name": "stdout",
          "text": [
            "apple\n",
            "banana\n"
          ]
        }
      ]
    },
    {
      "cell_type": "markdown",
      "source": [
        "Exit the loop when x is \"banana\", but this time the break comes before the print:"
      ],
      "metadata": {
        "id": "Fvd76SvYBw-_"
      }
    },
    {
      "cell_type": "code",
      "source": [
        "fruits = [\"apple\", \"banana\", \"cherry\"]\n",
        "for x in fruits:\n",
        "  if x == \"banana\":\n",
        "    break\n",
        "  print(x)"
      ],
      "metadata": {
        "colab": {
          "base_uri": "https://localhost:8080/"
        },
        "id": "UgLX_BENBybt",
        "outputId": "3a61ba1a-e1fd-420d-f430-017e7df5c970"
      },
      "execution_count": 248,
      "outputs": [
        {
          "output_type": "stream",
          "name": "stdout",
          "text": [
            "apple\n"
          ]
        }
      ]
    },
    {
      "cell_type": "markdown",
      "source": [
        "Do not print banana:"
      ],
      "metadata": {
        "id": "g8a8Y6TQBzxL"
      }
    },
    {
      "cell_type": "code",
      "source": [
        "fruits = [\"apple\", \"banana\", \"cherry\"]\n",
        "for x in fruits:\n",
        "  if x == \"banana\":\n",
        "    continue\n",
        "  print(x)"
      ],
      "metadata": {
        "colab": {
          "base_uri": "https://localhost:8080/"
        },
        "id": "gC2zuRU7B0yo",
        "outputId": "60c8ba30-4c25-47bb-cb8c-57fe36aef3e3"
      },
      "execution_count": 249,
      "outputs": [
        {
          "output_type": "stream",
          "name": "stdout",
          "text": [
            "apple\n",
            "cherry\n"
          ]
        }
      ]
    },
    {
      "cell_type": "markdown",
      "source": [
        "Using the range() function:"
      ],
      "metadata": {
        "id": "tiXmh-7PB7Bb"
      }
    },
    {
      "cell_type": "code",
      "source": [
        "for x in range(6):\n",
        "  print(x)"
      ],
      "metadata": {
        "colab": {
          "base_uri": "https://localhost:8080/"
        },
        "id": "zROBUYlkB771",
        "outputId": "c689581a-d555-4c41-b72d-bb5e40484d5f"
      },
      "execution_count": 250,
      "outputs": [
        {
          "output_type": "stream",
          "name": "stdout",
          "text": [
            "0\n",
            "1\n",
            "2\n",
            "3\n",
            "4\n",
            "5\n"
          ]
        }
      ]
    },
    {
      "cell_type": "markdown",
      "source": [
        "Using the start parameter:"
      ],
      "metadata": {
        "id": "fKtpMgP_B-ZC"
      }
    },
    {
      "cell_type": "code",
      "source": [
        "for x in range(2, 6):\n",
        "  print(x)"
      ],
      "metadata": {
        "colab": {
          "base_uri": "https://localhost:8080/"
        },
        "id": "XVQQ2AtkB_Us",
        "outputId": "fdb515ed-99cd-46cd-bd79-97826980edde"
      },
      "execution_count": 251,
      "outputs": [
        {
          "output_type": "stream",
          "name": "stdout",
          "text": [
            "2\n",
            "3\n",
            "4\n",
            "5\n"
          ]
        }
      ]
    },
    {
      "cell_type": "markdown",
      "source": [
        "Increment the sequence with 3 (default is 1):"
      ],
      "metadata": {
        "id": "p35JuW2HCA1Q"
      }
    },
    {
      "cell_type": "code",
      "source": [
        "for x in range(2, 30, 3):\n",
        "  print(x)"
      ],
      "metadata": {
        "colab": {
          "base_uri": "https://localhost:8080/"
        },
        "id": "3Rz7-GD0CCNm",
        "outputId": "984054d5-8786-4964-be16-6f86723925a4"
      },
      "execution_count": 252,
      "outputs": [
        {
          "output_type": "stream",
          "name": "stdout",
          "text": [
            "2\n",
            "5\n",
            "8\n",
            "11\n",
            "14\n",
            "17\n",
            "20\n",
            "23\n",
            "26\n",
            "29\n"
          ]
        }
      ]
    },
    {
      "cell_type": "markdown",
      "source": [
        "Print all numbers from 0 to 5, and print a message when the loop has ended:"
      ],
      "metadata": {
        "id": "yonL9BuoCDst"
      }
    },
    {
      "cell_type": "code",
      "source": [
        "for x in range(6):\n",
        "  print(x)\n",
        "else:\n",
        "  print(\"Finally finished!\")"
      ],
      "metadata": {
        "colab": {
          "base_uri": "https://localhost:8080/"
        },
        "id": "EzILt2WmCFoc",
        "outputId": "527d3611-514d-41cf-9aef-ebae30875eed"
      },
      "execution_count": 253,
      "outputs": [
        {
          "output_type": "stream",
          "name": "stdout",
          "text": [
            "0\n",
            "1\n",
            "2\n",
            "3\n",
            "4\n",
            "5\n",
            "Finally finished!\n"
          ]
        }
      ]
    },
    {
      "cell_type": "markdown",
      "source": [
        "Break the loop when x is 3, and see what happens with the else block:"
      ],
      "metadata": {
        "id": "V-gLX25uCHC9"
      }
    },
    {
      "cell_type": "code",
      "source": [
        "for x in range(6):\n",
        "  if x == 3: break\n",
        "  print(x)\n",
        "else:\n",
        "  print(\"Finally finished!\""
      ],
      "metadata": {
        "id": "k5wqz_5MCIP7"
      },
      "execution_count": null,
      "outputs": []
    },
    {
      "cell_type": "markdown",
      "source": [
        "**14.3. Nested Loops**"
      ],
      "metadata": {
        "id": "9kTDeZNtCL2x"
      }
    },
    {
      "cell_type": "markdown",
      "source": [
        "Print each adjective for every fruit:"
      ],
      "metadata": {
        "id": "IkMLUFswCPoa"
      }
    },
    {
      "cell_type": "code",
      "source": [
        "adj = [\"red\", \"big\", \"tasty\"]\n",
        "fruits = [\"apple\", \"banana\", \"cherry\"]\n",
        "\n",
        "for x in adj:\n",
        "  for y in fruits:\n",
        "    print(x, y)"
      ],
      "metadata": {
        "colab": {
          "base_uri": "https://localhost:8080/"
        },
        "id": "j613ZlmWCPKK",
        "outputId": "1d84dcb5-fb98-4d1a-8757-5716cb6e3515"
      },
      "execution_count": 254,
      "outputs": [
        {
          "output_type": "stream",
          "name": "stdout",
          "text": [
            "red apple\n",
            "red banana\n",
            "red cherry\n",
            "big apple\n",
            "big banana\n",
            "big cherry\n",
            "tasty apple\n",
            "tasty banana\n",
            "tasty cherry\n"
          ]
        }
      ]
    },
    {
      "cell_type": "markdown",
      "source": [
        "**15. Functions**"
      ],
      "metadata": {
        "id": "kWv55ZO9CUsY"
      }
    },
    {
      "cell_type": "markdown",
      "source": [
        "In Python a function is defined using the def keyword:"
      ],
      "metadata": {
        "id": "yxBRamMECYXm"
      }
    },
    {
      "cell_type": "code",
      "source": [
        "def my_function():\n",
        "  print(\"Hello from a function\")"
      ],
      "metadata": {
        "id": "zYOaR5HICZTb"
      },
      "execution_count": 255,
      "outputs": []
    },
    {
      "cell_type": "markdown",
      "source": [
        "Calling a Function"
      ],
      "metadata": {
        "id": "AbbcL4YUCbSr"
      }
    },
    {
      "cell_type": "code",
      "source": [
        "def my_function():\n",
        "  print(\"Hello from a function\")\n",
        "\n",
        "my_function()"
      ],
      "metadata": {
        "colab": {
          "base_uri": "https://localhost:8080/"
        },
        "id": "M79XxLO8CcMD",
        "outputId": "fd89ed6b-b72d-4c6a-cab9-c6b8e26ac1cb"
      },
      "execution_count": 256,
      "outputs": [
        {
          "output_type": "stream",
          "name": "stdout",
          "text": [
            "Hello from a function\n"
          ]
        }
      ]
    },
    {
      "cell_type": "markdown",
      "source": [
        "Information can be passed into functions as arguments."
      ],
      "metadata": {
        "id": "252BEydbCfDJ"
      }
    },
    {
      "cell_type": "code",
      "source": [
        "def my_function(fname):\n",
        "  print(fname + \" Refsnes\")\n",
        "\n",
        "my_function(\"Emil\")\n",
        "my_function(\"Tobias\")\n",
        "my_function(\"Linus\")"
      ],
      "metadata": {
        "colab": {
          "base_uri": "https://localhost:8080/"
        },
        "id": "qvGuN7IECf0F",
        "outputId": "fd28efdc-8d2c-488c-964e-e908553a6fc5"
      },
      "execution_count": 257,
      "outputs": [
        {
          "output_type": "stream",
          "name": "stdout",
          "text": [
            "Emil Refsnes\n",
            "Tobias Refsnes\n",
            "Linus Refsnes\n"
          ]
        }
      ]
    },
    {
      "cell_type": "markdown",
      "source": [
        "This function expects 2 arguments, and gets 2 arguments:"
      ],
      "metadata": {
        "id": "QralIMQLChzM"
      }
    },
    {
      "cell_type": "code",
      "source": [
        "def my_function(fname, lname):\n",
        "  print(fname + \" \" + lname)\n",
        "\n",
        "my_function(\"Emil\", \"Refsnes\")"
      ],
      "metadata": {
        "colab": {
          "base_uri": "https://localhost:8080/"
        },
        "id": "89jfCYVgCjAD",
        "outputId": "d89a3772-8c40-4f3a-e3d3-61b481cb17b1"
      },
      "execution_count": 258,
      "outputs": [
        {
          "output_type": "stream",
          "name": "stdout",
          "text": [
            "Emil Refsnes\n"
          ]
        }
      ]
    },
    {
      "cell_type": "markdown",
      "source": [
        "If the number of arguments is unknown, add a * before the parameter name:"
      ],
      "metadata": {
        "id": "As1Lu8MdCxfD"
      }
    },
    {
      "cell_type": "code",
      "source": [
        "def my_function(*kids):\n",
        "  print(\"The youngest child is \" + kids[2])\n",
        "\n",
        "my_function(\"Emil\", \"Tobias\", \"Linus\")"
      ],
      "metadata": {
        "colab": {
          "base_uri": "https://localhost:8080/"
        },
        "id": "bXbvS28mCynE",
        "outputId": "2b3f3439-c896-4a4a-d8c8-5f9dd7bf330a"
      },
      "execution_count": 259,
      "outputs": [
        {
          "output_type": "stream",
          "name": "stdout",
          "text": [
            "The youngest child is Linus\n"
          ]
        }
      ]
    },
    {
      "cell_type": "markdown",
      "source": [
        "Keyword Arguments"
      ],
      "metadata": {
        "id": "d9FE_JkjE0fL"
      }
    },
    {
      "cell_type": "code",
      "source": [
        "def my_function(child3, child2, child1):\n",
        "  print(\"The youngest child is \" + child3)\n",
        "\n",
        "my_function(child1 = \"Emil\", child2 = \"Tobias\", child3 = \"Linus\")"
      ],
      "metadata": {
        "colab": {
          "base_uri": "https://localhost:8080/"
        },
        "id": "ZZoS6hbcE1oj",
        "outputId": "11197f44-9463-4f89-c98e-75a8b093219d"
      },
      "execution_count": 260,
      "outputs": [
        {
          "output_type": "stream",
          "name": "stdout",
          "text": [
            "The youngest child is Linus\n"
          ]
        }
      ]
    },
    {
      "cell_type": "markdown",
      "source": [
        "If the number of keyword arguments is unknown, add a double ** before the parameter name:"
      ],
      "metadata": {
        "id": "ngL6KeutE3c8"
      }
    },
    {
      "cell_type": "code",
      "source": [
        "def my_function(**kid):\n",
        "  print(\"His last name is \" + kid[\"lname\"])\n",
        "\n",
        "my_function(fname = \"Tobias\", lname = \"Refsnes\")"
      ],
      "metadata": {
        "colab": {
          "base_uri": "https://localhost:8080/"
        },
        "id": "-eBTc2vgE4yV",
        "outputId": "bcb8104e-1c7a-4f4a-822a-53024f515fbf"
      },
      "execution_count": 261,
      "outputs": [
        {
          "output_type": "stream",
          "name": "stdout",
          "text": [
            "His last name is Refsnes\n"
          ]
        }
      ]
    },
    {
      "cell_type": "markdown",
      "source": [
        "Default Parameter Value"
      ],
      "metadata": {
        "id": "ku2r3e0ME7P-"
      }
    },
    {
      "cell_type": "code",
      "source": [
        "def my_function(country = \"Norway\"):\n",
        "  print(\"I am from \" + country)\n",
        "\n",
        "my_function(\"Sweden\")\n",
        "my_function(\"India\")\n",
        "my_function()\n",
        "my_function(\"Brazil\")"
      ],
      "metadata": {
        "colab": {
          "base_uri": "https://localhost:8080/"
        },
        "id": "SrcwP0hhE8y4",
        "outputId": "72a7a30e-1aef-4460-ca7e-2dbdaf62fdfc"
      },
      "execution_count": 262,
      "outputs": [
        {
          "output_type": "stream",
          "name": "stdout",
          "text": [
            "I am from Sweden\n",
            "I am from India\n",
            "I am from Norway\n",
            "I am from Brazil\n"
          ]
        }
      ]
    },
    {
      "cell_type": "markdown",
      "source": [
        "Passing a List as an Argument"
      ],
      "metadata": {
        "id": "2WXg0vszE-06"
      }
    },
    {
      "cell_type": "code",
      "source": [
        "def my_function(food):\n",
        "  for x in food:\n",
        "    print(x)\n",
        "\n",
        "fruits = [\"apple\", \"banana\", \"cherry\"]\n",
        "\n",
        "my_function(fruits)"
      ],
      "metadata": {
        "colab": {
          "base_uri": "https://localhost:8080/"
        },
        "id": "xshkTarSE_2C",
        "outputId": "b43ca1a1-3362-4d9c-f45d-f508bd2b2534"
      },
      "execution_count": 263,
      "outputs": [
        {
          "output_type": "stream",
          "name": "stdout",
          "text": [
            "apple\n",
            "banana\n",
            "cherry\n"
          ]
        }
      ]
    },
    {
      "cell_type": "markdown",
      "source": [
        "Return Values"
      ],
      "metadata": {
        "id": "eJqOphV4FBRM"
      }
    },
    {
      "cell_type": "code",
      "source": [
        "def my_function(x):\n",
        "  return 5 * x\n",
        "\n",
        "print(my_function(3))\n",
        "print(my_function(5))\n",
        "print(my_function(9))"
      ],
      "metadata": {
        "colab": {
          "base_uri": "https://localhost:8080/"
        },
        "id": "XlSPPabDFCu6",
        "outputId": "162104b0-1633-461e-ef5a-39da2475c567"
      },
      "execution_count": 264,
      "outputs": [
        {
          "output_type": "stream",
          "name": "stdout",
          "text": [
            "15\n",
            "25\n",
            "45\n"
          ]
        }
      ]
    },
    {
      "cell_type": "markdown",
      "source": [
        "The pass Statement"
      ],
      "metadata": {
        "id": "kkc-wAsFFFBq"
      }
    },
    {
      "cell_type": "code",
      "source": [
        "def myfunction():\n",
        "  pass"
      ],
      "metadata": {
        "id": "Dn22Q2akFGAC"
      },
      "execution_count": 265,
      "outputs": []
    },
    {
      "cell_type": "markdown",
      "source": [
        "Recursion"
      ],
      "metadata": {
        "id": "H9gTk40MFJcI"
      }
    },
    {
      "cell_type": "code",
      "source": [
        "def tri_recursion(k):\n",
        "  if(k > 0):\n",
        "    result = k + tri_recursion(k - 1)\n",
        "    print(result)\n",
        "  else:\n",
        "    result = 0\n",
        "  return result\n",
        "\n",
        "print(\"\\n\\nRecursion Example Results\")\n",
        "tri_recursion(6)"
      ],
      "metadata": {
        "colab": {
          "base_uri": "https://localhost:8080/"
        },
        "id": "DbGpFkS3FKlf",
        "outputId": "e6c3aa3d-f1b7-424e-93ad-85ffd9c33114"
      },
      "execution_count": 266,
      "outputs": [
        {
          "output_type": "stream",
          "name": "stdout",
          "text": [
            "\n",
            "\n",
            "Recursion Example Results\n",
            "1\n",
            "3\n",
            "6\n",
            "10\n",
            "15\n",
            "21\n"
          ]
        },
        {
          "output_type": "execute_result",
          "data": {
            "text/plain": [
              "21"
            ]
          },
          "metadata": {},
          "execution_count": 266
        }
      ]
    },
    {
      "cell_type": "markdown",
      "source": [
        "**16. Lambda**"
      ],
      "metadata": {
        "id": "1yIgi4gWFVSD"
      }
    },
    {
      "cell_type": "markdown",
      "source": [
        "Add 10 to argument a, and return the result:"
      ],
      "metadata": {
        "id": "ERlmWNb2FbRq"
      }
    },
    {
      "cell_type": "code",
      "source": [
        "x = lambda a : a + 10\n",
        "print(x(5))"
      ],
      "metadata": {
        "colab": {
          "base_uri": "https://localhost:8080/"
        },
        "id": "lASf3_8-FdTe",
        "outputId": "a72c7096-ad44-427c-cdd3-d597c9306420"
      },
      "execution_count": 267,
      "outputs": [
        {
          "output_type": "stream",
          "name": "stdout",
          "text": [
            "15\n"
          ]
        }
      ]
    },
    {
      "cell_type": "markdown",
      "source": [
        "Multiply argument a with argument b and return the result:"
      ],
      "metadata": {
        "id": "-5bBr5q1Fgyt"
      }
    },
    {
      "cell_type": "code",
      "source": [
        "x = lambda a, b : a * b\n",
        "print(x(5, 6))"
      ],
      "metadata": {
        "colab": {
          "base_uri": "https://localhost:8080/"
        },
        "id": "66_YWMcEFaNn",
        "outputId": "25fad931-7790-4b14-e743-0c0ece0f5e72"
      },
      "execution_count": 268,
      "outputs": [
        {
          "output_type": "stream",
          "name": "stdout",
          "text": [
            "30\n"
          ]
        }
      ]
    },
    {
      "cell_type": "markdown",
      "source": [
        "Summarize argument a, b, and c and return the result:"
      ],
      "metadata": {
        "id": "52j79rFUFl_d"
      }
    },
    {
      "cell_type": "code",
      "source": [
        "x = lambda a, b, c : a + b + c\n",
        "print(x(5, 6, 2))"
      ],
      "metadata": {
        "colab": {
          "base_uri": "https://localhost:8080/"
        },
        "id": "DkYCMvrzFnGV",
        "outputId": "0d896301-2447-4f1e-9d32-2a49e0f92f4f"
      },
      "execution_count": 269,
      "outputs": [
        {
          "output_type": "stream",
          "name": "stdout",
          "text": [
            "13\n"
          ]
        }
      ]
    },
    {
      "cell_type": "markdown",
      "source": [
        "**17. Arrays**"
      ],
      "metadata": {
        "id": "_mEIHvFdFyPs"
      }
    },
    {
      "cell_type": "markdown",
      "source": [
        "Create an array containing car names:"
      ],
      "metadata": {
        "id": "U-K0R54zF0_V"
      }
    },
    {
      "cell_type": "code",
      "source": [
        "cars = [\"Ford\", \"Volvo\", \"BMW\"]"
      ],
      "metadata": {
        "id": "W8TfnG2bF19F"
      },
      "execution_count": 270,
      "outputs": []
    },
    {
      "cell_type": "markdown",
      "source": [
        "Get the value of the first array item:"
      ],
      "metadata": {
        "id": "gJPTWqf-F351"
      }
    },
    {
      "cell_type": "code",
      "source": [
        "x = cars[0]"
      ],
      "metadata": {
        "id": "kubMrMCyF5B1"
      },
      "execution_count": 271,
      "outputs": []
    },
    {
      "cell_type": "markdown",
      "source": [
        "Modify the value of the first array item:"
      ],
      "metadata": {
        "id": "x2nraLJBF6rU"
      }
    },
    {
      "cell_type": "code",
      "source": [
        "cars[0] = \"Toyota\""
      ],
      "metadata": {
        "id": "GnNN8ScsF7lQ"
      },
      "execution_count": 272,
      "outputs": []
    },
    {
      "cell_type": "markdown",
      "source": [
        "Return the number of elements in the cars array:"
      ],
      "metadata": {
        "id": "bAQKn_88F_-F"
      }
    },
    {
      "cell_type": "code",
      "source": [
        "x = len(cars)"
      ],
      "metadata": {
        "id": "34RLXWs7GBhU"
      },
      "execution_count": 273,
      "outputs": []
    },
    {
      "cell_type": "markdown",
      "source": [
        "Print each item in the cars array:"
      ],
      "metadata": {
        "id": "QBcuwB7VGFX3"
      }
    },
    {
      "cell_type": "code",
      "source": [
        "for x in cars:\n",
        "  print(x)"
      ],
      "metadata": {
        "colab": {
          "base_uri": "https://localhost:8080/"
        },
        "id": "8qAHbsZ2GGZr",
        "outputId": "ed10675e-5748-4558-a909-9f4430b939a5"
      },
      "execution_count": 274,
      "outputs": [
        {
          "output_type": "stream",
          "name": "stdout",
          "text": [
            "Toyota\n",
            "Volvo\n",
            "BMW\n"
          ]
        }
      ]
    },
    {
      "cell_type": "markdown",
      "source": [
        "Add one more element to the cars array:"
      ],
      "metadata": {
        "id": "4ohQbHRHGJFW"
      }
    },
    {
      "cell_type": "code",
      "source": [
        "cars.append(\"Honda\")"
      ],
      "metadata": {
        "id": "nlhdh4WhGJ7g"
      },
      "execution_count": 275,
      "outputs": []
    },
    {
      "cell_type": "markdown",
      "source": [
        "Delete the second element of the cars array:"
      ],
      "metadata": {
        "id": "M2LhO3PNGgR2"
      }
    },
    {
      "cell_type": "code",
      "source": [
        "cars.pop(1)"
      ],
      "metadata": {
        "colab": {
          "base_uri": "https://localhost:8080/",
          "height": 36
        },
        "id": "1vxUQQJoGhFd",
        "outputId": "dcfca589-c8d9-49f6-9819-10b2729c6b16"
      },
      "execution_count": 276,
      "outputs": [
        {
          "output_type": "execute_result",
          "data": {
            "text/plain": [
              "'Volvo'"
            ],
            "application/vnd.google.colaboratory.intrinsic+json": {
              "type": "string"
            }
          },
          "metadata": {},
          "execution_count": 276
        }
      ]
    },
    {
      "cell_type": "markdown",
      "source": [
        "Delete the element that has the value \"Volvo\":"
      ],
      "metadata": {
        "id": "NWadwFETGisL"
      }
    },
    {
      "cell_type": "code",
      "source": [
        "cars = [\"Ford\", \"Volvo\", \"BMW\"]\n",
        "\n",
        "cars.remove(\"Volvo\")\n",
        "\n",
        "print(cars)"
      ],
      "metadata": {
        "colab": {
          "base_uri": "https://localhost:8080/"
        },
        "id": "El2VHhkEGjd7",
        "outputId": "b4b196f5-7c79-443e-de2e-c489d3c7c41e"
      },
      "execution_count": 278,
      "outputs": [
        {
          "output_type": "stream",
          "name": "stdout",
          "text": [
            "['Ford', 'BMW']\n"
          ]
        }
      ]
    },
    {
      "cell_type": "markdown",
      "source": [
        "**17.1. Array Methods**"
      ],
      "metadata": {
        "id": "Se-C1o6KG0Nx"
      }
    },
    {
      "cell_type": "markdown",
      "source": [
        "![Array Methods.png](data:image/png;base64,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)"
      ],
      "metadata": {
        "id": "Gt_-5e_jG3Ej"
      }
    },
    {
      "cell_type": "markdown",
      "source": [],
      "metadata": {
        "id": "LfKt_2-KHC0W"
      }
    }
  ]
}